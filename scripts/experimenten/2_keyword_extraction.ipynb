{
 "cells": [
  {
   "cell_type": "code",
   "execution_count": 70,
   "metadata": {},
   "outputs": [],
   "source": [
    "from langdetect import detect\n",
    "import yake\n",
    "import pandas as pd"
   ]
  },
  {
   "cell_type": "code",
   "execution_count": 71,
   "metadata": {},
   "outputs": [],
   "source": [
    "full_text_array = []\n",
    "\n",
    "full_text_array.append(\"\"\"\n",
    "Transfer binnen stottertherapie voor (jong)volwassenen\n",
    "Stotteren is een stoornis in de vloeiendheid van het spreken en komt naar schatting bij 0,7-1% van de wereldbevolking voor (Yairi & Seery, 2015). Het kan angst om te spreken of beperkingen in de effectieve communicatie, sociale participatie, of schoolresultaten of werkpresentaties, elk afzonderlijk of in combinatie veroorzaken (American Psychiatric Association, 2013). Binnen stottertherapie worden dan ook diverse doelen nagestreefd. Voor volwassenen kunnen deze worden ondergebracht in drie thema’s (Rodgers & Gerlach, 2020):\n",
    "1. Opmerken en aanpassen van fysiek gedrag bij het spreken als dat van persoonlijk belang is\n",
    "2. Ontwikkelen van neutrale of positieve gedachten en gevoelens\n",
    "3. Meer geëngageerd zijn in gesprekken ondanks dat men denkt te gaan stotteren\n",
    "Deze doelen kunnen worden nagestreefd via diverse therapeutische methoden, werkmodellen en behandeltechnieken, vaak gebaseerd op of gerelateerd aan ‘stuttering modification therapy’ en/of ‘fluency shaping therapy’. Bij elk van deze therapievormen kunnen de aanpak en de aangeleerde vaardigheden enigszins verschillen (NVLF, 2020). Een overeenkomst tussen deze therapievormen is evenwel dat de aangeleerde vaardigheden op een bepaald moment zullen worden toegepast in het dagelijks leven, ook wel de ‘transferfase’ genoemd. Tijdens deze fase zal de therapeut de persoon die stottert zo goed mogelijk begeleiden in het automatiseren en generaliseren van de aangeleerde vaardigheden buiten de therapieruimte (NVLF, 2020). Doorgaans worden de fasen van de exposure-based treatment toegepast bij deze transfer. Hierbij zal men onder andere bepalen onder welke omstandigheden de vaardigheden kunnen worden ingeoefend en zal een hiërarchie worden vastgelegd in het doorlopen van deze omstandigheden. Er wordt gestart met de omstandigheden die bij de persoon die stottert het minst reactie uitlokken en toegewerkt naar de omstandigheden die voor de persoon als meest uitdagend worden ervaren (Benito & Walther, 2015). Een gepaste opbouw is belangrijk aangezien het niet kunnen toepassen van de aangeleerde vaardigheden demotiverend kan zijn en mogelijk zelfs het zelfbeeld van de persoon die stottert negatief kan beïnvloeden (Eftekhari et al., 2013). Doorgaans start men in de therapieruimte met bijvoorbeeld het voorstellen/visualiseren van een situatie, of het uitvoeren van een rollenspel. In deze therapieruimte heeft men de situatie onder controle en kan deze aangepast worden aan de zorgvrager. In situaties in het dagelijkse leven buiten de therapieruimte en zonder de aanwezigheid van de stottertherapeut, is dit niet het geval. De blootstelling aan een gevreesde situatie in het dagelijkse leven is daardoor vaak niet optimaal en soms te sterk waardoor de aangeleerde vaardigheden alsnog niet kunnen worden toegepast (Benito & Walther, 2015). De concrete vraag die bij menig stottertherapeut leeft is dan ook hoe een tussenstap kan worden vormgegeven om deze transferfase verder te ondersteunen. Hoe kan het dagelijkse leven op realistische wijze worden binnengebracht in de veilige omgeving van de therapieruimte zodat de reactie van de persoon die stottert meer lijkt op deze die in het dagelijkse leven getoond wordt en de desensitisatie dus op een hoger niveau kan worden gebracht?\n",
    "Virtual reality De vraag tot het binnenbrengen van de realiteit in de therapieruimte wordt niet alleen binnen stottertherapie gesteld. Ook bij het behandelen van onder andere angststoornissen zoals fobieën, paniekaanvallen en posttraumatische stressstoornis probeert men desensitisatie te bereiken door het binnenbrengen van de realiteit in de praktijkruimte. Deze stoornissen tonen vergelijkbare affectieve, gedrags- en cognitieve componenten met die van stotteren (Brundage, 2007). Bij dit type stoornissen werden reeds positieve resultaten gezien door gebruik te maken van virtuele realiteit of kortweg VR (Kampmann et al., 2016) . VR is een door de computer gegenereerde omgeving die de gebruiker de illusie geeft in die situatie aanwezig te zijn. De virtuele realiteit wordt geproduceerd door input te geven aan de verschillende zintuigen: zicht, gehoor, beweging en soms zelfs geur. Wanneer de gebruiker beweegt of handelt, verandert het getoonde beeld samen met het bijbehorende geluid en de beweging (Burdett et al., 2016).\n",
    "Binnen logopedie staat het gebruik van VR nog in de kinderschoenen (Bryant et al., 2020). Wel onderzocht Walkom (2016) ‘virtual exposure therapy’ binnen stottertherapie. De personen die stotteren voelden en toonden dezelfde angsten bij het gebruik van VR als in het dagelijkse leven. Daarnaast werd opgemerkt dat de intensiteit van de angst afnam, het zelfvertrouwen van de\n",
    "\"\"\")\n",
    "\n",
    "\n",
    "full_text_array.append(\"\"\"\n",
    "deelnemers groeide en de vloeiendheid van de spraak verbeterde bij herhaaldelijke confrontatie van de situatie in VR. Almudhi (2021) vergeleek de stotterernst binnen VR met een gelijkaardige reële setting en hoe deze evolueerde na verloop van tijd. In zowel de virtuele als de reële setting werd na verloop van tijd door adaptatie en desensitisatie een reductie van de stotterernst gezien. Binnen VR was deze reductie van stotterernst iets groter. Hieruit volgde de hypothese dat deze omgeving minder stresserend is dan de reële omgeving en daarmee mogelijks een tussenstap kan vormen bij de transfer van de aangeleerde vaardigheden naar het dagelijkse leven (Almudhi, 2021).\n",
    "Vaezipour et al. (2021) onderzochten de acceptatie, barrières en stimulansen betreffende het gebruik van VR in de communicatieve revalidatie. Slechts een gering aantal logopedisten bleek al in contact te zijn gekomen met VR. Veel logopedisten stellen zich vragen rond kosten- en tijdefficiëntie. Het aanschaffen van bijvoorbeeld een VR-bril en applicaties kan immers een grote investering zijn voor een zelfstandige logopedist. Daarnaast kan het zich verdiepen in VR en het gebruik ervan zeer tijdsintensief zijn (Vaezipour et al., 2021).\n",
    "Om na te gaan of VR inderdaad een meerwaarde kan betekenen in de transfer binnen stottertherapie is het niet alleen belangrijk om het effect op de desensitisatie na te gaan, maar ook de bereidheid van de persoon die stottert om dit in te zetten. Volgende onderzoeksvragen werden in dit kader gesteld:\n",
    "1. Wordt VR als een potentiële meerwaarde ervaren door (jong)volwassenen die stotteren in functie van de transfer van de aangeleerde technieken naar het dagelijkse leven?\n",
    "2. Wat maakt dat VR wel/niet als potentiële meerwaarde wordt ervaren in deze context?\n",
    "METHODE Via twee prototypes werd bij een groep van personen die stotteren nagegaan of hun reactie op een bepaalde situatie in lijn ligt met deze die zij in realiteit zouden ervaren. Na deze ervaring werd in kaart gebracht waaraan VR volgens de testgroep moet voldoen om een meerwaarde te zijn voor personen die stotteren in de transferfase.\n",
    "Prototype 1 Er werden bij een eerste prototype drie scenario’s uitgewerkt die volgens de behandelend stottertherapeut/onderzoeker als uitdagend zouden kunnen worden ervaren door de betrokken testpersonen:\n",
    "- Scenario 1: een bestelling plaatsen bij de bakker\n",
    "- Scenario 2: jezelf voorstellen tijdens een informele voorstellingsronde in kleine groep\n",
    "- Scenario 3: spontaan vertellen over een opgegeven thema voor een grotere groep\n",
    "(zie bijlage 1)\n",
    "De scenario’s werden gefilmd met een smartphonecamera (iPhone 12) en afgespeeld met een VR-bril die de onderzoekers reeds ter beschikking hadden (HOMIDO1 virtual reality headset for smartphone, met bijhorende app ‘Homido Player’).\n",
    "Testgroep\n",
    "Dit prototype werd getest in de logopedische praktijk van één van de onderzoekers. De (jong)volwassen zorgvragers kregen de mogelijkheid om dit prototype vrijwillig te testen. In het totaal gingen 13 personen in op dit aanbod. De leeftijd van de testpersonen varieerde tussen 16 en 50 jaar (zie tabel 1). Ze waren allemaal de startfase van stottertherapie voorbij (≥ 3 maanden therapie).\n",
    "\"\"\")\n",
    "\n",
    "full_text_array.append(\"\"\"\n",
    "De testpersonen kozen zelf welk scenario voor hen het meest geschikt leek. Scenario 1 werd vier keer gekozen, scenario 2 vijf keer en scenario 3 vier keer.\n",
    "De gegeven instructies voor aanvang van de test met het prototype waren steeds dezelfde (zie bijlage 2). Tijdens de VR-ervaring observeerde de stottertherapeut/onderzoeker de testpersoon en noteerde de verbale en non-verbale reacties. Nadien werd de testpersoon door een tweede onderzoeker gevraagd naar hun ervaringen bij de afgelopen simulatie en de mate waarin deze simulatie als een meerwaarde werd gezien binnen therapie. Ook werd de kans gegeven verbetersuggesties te formuleren.\n",
    "Prototype 2\n",
    "Op basis van deze verbetersuggesties werd het prototype geoptimaliseerd op vlak van scenario en technische uitwerking. Inhoudelijk werd verder gewerkt met het meest gekozen scenario uit de eerste testfase, namelijk “jezelf voorstellen tijdens een informele voorstellingsronde in kleine groep”. Uit de feedback van het eerste prototype werd meegenomen dat er aandacht moest zijn voor de filmomgeving en het creëren van de gewenste sfeer in deze ruimte. Ook werden factoren die de spreekdruk verhogen toegevoegd om het scenario nog realistischer te maken. Deze factoren werden bepaald door een focusgroep waar 12 (jong)volwassenen die stotteren vrijwillig aan deelnamen en leidde tot volgende oplijsting: fronsen, hard knikken, opgejaagd worden, te veel staren, forceren om te spreken, friemelen, ongeïnteresseerd zijn, lachen, geroezemoes/achtergrondlawaai, expressie geassocieerd met schaamte/medelijden, gefilmd worden en spreken in een andere taal. Het merendeel van deze factoren werd geïntegreerd in het herwerkte scenario voor prototype 2 (zie bijlage 3). Bij het eerste prototype was er een beperkte interactie. De opname stopte na de uiting van de persoon die stottert. Bij dit tweede prototype werd ook een vervolgscenario uitgewerkt. Na de uiting van de persoon die stottert werd overgegaan naar een nieuwe vraag.\n",
    "Op technisch vlak werd voornamelijk het gebrek aan een 360°-ervaring als een beperking gezien in de eerste uitwerking. Het scenario werd tijdens de herwerking opgenomen met een 360°-camera (Ricoh Theta Z1) die ter beschikking werd gesteld door het 360° Interprofessioneel Zorglab van HOGENT.\n",
    "Testgroep\n",
    "Het tweede prototype werd eveneens getest in de logopedische praktijk van één van de onderzoekers. Voor dit testmoment werd gebruik gemaakt van een VR-bril die eveneens ter beschikking werd gesteld door het 360° Interprofessioneel Zorglab, namelijk Meta Quest 2. Ook werd het beeld van Meta Quest 2 gecast naar een computer zodat de stottertherapeut op het computerscherm kon zien wat de persoon die stottert op dat moment zag in de VR-bril. Twee personen gingen in op dit aanbod. Eén van hen maakte ook deel uit van de eerste testgroep. Na deze ervaring werd gevraagd in welke mate deze meer hoogtechnologische uitwerking ook als (meer) realistisch ervaren werd.\n",
    "RESULTATEN\n",
    "Prototype 1\n",
    "Beleving door de personen die stotteren\n",
    "\"\"\")\n",
    "\n",
    "full_text_array.append(\"\"\"\n",
    "Vooraf en/of tijdens de interactie werd door het merendeel van de testpersonen eenzelfde type spanning ervaren als deze die in een echte situatie ervaren wordt. Dit was voor de meesten onder hen onverwacht. De opbouw van het scenario vóór de effectieve interactie, bijvoorbeeld het wachten in de rij bij de bakker, werd aangehaald als meerwaarde.\n",
    "“Terwijl je jouw beurt afwacht, voel je de stress opkomen.”\n",
    "Een vrouwelijke testpersoon gaf aan bijkomende stress te ervaren omdat in haar scenario twee mannen in beeld kwamen met het daarmee gepaard gaande gevoel een goede indruk te willen maken. Verder werd aangegeven dat het niet goed kunnen inschatten wat gaat gebeuren ook een rol speelt. Ook dit zorgde voor extra druk en stress.\n",
    "“In het begin was ik overdonderd omdat het opeens aan mij was.”\n",
    "Hoewel druk en stress gevoeld werden, werd ook aangegeven dat deze minder groot waren dan in het dagelijkse leven. Zo vond een testpersoon vooral dat de filmomgeving niet realistisch was. Ook werd aangegeven het gevoel te hebben mee te spelen in een filmscript waarbij je geen invloed hebt op de gebeurtenis. Hierdoor werd voor deze testpersonen benadrukt dat het tijdens de VR-ervaring geen werkelijke dagelijkse realiteit betreft.\n",
    "“De emoties en gedachten waren wel ongeveer hetzelfde, maar je toch voelt dat het niet echt is.”\n",
    "De deelnemers gaven aan dat de stotterfrequentie gelijkaardig of iets minder was in vergelijking met het dagelijkse leven. Een testpersoon illustreert het controleverlies met een voorbeeld. Deze nam zich voor een “muffin” te bestellen. Tijdens het experiment werd de toenemende druk gevoeld waardoor het woord werd vermeden en uiteindelijk iets anders werd besteld. Bij een andere persoon resulteerde de ervaring in het niet meer kunnen toepassen van de aangeleerde technieken wat zich manifesteerde in een onbedoelde herhaling.\n",
    "“Ik heb gestotterd bij het moeilijk woord. Dat had ik niet gedacht.”\n",
    "Waarnemingen stottertherapeut\n",
    "De stottertherapeut die het experiment bijwoonde gaf aan dat bij de meeste deelnemers een goede inleving observeerbaar was. Op één persoon na kwamen haar indrukken overeen met de ervaring nadien beschreven door de testpersoon.\n",
    "“Hij verschoot even toen hij aan de beurt was en toonde een klein stotter-aanloopje; een geforceerde zucht. Daarna gebruikte hij zijn spreektechniek goed. Hij leefde zich precies wel goed in.”\n",
    "Meerwaarde in stottertherpie?\n",
    "De vraag of men dacht dat deze simulatie, op een meer hoogtechnologische manier uitgewerkt, een hulp zou kunnen zijn binnen stottertherapie werd unaniem positief beantwoord. Er werd aangegeven dat dit hen meer zelfzeker zou maken in voorbereiding op echte confrontaties.\n",
    "“Ik zou het als een deel van therapie zien, om grenzen te verleggen. Ik geloof wel dat als je die situaties oefent, dat je dan daarna in het echt minder stress gaat hebben.”\n",
    "Algemeen werd wel opgemerkt dat de VR-ervaring nog realistischer moest aanvoelen. Zo gaf een testpersoon aan het te willen gebruiken als het “echter” wordt voorgesteld. Voornamelijk 360°, verrassende wendingen en achtergrondlawaai vond deze persoon hierbij belangrijk. Op deze manier zouden de werkelijke spanningen, emoties en gedachten kunnen worden ervaren. Verder gaf men aan dat het pas echt voelt als er interactie is. Maatwerk op het vlak van interactie, de setting en mogelijke externe factoren zijn volgens hen van belang.\n",
    "“Zo geraak ik uit de ‘flow’ en moet ik echt technieken gaan toepassen.”\n",
    "Tot slot gaven de meeste testpersonen aan dat ze VR zouden inzetten om thuis te oefenen. VR werd door deze participanten omschreven als een ideale tussenstap binnen de stottertherapie als voorbereiding om situaties in het dagelijkse leven aan te gaan. De testpersonen die VR niet zouden gebruiken legden uit dat dit voor hen niet meer nodig is gezien de fase (afronding therapie) waarin zij zich momenteel bevinden. Voor hen biedt dit dus geen meerwaarde meer.\n",
    "\"\"\")\n",
    "\n",
    "full_text_array.append(\"\"\"\n",
    "Prototype 2\n",
    "Beleving door de personen die stotteren\n",
    "Het meer interactieve 360°-scenario met bijkomende spreekdrukverhogende factoren werd als heel realistisch ervaren. De testpersoon die ook het eerste prototype testte gaf aan dat hij zich veel meer ‘in’ de ruimte voelde bij dit tweede prototype in vergelijking met het eerste prototype waar hij meer het gevoel had naar een video te kijken. Er werd aangegeven dat hiermee veel minder beroep werd gedaan op het inlevingsvermogen.\n",
    "“Amai, ik voel me meteen aangesproken. Je wordt als het ware ondergedompeld in het scenario”.\n",
    "Beleving stottertherapeut\n",
    "Voor de stottertherapeut was het een grote meerwaarde dat het beeld van de VR-bril gecast werd naar de computer. Hierdoor kon ze volgen met wat de testpersoon zag.\n",
    "Meerwaarde in stottertherpie?\n",
    "De testpersonen gaven aan dat dit alvast een heel bruikbaar middel is om toe te passen in de transferfase binnen stottertherapie.\n",
    "“Het zou boeiend zijn mochten er verschillende scenario’s bestaan om te kunnen gebruiken.”\n",
    "De interactie bleef wel als aandachtspunt aangehaald worden. Deze mag nog iets realistischer. Er werd ook aangegeven dat het scenario gerust wat langer mocht duren.\n",
    "DISCUSSIE\n",
    "Dit onderzoek had tot doel na te gaan of VR inderdaad een meerwaarde kan betekenen in de transfer binnen stottertherapie. Daarbij werd voornamelijk gericht op de bereidheid van de persoon die stottert om dit in te zetten. Hieronder worden beide onderzoeksvragen die in dit kader werden gesteld, beantwoord.\n",
    "1. Wordt VR als een potentiële meerwaarde gezien door (jong)volwassenen die stotteren in functie van de transfer van de aangeleerde technieken naar het dagelijkse leven?\n",
    "Prototype 1 had voor de meeste deelnemers een grotere impact dan verwacht. Er werd een vorm van spanning ervaren zoals die ook in het dagelijkse leven in soortgelijke situaties ervaren wordt. Voor geen enkele testpersoon bracht de VR-ervaring meer spanning mee dan een soortgelijke ervaring in het dagelijkse leven. De stotterfrequentie werd door alle testpersonen ook als gelijkaardig of iets lager ten opzichte van deze in het dagelijkse leven ervaren. Deze resultaten lijken in lijn te liggen met de hypothese gesteld door Almudhi (2021). VR werd tijdens dit onderzoek als een ideale tussenstap voor het toepassen van de aangeleerde vaardigheden in het dagelijkse leven benoemd. Men ziet VR als een kans om grenzen te leren verleggen. Een moeilijke situatie kan meermaals geoefend worden waardoor in het echt mogelijks minder stress ervaren wordt. Eens de stap naar het toepassen van de aangeleerde vaardigheden in het dagelijkse leven gezet is, is oefenen met VR volgens de deelnemers niet zinvol meer.\n",
    "2. Wat maakt dat VR wel/niet als potentiële meerwaarde wordt ervaren in deze context?\n",
    "Verschillende factoren lijken invloed te hebben op de spanning die ervaren wordt door de persoon die stottert tijdens de VR-ervaring. Een eerste factor is de uitwerking van het scenario. Een voldoende lange opbouw voor de effectieve interactie werd aangehaald als meerwaarde. Hoe realistischer het verloop en de omgeving in beeld werden gebracht, hoe gemakkelijker het was om zich in te leven in de situatie. Hierbij werd geadviseerd de hele ruimte in beschouwing te nemen, inclusief achtergrondlawaai en algemene sfeer. Ook de personen waarmee in interactie werd\n",
    "\"\"\")\n",
    "\n",
    "full_text_array.append(\"\"\"\n",
    "gegaan, waren voor sommigen een beïnvloedende factor. Dit was voornamelijk het geval wanneer het iemand betrof waarop men een bepaalde indruk wenste te maken.\n",
    "Ook bleek het uitwerken van een realistische interactie een beïnvloedende factor. Bij het eerste prototype was er een beperkte interactie. De opname stopte na de uiting van de persoon die stottert. Bij het tweede prototype werd ook een vervolgscenario uitgewerkt. Na de uiting van de persoon die stottert werd overgegaan naar een nieuwe vraag. Op die manier werd een meer interactie bekomen. Dit werd alvast als meerwaarde gezien, maar het nastreven van een realistische interactie blijft het grootste aandachtspunt dat wordt meegegeven.\n",
    "Een laatste belangrijke factor blijkt de technologische uitwerking te zijn. Hoe meer laagtechnologisch de uitwerking was, hoe groter het benodigde inlevingsvermogen was van de testpersoon. Een aantal deelnemers adviseerden een 360°-opname om zich beter te kunnen inleven. Deze 360°-opname zorgde volgens de testpersonen voor een onderdompeling in het scenario. Er was veel minder inlevingsvermogen nodig bij deze uitwerking.\n",
    "Hoewel de prototypes slechts bij een beperkte groep (jong)volwassenen die stotteren werden getest, lijken de resultaten te wijzen op een grote bereidheid van deze doelgroep om VR in te zetten in de transferfase binnen stottertherapie. De testpersonen gaven aan dat ze naast de therapiesessie ook bereid zijn om thuis met de VR-bril zelfstandig te oefenen.\n",
    "Verder onderzoek\n",
    "Doelgroep\n",
    "De prototypes werden getest door een beperkte groep (jong)volwassenen die stotteren. Om de resultaten van dit onderzoek te verfijnen zijn grotere representatieve groepen nodig. Ook kan het monitoren van meer karakteristieken van de participanten mogelijks bijdragen tot het uitklaren van wat de minimale vereisten aan een VR-ervaring zijn bij de verschillende subgroepen. De ervaringen zouden gedurende de loop van een meer langdurige implementatie kunnen worden bijgehouden om een eventuele evolutie mee te nemen in de resultaten. Tijdens dit onderzoek betrof het slechts één kort testmoment van elk prototype. Daarnaast werd niet stilgestaan bij de (jong)volwassenen in de praktijk die de VR niet wensten te proberen. Het lijkt relevant om na te gaan wat hen tegenhoudt. Hebben ze weinig of geen interesse om met VR aan de slag te gaan? Houden bepaalde gevoeligheden (bv. motion sickness of migraine) hen tegen? Of spelen nog andere factoren een rol? Op die manier kunnen ook de contra-indicaties voor het gebruik van VR in kaart worden gebracht.\n",
    "Implementatie door stottertherapeuten\n",
    "Tijdens dit onderzoek werden materialen en mogelijkheden om VR te implementeren in de logopedische praktijk door een kleine groep stottertherapeuten getest en ingezet. Deze ervaringen zouden een uitgangspunt kunnen zijn voor een vervolgonderzoek met een grotere groep stottertherapeuten waarin voorkeuren, mogelijkheden en bereidheid tot implementatie in kaart worden gebracht. Op deze manier zouden concrete tips kunnen worden meegegeven in functie van het inzetten van VR in de praktijk, bv. aankoop van hardware.\n",
    "CONCLUSIE\n",
    "In dit onderzoek werd de bereidheid nagegaan van (jong)volwassenen die stotteren om VR in te zetten binnen stottertherapie. Via VR kan het dagelijkse leven namelijk worden binnengebracht in de veilige omgeving van de therapieruimte. Daarmee zou het een tussenstap kunnen vormen ter ondersteuning van de transferfase.\n",
    "Uit de resultaten van dit onderzoek blijkt dat (jong)volwassenen die stotteren een meerwaarde zien in de implementatie van VR tijdens de transferfase. Tijdens de ervaring met VR werd namelijk een soortgelijke spanning ervaren zoals deze die ervaren wordt in het dagelijkse leven in een gelijkaardige situatie. Hoe verder de ervaring met VR werd uitgewerkt op inhoudelijk en op technisch vlak, hoe minder inlevingsvermogen nodig bleek te zijn en hoe meer de deelnemers het gevoel kregen zich werkelijk in deze reële situatie te bevinden. Voor geen van de deelnemers was de ervaren spanning evenwel hoger dan deze in het dagelijkse leven waardoor de ervaring met VR werd gezien als een manier om hun grenzen stapsgewijs te verleggen. Een ander voordeel dat werd\n",
    "aangehaald is de mogelijkheid de situatie meermaals te hernemen. Van zodra de aangeleerde vaardigheden evenwel toegepast kunnen worden in het dagelijkse leven, blijkt het gebruik van VR geen meerwaarde meer te zijn. De tussenstap werd genomen en de zorgvrager kan op he\n",
    "\"\"\")"
   ]
  },
  {
   "cell_type": "code",
   "execution_count": 72,
   "metadata": {},
   "outputs": [],
   "source": [
    "full_text =\"\"\"\n",
    "INLEIDING\n",
    "Transfer binnen stottertherapie voor (jong)volwassenen\n",
    "Stotteren is een stoornis in de vloeiendheid van het spreken en komt naar schatting bij 0,7-1% van de wereldbevolking voor (Yairi & Seery, 2015). Het kan angst om te spreken of beperkingen in de effectieve communicatie, sociale participatie, of schoolresultaten of werkpresentaties, elk afzonderlijk of in combinatie veroorzaken (American Psychiatric Association, 2013). Binnen stottertherapie worden dan ook diverse doelen nagestreefd. Voor volwassenen kunnen deze worden ondergebracht in drie thema’s (Rodgers & Gerlach, 2020):\n",
    "1. Opmerken en aanpassen van fysiek gedrag bij het spreken als dat van persoonlijk belang is\n",
    "2. Ontwikkelen van neutrale of positieve gedachten en gevoelens\n",
    "3. Meer geëngageerd zijn in gesprekken ondanks dat men denkt te gaan stotteren\n",
    "Deze doelen kunnen worden nagestreefd via diverse therapeutische methoden, werkmodellen en behandeltechnieken, vaak gebaseerd op of gerelateerd aan ‘stuttering modification therapy’ en/of ‘fluency shaping therapy’. Bij elk van deze therapievormen kunnen de aanpak en de aangeleerde vaardigheden enigszins verschillen (NVLF, 2020). Een overeenkomst tussen deze therapievormen is evenwel dat de aangeleerde vaardigheden op een bepaald moment zullen worden toegepast in het dagelijks leven, ook wel de ‘transferfase’ genoemd. Tijdens deze fase zal de therapeut de persoon die stottert zo goed mogelijk begeleiden in het automatiseren en generaliseren van de aangeleerde vaardigheden buiten de therapieruimte (NVLF, 2020). Doorgaans worden de fasen van de exposure-based treatment toegepast bij deze transfer. Hierbij zal men onder andere bepalen onder welke omstandigheden de vaardigheden kunnen worden ingeoefend en zal een hiërarchie worden vastgelegd in het doorlopen van deze omstandigheden. Er wordt gestart met de omstandigheden die bij de persoon die stottert het minst reactie uitlokken en toegewerkt naar de omstandigheden die voor de persoon als meest uitdagend worden ervaren (Benito & Walther, 2015). Een gepaste opbouw is belangrijk aangezien het niet kunnen toepassen van de aangeleerde vaardigheden demotiverend kan zijn en mogelijk zelfs het zelfbeeld van de persoon die stottert negatief kan beïnvloeden (Eftekhari et al., 2013). Doorgaans start men in de therapieruimte met bijvoorbeeld het voorstellen/visualiseren van een situatie, of het uitvoeren van een rollenspel. In deze therapieruimte heeft men de situatie onder controle en kan deze aangepast worden aan de zorgvrager. In situaties in het dagelijkse leven buiten de therapieruimte en zonder de aanwezigheid van de stottertherapeut, is dit niet het geval. De blootstelling aan een gevreesde situatie in het dagelijkse leven is daardoor vaak niet optimaal en soms te sterk waardoor de aangeleerde vaardigheden alsnog niet kunnen worden toegepast (Benito & Walther, 2015). De concrete vraag die bij menig stottertherapeut leeft is dan ook hoe een tussenstap kan worden vormgegeven om deze transferfase verder te ondersteunen. Hoe kan het dagelijkse leven op realistische wijze worden binnengebracht in de veilige omgeving van de therapieruimte zodat de reactie van de persoon die stottert meer lijkt op deze die in het dagelijkse leven getoond wordt en de desensitisatie dus op een hoger niveau kan worden gebracht?\n",
    "Virtual reality\n",
    "De vraag tot het binnenbrengen van de realiteit in de therapieruimte wordt niet alleen binnen stottertherapie gesteld. Ook bij het behandelen van onder andere angststoornissen zoals fobieën, paniekaanvallen en posttraumatische stressstoornis probeert men desensitisatie te bereiken door het binnenbrengen van de realiteit in de praktijkruimte. Deze stoornissen tonen vergelijkbare affectieve, gedrags- en cognitieve componenten met die van stotteren (Brundage, 2007). Bij dit type stoornissen werden reeds positieve resultaten gezien door gebruik te maken van virtuele realiteit of kortweg VR (Kampmann et al., 2016) . VR is een door de computer gegenereerde omgeving die de gebruiker de illusie geeft in die situatie aanwezig te zijn. De virtuele realiteit wordt geproduceerd door input te geven aan de verschillende zintuigen: zicht, gehoor, beweging en soms zelfs geur. Wanneer de gebruiker beweegt of handelt, verandert het getoonde beeld samen met het bijbehorende geluid en de beweging (Burdett et al., 2016).\n",
    "Binnen logopedie staat het gebruik van VR nog in de kinderschoenen (Bryant et al., 2020). Wel onderzocht Walkom (2016) ‘virtual exposure therapy’ binnen stottertherapie. De personen die stotteren voelden en toonden dezelfde angsten bij het gebruik van VR als in het dagelijkse leven. Daarnaast werd opgemerkt dat de intensiteit van de angst afnam, het zelfvertrouwen van de\n",
    "deelnemers groeide en de vloeiendheid van de spraak verbeterde bij herhaaldelijke confrontatie van de situatie in VR. Almudhi (2021) vergeleek de stotterernst binnen VR met een gelijkaardige reële setting en hoe deze evolueerde na verloop van tijd. In zowel de virtuele als de reële setting werd na verloop van tijd door adaptatie en desensitisatie een reductie van de stotterernst gezien. Binnen VR was deze reductie van stotterernst iets groter. Hieruit volgde de hypothese dat deze omgeving minder stresserend is dan de reële omgeving en daarmee mogelijks een tussenstap kan vormen bij de transfer van de aangeleerde vaardigheden naar het dagelijkse leven (Almudhi, 2021).\n",
    "Vaezipour et al. (2021) onderzochten de acceptatie, barrières en stimulansen betreffende het gebruik van VR in de communicatieve revalidatie. Slechts een gering aantal logopedisten bleek al in contact te zijn gekomen met VR. Veel logopedisten stellen zich vragen rond kosten- en tijdefficiëntie. Het aanschaffen van bijvoorbeeld een VR-bril en applicaties kan immers een grote investering zijn voor een zelfstandige logopedist. Daarnaast kan het zich verdiepen in VR en het gebruik ervan zeer tijdsintensief zijn (Vaezipour et al., 2021).\n",
    "Om na te gaan of VR inderdaad een meerwaarde kan betekenen in de transfer binnen stottertherapie is het niet alleen belangrijk om het effect op de desensitisatie na te gaan, maar ook de bereidheid van de persoon die stottert om dit in te zetten. Volgende onderzoeksvragen werden in dit kader gesteld:\n",
    "1. Wordt VR als een potentiële meerwaarde ervaren door (jong)volwassenen die stotteren in functie van de transfer van de aangeleerde technieken naar het dagelijkse leven?\n",
    "2. Wat maakt dat VR wel/niet als potentiële meerwaarde wordt ervaren in deze context?\n",
    "METHODE\n",
    "Via twee prototypes werd bij een groep van personen die stotteren nagegaan of hun reactie op een bepaalde situatie in lijn ligt met deze die zij in realiteit zouden ervaren. Na deze ervaring werd in kaart gebracht waaraan VR volgens de testgroep moet voldoen om een meerwaarde te zijn voor personen die stotteren in de transferfase.\n",
    "Prototype 1\n",
    "Er werden bij een eerste prototype drie scenario’s uitgewerkt die volgens de behandelend stottertherapeut/onderzoeker als uitdagend zouden kunnen worden ervaren door de betrokken testpersonen:\n",
    "- Scenario 1: een bestelling plaatsen bij de bakker\n",
    "- Scenario 2: jezelf voorstellen tijdens een informele voorstellingsronde in kleine groep\n",
    "- Scenario 3: spontaan vertellen over een opgegeven thema voor een grotere groep\n",
    "(zie bijlage 1)\n",
    "De scenario’s werden gefilmd met een smartphonecamera (iPhone 12) en afgespeeld met een VR-bril die de onderzoekers reeds ter beschikking hadden (HOMIDO1 virtual reality headset for smartphone, met bijhorende app ‘Homido Player’).\n",
    "Testgroep\n",
    "Dit prototype werd getest in de logopedische praktijk van één van de onderzoekers. De (jong)volwassen zorgvragers kregen de mogelijkheid om dit prototype vrijwillig te testen. In het totaal gingen 13 personen in op dit aanbod. De leeftijd van de testpersonen varieerde tussen 16 en 50 jaar (zie tabel 1). Ze waren allemaal de startfase van stottertherapie voorbij (≥ 3 maanden therapie).\n",
    "Tabel 1. Leeftijd testpersonen prototype 1\n",
    "De testpersonen kozen zelf welk scenario voor hen het meest geschikt leek. Scenario 1 werd vier keer gekozen, scenario 2 vijf keer en scenario 3 vier keer.\n",
    "De gegeven instructies voor aanvang van de test met het prototype waren steeds dezelfde (zie bijlage 2). Tijdens de VR-ervaring observeerde de stottertherapeut/onderzoeker de testpersoon en noteerde de verbale en non-verbale reacties. Nadien werd de testpersoon door een tweede onderzoeker gevraagd naar hun ervaringen bij de afgelopen simulatie en de mate waarin deze simulatie als een meerwaarde werd gezien binnen therapie. Ook werd de kans gegeven verbetersuggesties te formuleren.\n",
    "Prototype 2\n",
    "Op basis van deze verbetersuggesties werd het prototype geoptimaliseerd op vlak van scenario en technische uitwerking. Inhoudelijk werd verder gewerkt met het meest gekozen scenario uit de eerste testfase, namelijk “jezelf voorstellen tijdens een informele voorstellingsronde in kleine groep”. Uit de feedback van het eerste prototype werd meegenomen dat er aandacht moest zijn voor de filmomgeving en het creëren van de gewenste sfeer in deze ruimte. Ook werden factoren die de spreekdruk verhogen toegevoegd om het scenario nog realistischer te maken. Deze factoren werden bepaald door een focusgroep waar 12 (jong)volwassenen die stotteren vrijwillig aan deelnamen en leidde tot volgende oplijsting: fronsen, hard knikken, opgejaagd worden, te veel staren, forceren om te spreken, friemelen, ongeïnteresseerd zijn, lachen, geroezemoes/achtergrondlawaai, expressie geassocieerd met schaamte/medelijden, gefilmd worden en spreken in een andere taal. Het merendeel van deze factoren werd geïntegreerd in het herwerkte scenario voor prototype 2 (zie bijlage 3). Bij het eerste prototype was er een beperkte interactie. De opname stopte na de uiting van de persoon die stottert. Bij dit tweede prototype werd ook een vervolgscenario uitgewerkt. Na de uiting van de persoon die stottert werd overgegaan naar een nieuwe vraag.\n",
    "Op technisch vlak werd voornamelijk het gebrek aan een 360°-ervaring als een beperking gezien in de eerste uitwerking. Het scenario werd tijdens de herwerking opgenomen met een 360°-camera (Ricoh Theta Z1) die ter beschikking werd gesteld door het 360° Interprofessioneel Zorglab van HOGENT.\n",
    "Testgroep\n",
    "Het tweede prototype werd eveneens getest in de logopedische praktijk van één van de onderzoekers. Voor dit testmoment werd gebruik gemaakt van een VR-bril die eveneens ter beschikking werd gesteld door het 360° Interprofessioneel Zorglab, namelijk Meta Quest 2. Ook werd het beeld van Meta Quest 2 gecast naar een computer zodat de stottertherapeut op het computerscherm kon zien wat de persoon die stottert op dat moment zag in de VR-bril. Twee personen gingen in op dit aanbod. Eén van hen maakte ook deel uit van de eerste testgroep. Na deze ervaring werd gevraagd in welke mate deze meer hoogtechnologische uitwerking ook als (meer) realistisch ervaren werd.\n",
    "RESULTATEN\n",
    "Prototype 1\n",
    "Beleving door de personen die stotteren\n",
    "Vooraf en/of tijdens de interactie werd door het merendeel van de testpersonen eenzelfde type spanning ervaren als deze die in een echte situatie ervaren wordt. Dit was voor de meesten onder hen onverwacht. De opbouw van het scenario vóór de effectieve interactie, bijvoorbeeld het wachten in de rij bij de bakker, werd aangehaald als meerwaarde.\n",
    "“Terwijl je jouw beurt afwacht, voel je de stress opkomen.”\n",
    "Een vrouwelijke testpersoon gaf aan bijkomende stress te ervaren omdat in haar scenario twee mannen in beeld kwamen met het daarmee gepaard gaande gevoel een goede indruk te willen maken. Verder werd aangegeven dat het niet goed kunnen inschatten wat gaat gebeuren ook een rol speelt. Ook dit zorgde voor extra druk en stress.\n",
    "“In het begin was ik overdonderd omdat het opeens aan mij was.”\n",
    "Hoewel druk en stress gevoeld werden, werd ook aangegeven dat deze minder groot waren dan in het dagelijkse leven. Zo vond een testpersoon vooral dat de filmomgeving niet realistisch was. Ook werd aangegeven het gevoel te hebben mee te spelen in een filmscript waarbij je geen invloed hebt op de gebeurtenis. Hierdoor werd voor deze testpersonen benadrukt dat het tijdens de VR-ervaring geen werkelijke dagelijkse realiteit betreft.\n",
    "“De emoties en gedachten waren wel ongeveer hetzelfde, maar je toch voelt dat het niet echt is.”\n",
    "De deelnemers gaven aan dat de stotterfrequentie gelijkaardig of iets minder was in vergelijking met het dagelijkse leven. Een testpersoon illustreert het controleverlies met een voorbeeld. Deze nam zich voor een “muffin” te bestellen. Tijdens het experiment werd de toenemende druk gevoeld waardoor het woord werd vermeden en uiteindelijk iets anders werd besteld. Bij een andere persoon resulteerde de ervaring in het niet meer kunnen toepassen van de aangeleerde technieken wat zich manifesteerde in een onbedoelde herhaling.\n",
    "“Ik heb gestotterd bij het moeilijk woord. Dat had ik niet gedacht.”\n",
    "Waarnemingen stottertherapeut\n",
    "De stottertherapeut die het experiment bijwoonde gaf aan dat bij de meeste deelnemers een goede inleving observeerbaar was. Op één persoon na kwamen haar indrukken overeen met de ervaring nadien beschreven door de testpersoon.\n",
    "“Hij verschoot even toen hij aan de beurt was en toonde een klein stotter-aanloopje; een geforceerde zucht. Daarna gebruikte hij zijn spreektechniek goed. Hij leefde zich precies wel goed in.”\n",
    "Meerwaarde in stottertherpie?\n",
    "De vraag of men dacht dat deze simulatie, op een meer hoogtechnologische manier uitgewerkt, een hulp zou kunnen zijn binnen stottertherapie werd unaniem positief beantwoord. Er werd aangegeven dat dit hen meer zelfzeker zou maken in voorbereiding op echte confrontaties.\n",
    "“Ik zou het als een deel van therapie zien, om grenzen te verleggen. Ik geloof wel dat als je die situaties oefent, dat je dan daarna in het echt minder stress gaat hebben.”\n",
    "Algemeen werd wel opgemerkt dat de VR-ervaring nog realistischer moest aanvoelen. Zo gaf een testpersoon aan het te willen gebruiken als het “echter” wordt voorgesteld. Voornamelijk 360°, verrassende wendingen en achtergrondlawaai vond deze persoon hierbij belangrijk. Op deze manier zouden de werkelijke spanningen, emoties en gedachten kunnen worden ervaren. Verder gaf men aan dat het pas echt voelt als er interactie is. Maatwerk op het vlak van interactie, de setting en mogelijke externe factoren zijn volgens hen van belang.\n",
    "“Zo geraak ik uit de ‘flow’ en moet ik echt technieken gaan toepassen.”\n",
    "Tot slot gaven de meeste testpersonen aan dat ze VR zouden inzetten om thuis te oefenen. VR werd door deze participanten omschreven als een ideale tussenstap binnen de stottertherapie als voorbereiding om situaties in het dagelijkse leven aan te gaan. De testpersonen die VR niet zouden gebruiken legden uit dat dit voor hen niet meer nodig is gezien de fase (afronding therapie) waarin zij zich momenteel bevinden. Voor hen biedt dit dus geen meerwaarde meer.\n",
    "“Het is zoals leren fietsen waarbij VR de rol van de zijwieltjes inneemt: een goed hulpmiddel, maar langzaamaan kan je zonder.”\n",
    "Prototype 2\n",
    "Beleving door de personen die stotteren\n",
    "Het meer interactieve 360°-scenario met bijkomende spreekdrukverhogende factoren werd als heel realistisch ervaren. De testpersoon die ook het eerste prototype testte gaf aan dat hij zich veel meer ‘in’ de ruimte voelde bij dit tweede prototype in vergelijking met het eerste prototype waar hij meer het gevoel had naar een video te kijken. Er werd aangegeven dat hiermee veel minder beroep werd gedaan op het inlevingsvermogen.\n",
    "“Amai, ik voel me meteen aangesproken. Je wordt als het ware ondergedompeld in het scenario”.\n",
    "Beleving stottertherapeut\n",
    "Voor de stottertherapeut was het een grote meerwaarde dat het beeld van de VR-bril gecast werd naar de computer. Hierdoor kon ze volgen met wat de testpersoon zag.\n",
    "Meerwaarde in stottertherpie?\n",
    "De testpersonen gaven aan dat dit alvast een heel bruikbaar middel is om toe te passen in de transferfase binnen stottertherapie.\n",
    "“Het zou boeiend zijn mochten er verschillende scenario’s bestaan om te kunnen gebruiken.”\n",
    "De interactie bleef wel als aandachtspunt aangehaald worden. Deze mag nog iets realistischer. Er werd ook aangegeven dat het scenario gerust wat langer mocht duren.\n",
    "DISCUSSIE\n",
    "Dit onderzoek had tot doel na te gaan of VR inderdaad een meerwaarde kan betekenen in de transfer binnen stottertherapie. Daarbij werd voornamelijk gericht op de bereidheid van de persoon die stottert om dit in te zetten. Hieronder worden beide onderzoeksvragen die in dit kader werden gesteld, beantwoord.\n",
    "1. Wordt VR als een potentiële meerwaarde gezien door (jong)volwassenen die stotteren in functie van de transfer van de aangeleerde technieken naar het dagelijkse leven?\n",
    "Prototype 1 had voor de meeste deelnemers een grotere impact dan verwacht. Er werd een vorm van spanning ervaren zoals die ook in het dagelijkse leven in soortgelijke situaties ervaren wordt. Voor geen enkele testpersoon bracht de VR-ervaring meer spanning mee dan een soortgelijke ervaring in het dagelijkse leven. De stotterfrequentie werd door alle testpersonen ook als gelijkaardig of iets lager ten opzichte van deze in het dagelijkse leven ervaren. Deze resultaten lijken in lijn te liggen met de hypothese gesteld door Almudhi (2021). VR werd tijdens dit onderzoek als een ideale tussenstap voor het toepassen van de aangeleerde vaardigheden in het dagelijkse leven benoemd. Men ziet VR als een kans om grenzen te leren verleggen. Een moeilijke situatie kan meermaals geoefend worden waardoor in het echt mogelijks minder stress ervaren wordt. Eens de stap naar het toepassen van de aangeleerde vaardigheden in het dagelijkse leven gezet is, is oefenen met VR volgens de deelnemers niet zinvol meer.\n",
    "2. Wat maakt dat VR wel/niet als potentiële meerwaarde wordt ervaren in deze context?\n",
    "Verschillende factoren lijken invloed te hebben op de spanning die ervaren wordt door de persoon die stottert tijdens de VR-ervaring. Een eerste factor is de uitwerking van het scenario. Een voldoende lange opbouw voor de effectieve interactie werd aangehaald als meerwaarde. Hoe realistischer het verloop en de omgeving in beeld werden gebracht, hoe gemakkelijker het was om zich in te leven in de situatie. Hierbij werd geadviseerd de hele ruimte in beschouwing te nemen, inclusief achtergrondlawaai en algemene sfeer. Ook de personen waarmee in interactie werd\n",
    "gegaan, waren voor sommigen een beïnvloedende factor. Dit was voornamelijk het geval wanneer het iemand betrof waarop men een bepaalde indruk wenste te maken.\n",
    "Ook bleek het uitwerken van een realistische interactie een beïnvloedende factor. Bij het eerste prototype was er een beperkte interactie. De opname stopte na de uiting van de persoon die stottert. Bij het tweede prototype werd ook een vervolgscenario uitgewerkt. Na de uiting van de persoon die stottert werd overgegaan naar een nieuwe vraag. Op die manier werd een meer interactie bekomen. Dit werd alvast als meerwaarde gezien, maar het nastreven van een realistische interactie blijft het grootste aandachtspunt dat wordt meegegeven.\n",
    "Een laatste belangrijke factor blijkt de technologische uitwerking te zijn. Hoe meer laagtechnologisch de uitwerking was, hoe groter het benodigde inlevingsvermogen was van de testpersoon. Een aantal deelnemers adviseerden een 360°-opname om zich beter te kunnen inleven. Deze 360°-opname zorgde volgens de testpersonen voor een onderdompeling in het scenario. Er was veel minder inlevingsvermogen nodig bij deze uitwerking.\n",
    "Hoewel de prototypes slechts bij een beperkte groep (jong)volwassenen die stotteren werden getest, lijken de resultaten te wijzen op een grote bereidheid van deze doelgroep om VR in te zetten in de transferfase binnen stottertherapie. De testpersonen gaven aan dat ze naast de therapiesessie ook bereid zijn om thuis met de VR-bril zelfstandig te oefenen.\n",
    "Verder onderzoek\n",
    "Doelgroep\n",
    "De prototypes werden getest door een beperkte groep (jong)volwassenen die stotteren. Om de resultaten van dit onderzoek te verfijnen zijn grotere representatieve groepen nodig. Ook kan het monitoren van meer karakteristieken van de participanten mogelijks bijdragen tot het uitklaren van wat de minimale vereisten aan een VR-ervaring zijn bij de verschillende subgroepen. De ervaringen zouden gedurende de loop van een meer langdurige implementatie kunnen worden bijgehouden om een eventuele evolutie mee te nemen in de resultaten. Tijdens dit onderzoek betrof het slechts één kort testmoment van elk prototype. Daarnaast werd niet stilgestaan bij de (jong)volwassenen in de praktijk die de VR niet wensten te proberen. Het lijkt relevant om na te gaan wat hen tegenhoudt. Hebben ze weinig of geen interesse om met VR aan de slag te gaan? Houden bepaalde gevoeligheden (bv. motion sickness of migraine) hen tegen? Of spelen nog andere factoren een rol? Op\n",
    "\"\"\""
   ]
  },
  {
   "attachments": {},
   "cell_type": "markdown",
   "metadata": {},
   "source": [
    "# YAKE"
   ]
  },
  {
   "cell_type": "code",
   "execution_count": 73,
   "metadata": {},
   "outputs": [],
   "source": [
    "def yake_keyword_extraction(text):\n",
    "    lang = detect(text)\n",
    "    max_ngram_size = 1\n",
    "    deduplication_threshold = 0.9\n",
    "    numOfKeywords = 10\n",
    "    custom_kw_extractor = yake.KeywordExtractor(lan=lang, n=max_ngram_size, dedupLim=deduplication_threshold, top=numOfKeywords, features=None)\n",
    "    return custom_kw_extractor.extract_keywords(text)"
   ]
  },
  {
   "cell_type": "code",
   "execution_count": 74,
   "metadata": {},
   "outputs": [
    {
     "data": {
      "text/plain": [
       "[('Prototype', 0.011077084876378153),\n",
       " ('scenario', 0.01121618731940741),\n",
       " ('dagelijkse', 0.016838557673103466),\n",
       " ('leven', 0.01687151371474807),\n",
       " ('ervaren', 0.018635357668527516),\n",
       " ('persoon', 0.018919885462095526),\n",
       " ('meerwaarde', 0.022942600437320597),\n",
       " ('Stotteren', 0.025985081081834734),\n",
       " ('stottert', 0.030566739983163733),\n",
       " ('aangeleerde', 0.031092848445508872)]"
      ]
     },
     "execution_count": 74,
     "metadata": {},
     "output_type": "execute_result"
    }
   ],
   "source": [
    "yake_keyword_extraction(full_text)"
   ]
  },
  {
   "cell_type": "code",
   "execution_count": 76,
   "metadata": {},
   "outputs": [],
   "source": [
    "array_keywords = []\n",
    "\n",
    "for text in full_text_array:\n",
    "    array_keywords.append(yake_keyword_extraction(full_text))"
   ]
  },
  {
   "cell_type": "code",
   "execution_count": 82,
   "metadata": {},
   "outputs": [
    {
     "name": "stdout",
     "output_type": "stream",
     "text": [
      "        Woord  Probabiliteit\n",
      "0   Prototype       0.011077\n",
      "1    scenario       0.011216\n",
      "2  dagelijkse       0.016839\n",
      "3       leven       0.016872\n",
      "4     ervaren       0.018635\n",
      "----------\n",
      "        Woord  Probabiliteit\n",
      "0   Prototype       0.011077\n",
      "1    scenario       0.011216\n",
      "2  dagelijkse       0.016839\n",
      "3       leven       0.016872\n",
      "4     ervaren       0.018635\n",
      "----------\n",
      "        Woord  Probabiliteit\n",
      "0   Prototype       0.011077\n",
      "1    scenario       0.011216\n",
      "2  dagelijkse       0.016839\n",
      "3       leven       0.016872\n",
      "4     ervaren       0.018635\n",
      "----------\n",
      "        Woord  Probabiliteit\n",
      "0   Prototype       0.011077\n",
      "1    scenario       0.011216\n",
      "2  dagelijkse       0.016839\n",
      "3       leven       0.016872\n",
      "4     ervaren       0.018635\n",
      "----------\n",
      "        Woord  Probabiliteit\n",
      "0   Prototype       0.011077\n",
      "1    scenario       0.011216\n",
      "2  dagelijkse       0.016839\n",
      "3       leven       0.016872\n",
      "4     ervaren       0.018635\n",
      "----------\n",
      "        Woord  Probabiliteit\n",
      "0   Prototype       0.011077\n",
      "1    scenario       0.011216\n",
      "2  dagelijkse       0.016839\n",
      "3       leven       0.016872\n",
      "4     ervaren       0.018635\n",
      "----------\n"
     ]
    }
   ],
   "source": [
    "for result in array_keywords:\n",
    "    df = pd.DataFrame(result, columns =['Woord', 'Probabiliteit'])\n",
    "    print(df.head(5))\n",
    "    print('-'*10)"
   ]
  },
  {
   "attachments": {},
   "cell_type": "markdown",
   "metadata": {},
   "source": [
    "# RAKE"
   ]
  },
  {
   "attachments": {},
   "cell_type": "markdown",
   "metadata": {},
   "source": [
    "# KeyBERT"
   ]
  },
  {
   "cell_type": "markdown",
   "metadata": {},
   "source": []
  },
  {
   "attachments": {},
   "cell_type": "markdown",
   "metadata": {},
   "source": [
    "# Chat GPT"
   ]
  },
  {
   "attachments": {},
   "cell_type": "markdown",
   "metadata": {},
   "source": [
    "## Ophalen data ChatGPT"
   ]
  },
  {
   "attachments": {},
   "cell_type": "markdown",
   "metadata": {},
   "source": [
    "De volgende prompt werd gegeven:\n",
    "\n",
    "```\n",
    "Genereer op basis van deze tekst een gesorteerde woordenlijst van moeilijke woorden in tabelvorm op maat voor scholieren van 16-18 jaar. Gebruik voor de betekenis eenvoudige woorden en zinnen korter dan tien woorden:\n",
    "\n",
    "formaat woord:betekenis\n",
    "\n",
    "{tekst}\n",
    "```\n",
    "\n",
    "De resultaten houden geen rekening met de gevraagde sortering, lengte van de zinnen en het beperken van de moeilijke woordenschat."
   ]
  },
  {
   "attachments": {},
   "cell_type": "markdown",
   "metadata": {},
   "source": [
    "Resultaat:\n",
    "Woord: betekenis\n",
    "Stoornis :\tEen aandoening waarbij iets in het lichaam of de geest niet goed werkt\n",
    "Vloeiendheid :\tDe mate waarin iemand zonder problemen spreekt\n",
    "Schatting :\tEen schatting is een ruwe berekening van iets waarvan de precieze waarde niet bekend is\n",
    "Beperkingen :\tDingen die ervoor zorgen dat iets niet zo goed werkt als het zou moeten\n",
    "Effectieve communicatie\t: Communiceren op een manier die werkt en waarbij de boodschap duidelijk wordt overgebracht\n",
    "Participatie :\tDeelname aan een activiteit of groep\n",
    "Werkpresentaties :\tHet geven van presentaties tijdens het werk\n",
    "Therapeutische methoden :\tBehandelingen die worden gebruikt om een ziekte of aandoening te behandelen\n",
    "Stuttering modification therapy\t: Therapie gericht op het verminderen van stotteren\n",
    "Fluency shaping therapy :\tTherapie gericht op het verbeteren van de vloeiendheid van spreken\n",
    "Transferfase :\tHet toepassen van aangeleerde vaardigheden buiten de therapieruimte\n",
    "Hiërarchie :\tEen systeem waarin dingen gerangschikt zijn van belangrijk naar minder belangrijk\n",
    "Reactie :\tEen respons op een stimulus\n",
    "Demotiverend :\tIets wat ervoor zorgt dat je minder gemotiveerd wordt\n",
    "Zelfbeeld :\tDe manier waarop iemand over zichzelf denkt\n",
    "Desensitisatie :\tHet verminderen van de angstreactie door blootstelling aan de angst\n",
    "Angststoornissen :\tStoornissen waarbij angst een grote rol speelt\n",
    "Fobieën :\tEen intense, irrationele angst voor bepaalde dingen of situaties\n",
    "Paniekaanvallen :\tEen plotselinge, intense angst die gepaard gaat met lichamelijke symptomen\n",
    "Posttraumatische stressstoornis :\tEen stoornis die kan ontstaan na het meemaken van een traumatische gebeurtenis\n",
    "Virtuele realiteit :\tEen computergegenereerde omgeving die iemand het gevoel geeft dat hij of zij zich in een andere werkelijkheid bevindt"
   ]
  },
  {
   "attachments": {},
   "cell_type": "markdown",
   "metadata": {},
   "source": [
    "Net zoals het GPT-3 model wordt er rekening gehouden met tokenlengte. Er wordt een aanvullende vraag gesteld. Aanvullen zou resulteren in dezelfde tekst, dus er wordt expliciet gevraagd om een lijst op te stellen met enkel nieuwe woorden:\n",
    "\n",
    "\n",
    "``Voeg nieuwe woorden toe aan de woordenlijst aan met moeilijke woorden voor scholieren tussen 16-18 jaar in tabelvorm. De betekenis moet korter dan tien woorden zijn. Woorden die eerder aan bod kwamen mogen genegeerd worden. {text}``"
   ]
  },
  {
   "attachments": {},
   "cell_type": "markdown",
   "metadata": {},
   "source": [
    "Prototype : Een eerste model of versie van een product dat ontworpen is om getest en verbeterd te worden voordat het op de markt komt. \n",
    "Verbale reacties : Woorden die iemand gebruikt als reactie op een situatie of gebeurtenis.\n",
    "Non-verbale reacties : Signalen die iemand geeft zonder woorden te gebruiken, zoals lichaamstaal of gezichtsuitdrukkingen.\n",
    "Simulatie : Het nabootsen van een situatie of omgeving om een bepaald effect of resultaat te bereiken, zoals het testen van een product.\n",
    "Meerwaarde : Een extra voordeel of waarde die iets toevoegt aan een situatie of product.\n",
    "Optimaliseren : Het verbeteren van een product of proces om het efficiënter of effectiever te maken.\n",
    "Scenario : Een vooraf bedachte situatie die wordt gebruikt om een bepaalde reactie of resultaat te testen.\n",
    "Interactie : Communicatie of uitwisseling tussen twee of meer personen of systemen.\n",
    "360°-ervaring : Een ervaring waarbij de kijker in staat is om in alle richtingen om zich heen te kijken, zoals bij een 360°-video.\n",
    "Logopedische praktijk : Een medische praktijk die zich richt op spraakstoornissen en communicatieproblemen.\n",
    "VR-bril : Een bril die wordt gebruikt om een virtuele realiteit te ervaren door middel van een scherm dat voor de ogen wordt geplaatst.\n",
    "Realistisch : Vergelijkbaar met de werkelijkheid of natuurgetrouw."
   ]
  },
  {
   "attachments": {},
   "cell_type": "markdown",
   "metadata": {},
   "source": [
    "Spanning :\tEen gevoel van druk of stress\n",
    "Interactie :\tWisselwerking tussen personen\n",
    "Effectieve :\tEcht, werkelijk\n",
    "Scenario :\tVerhaallijn, opzet van een situatie\n",
    "Meerwaarde :\tToegevoegde waarde\n",
    "Overdonderd\t: Overrompeld, overweldigd\n",
    "Realistisch\t: Echt, gelijkend op de werkelijkheid\n",
    "Inleving :\tHet zich inleven in een situatie\n",
    "Hoogtechnologisch :\tZeer geavanceerd\n",
    "Zelfzeker :\tZelfverzekerd, met vertrouwen\n",
    "Grenzen :\tBeperkingen, limieten\n",
    "Spanningen :\tDruk, stress\n",
    "Interactie :\tWisselwerking tussen personen\n",
    "Maatwerk :\tAangepast aan de specifieke situatie\n",
    "Externe\t: Buiten de situatie of context\n",
    "Tussenstap :\tStap in het proces van voorbereiding\n",
    "Afronding :\tHet voltooien van een proces\n",
    "Meerwaarde :\tToegevoegde waarde"
   ]
  },
  {
   "attachments": {},
   "cell_type": "markdown",
   "metadata": {},
   "source": [
    "Interactief :\tIn staat om informatie of signalen uit te wisselen met de gebruiker of andere programma's\n",
    "Inlevingsvermogen :\tHet vermogen om jezelf in de gedachten en gevoelens van anderen te verplaatsen\n",
    "Transferfase :\tDe fase waarin geleerde vaardigheden en kennis worden toegepast in de dagelijkse praktijk\n",
    "Hypothese :\tEen voorlopige verklaring voor een verschijnsel, gebaseerd op waarnemingen of eerdere studies\n",
    "Tussenstap :\tEen stap tussen twee andere stappen of tussen twee fases, vaak gebruikt om een geleidelijke overgang te creëren\n",
    "Grenzen verleggen :\tHet overwinnen van beperkingen of uitdagingen om persoonlijke groei en ontwikkeling te stimuleren\n",
    "Geadviseerd\t: Het geven van raad, advies of aanbevelingen\n",
    "Sfeer :\tDe algemene stemming of atmosfeer van een plaats of situatie\n",
    "Gelooofwaardig :\tWaarschijnlijk of overtuigend genoeg om te worden geloofd of geaccepteerd\n",
    "Mate van gewenning :\tDe mate waarin iemand vertrouwd is geraakt met een bepaalde situatie of omgeving en er minder opgewonden of bang door wordt"
   ]
  },
  {
   "attachments": {},
   "cell_type": "markdown",
   "metadata": {},
   "source": [
    "Indruk :\tEen idee of opinie die iemand heeft over iets of iemand\n",
    "Realistisch :\tGebaseerd op de werkelijkheid of het echte leven\n",
    "Prototype :\tHet eerste model van een product of ontwerp\n",
    "Interactie :\tEen wisselwerking tussen twee of meer personen of objecten\n",
    "Laagtechnologisch :\tGebaseerd op eenvoudige of basistechnologieën\n",
    "Inlevingsvermogen :\tHet vermogen om zich in te leven in de gevoelens of situatie van iemand anders\n",
    "Transferfase :\tDe fase in therapie waarin geleerde vaardigheden worden toegepast op het dagelijkse leven\n",
    "Representatief :\tEen groep of steekproef die een goede afspiegeling is van de totale populatie\n",
    "Contra-indicatie :\tEen reden om een bepaalde behandeling of therapie niet toe te passen\n",
    "Bereidheid :\tDe mate waarin iemand openstaat voor een bepaalde handeling of situatie"
   ]
  },
  {
   "cell_type": "code",
   "execution_count": null,
   "metadata": {},
   "outputs": [],
   "source": [
    "results = []\n",
    "\n",
    "woordenlijst = \"\"\"Stoornis :\tEen aandoening waarbij iets in het lichaam of de geest niet goed werkt\n",
    "Vloeiendheid :\tDe mate waarin iemand zonder problemen spreekt\n",
    "Schatting :\tEen schatting is een ruwe berekening van iets waarvan de precieze waarde niet bekend is\n",
    "Beperkingen :\tDingen die ervoor zorgen dat iets niet zo goed werkt als het zou moeten\n",
    "Effectieve communicatie\t: Communiceren op een manier die werkt en waarbij de boodschap duidelijk wordt overgebracht\n",
    "Participatie :\tDeelname aan een activiteit of groep\n",
    "Werkpresentaties :\tHet geven van presentaties tijdens het werk\n",
    "Therapeutische methoden :\tBehandelingen die worden gebruikt om een ziekte of aandoening te behandelen\n",
    "Stuttering modification therapy\t: Therapie gericht op het verminderen van stotteren\n",
    "Fluency shaping therapy :\tTherapie gericht op het verbeteren van de vloeiendheid van spreken\n",
    "Transferfase :\tHet toepassen van aangeleerde vaardigheden buiten de therapieruimte\n",
    "Hiërarchie :\tEen systeem waarin dingen gerangschikt zijn van belangrijk naar minder belangrijk\n",
    "Reactie :\tEen respons op een stimulus\n",
    "Demotiverend :\tIets wat ervoor zorgt dat je minder gemotiveerd wordt\n",
    "Zelfbeeld :\tDe manier waarop iemand over zichzelf denkt\n",
    "Desensitisatie :\tHet verminderen van de angstreactie door blootstelling aan de angst\n",
    "Angststoornissen :\tStoornissen waarbij angst een grote rol speelt\n",
    "Fobieën :\tEen intense, irrationele angst voor bepaalde dingen of situaties\n",
    "Paniekaanvallen :\tEen plotselinge, intense angst die gepaard gaat met lichamelijke symptomen\n",
    "Posttraumatische stressstoornis :\tEen stoornis die kan ontstaan na het meemaken van een traumatische gebeurtenis\n",
    "Virtuele realiteit :\tEen computergegenereerde omgeving die iemand het gevoel geeft dat hij of zij zich in een andere werkelijkheid bevindt\n",
    "Prototype : Een eerste model of versie van een product dat ontworpen is om getest en verbeterd te worden voordat het op de markt komt. \n",
    "Verbale reacties : Woorden die iemand gebruikt als reactie op een situatie of gebeurtenis.\n",
    "Non-verbale reacties : Signalen die iemand geeft zonder woorden te gebruiken, zoals lichaamstaal of gezichtsuitdrukkingen.\n",
    "Simulatie : Het nabootsen van een situatie of omgeving om een bepaald effect of resultaat te bereiken, zoals het testen van een product.\n",
    "Meerwaarde : Een extra voordeel of waarde die iets toevoegt aan een situatie of product.\n",
    "Optimaliseren : Het verbeteren van een product of proces om het efficiënter of effectiever te maken.\n",
    "Scenario : Een vooraf bedachte situatie die wordt gebruikt om een bepaalde reactie of resultaat te testen.\n",
    "Interactie : Communicatie of uitwisseling tussen twee of meer personen of systemen.\n",
    "360°-ervaring : Een ervaring waarbij de kijker in staat is om in alle richtingen om zich heen te kijken, zoals bij een 360°-video.\n",
    "Logopedische praktijk : Een medische praktijk die zich richt op spraakstoornissen en communicatieproblemen.\n",
    "VR-bril : Een bril die wordt gebruikt om een virtuele realiteit te ervaren door middel van een scherm dat voor de ogen wordt geplaatst.\n",
    "Realistisch : Vergelijkbaar met de werkelijkheid of natuurgetrouw.\n",
    "Spanning :\tEen gevoel van druk of stress\n",
    "Interactie :\tWisselwerking tussen personen\n",
    "Effectieve :\tEcht, werkelijk\n",
    "Scenario :\tVerhaallijn, opzet van een situatie\n",
    "Meerwaarde :\tToegevoegde waarde\n",
    "Overdonderd\t: Overrompeld, overweldigd\n",
    "Realistisch\t: Echt, gelijkend op de werkelijkheid\n",
    "Inleving :\tHet zich inleven in een situatie\n",
    "Hoogtechnologisch :\tZeer geavanceerd\n",
    "Zelfzeker :\tZelfverzekerd, met vertrouwen\n",
    "Grenzen :\tBeperkingen, limieten\n",
    "Spanningen :\tDruk, stress\n",
    "Interactie :\tWisselwerking tussen personen\n",
    "Maatwerk :\tAangepast aan de specifieke situatie\n",
    "Externe\t: Buiten de situatie of context\n",
    "Tussenstap :\tStap in het proces van voorbereiding\n",
    "Afronding :\tHet voltooien van een proces\n",
    "Meerwaarde :\tToegevoegde waarde\n",
    "Interactief :\tIn staat om informatie of signalen uit te wisselen met de gebruiker of andere programma's\n",
    "Inlevingsvermogen :\tHet vermogen om jezelf in de gedachten en gevoelens van anderen te verplaatsen\n",
    "Transferfase :\tDe fase waarin geleerde vaardigheden en kennis worden toegepast in de dagelijkse praktijk\n",
    "Hypothese :\tEen voorlopige verklaring voor een verschijnsel, gebaseerd op waarnemingen of eerdere studies\n",
    "Tussenstap :\tEen stap tussen twee andere stappen of tussen twee fases, vaak gebruikt om een geleidelijke overgang te creëren\n",
    "Grenzen verleggen :\tHet overwinnen van beperkingen of uitdagingen om persoonlijke groei en ontwikkeling te stimuleren\n",
    "Geadviseerd\t: Het geven van raad, advies of aanbevelingen\n",
    "Sfeer :\tDe algemene stemming of atmosfeer van een plaats of situatie\n",
    "Gelooofwaardig :\tWaarschijnlijk of overtuigend genoeg om te worden geloofd of geaccepteerd\n",
    "Mate van gewenning :\tDe mate waarin iemand vertrouwd is geraakt met een bepaalde situatie of omgeving en er minder opgewonden of bang door wordt\n",
    "Indruk :\tEen idee of opinie die iemand heeft over iets of iemand\n",
    "Realistisch :\tGebaseerd op de werkelijkheid of het echte leven\n",
    "Prototype :\tHet eerste model van een product of ontwerp\n",
    "Interactie :\tEen wisselwerking tussen twee of meer personen of objecten\n",
    "Laagtechnologisch :\tGebaseerd op eenvoudige of basistechnologieën\n",
    "Inlevingsvermogen :\tHet vermogen om zich in te leven in de gevoelens of situatie van iemand anders\n",
    "Transferfase :\tDe fase in therapie waarin geleerde vaardigheden worden toegepast op het dagelijkse leven\n",
    "Representatief :\tEen groep of steekproef die een goede afspiegeling is van de totale populatie\n",
    "Contra-indicatie :\tEen reden om een bepaalde behandeling of therapie niet toe te passen\n",
    "Bereidheid :\tDe mate waarin iemand openstaat voor een bepaalde handeling of situatie\"\"\".split('\\n')\n",
    "\n",
    "for woord in woordenlijst:\n",
    "    w = woord.split(':')\n",
    "    results.append(w)"
   ]
  },
  {
   "cell_type": "code",
   "execution_count": null,
   "metadata": {},
   "outputs": [],
   "source": [
    "import pandas as pd\n",
    "\n",
    "df = pd.DataFrame(results, columns =['Woord', 'Betekenis'])"
   ]
  },
  {
   "attachments": {},
   "cell_type": "markdown",
   "metadata": {},
   "source": [
    "## Analyse resultaten: ChatGPT"
   ]
  },
  {
   "attachments": {},
   "cell_type": "markdown",
   "metadata": {},
   "source": [
    "Om de resultaten beter te analyseren, groeperen we op basis van woord-betekenis."
   ]
  },
  {
   "attachments": {},
   "cell_type": "markdown",
   "metadata": {},
   "source": [
    "Gemiddelde zinlengte."
   ]
  },
  {
   "cell_type": "code",
   "execution_count": null,
   "metadata": {},
   "outputs": [],
   "source": [
    "import spacy\n",
    "nlp = spacy.load(\"nl_core_news_md\")\n",
    "\n",
    "def get_sentence_length(sentence):\n",
    "    doc = nlp(sentence)\n",
    "    return len(doc)"
   ]
  },
  {
   "cell_type": "code",
   "execution_count": null,
   "metadata": {},
   "outputs": [],
   "source": [
    "df['sentence_length'] = df['Betekenis'].apply(get_sentence_length)"
   ]
  },
  {
   "cell_type": "code",
   "execution_count": null,
   "metadata": {},
   "outputs": [
    {
     "data": {
      "image/png": "[encoded data removed]",
      "text/plain": [
       "<Figure size 640x480 with 1 Axes>"
      ]
     },
     "metadata": {},
     "output_type": "display_data"
    }
   ],
   "source": [
    "import matplotlib.pyplot as plt\n",
    "\n",
    "# Group the DataFrame by the \"sentence_length\" column and count the number of occurrences of each sentence length\n",
    "grouped = df.groupby('sentence_length')['sentence_length'].count().reset_index(name='count')\n",
    "\n",
    "# Plot the resulting DataFrame using a bar plot\n",
    "plt.bar(grouped['sentence_length'], grouped['count'])\n",
    "plt.xlabel('Sentence Length')\n",
    "plt.ylabel('Count')\n",
    "plt.title('Results ChatGPT: Distribution of Sentence Lengths')\n",
    "plt.show()"
   ]
  },
  {
   "attachments": {},
   "cell_type": "markdown",
   "metadata": {},
   "source": [
    "Dubbels herkennen"
   ]
  },
  {
   "cell_type": "code",
   "execution_count": null,
   "metadata": {},
   "outputs": [
    {
     "data": {
      "text/html": [
       "<div>\n",
       "<style scoped>\n",
       "    .dataframe tbody tr th:only-of-type {\n",
       "        vertical-align: middle;\n",
       "    }\n",
       "\n",
       "    .dataframe tbody tr th {\n",
       "        vertical-align: top;\n",
       "    }\n",
       "\n",
       "    .dataframe thead th {\n",
       "        text-align: right;\n",
       "    }\n",
       "</style>\n",
       "<table border=\"1\" class=\"dataframe\">\n",
       "  <thead>\n",
       "    <tr style=\"text-align: right;\">\n",
       "      <th></th>\n",
       "      <th>Woord</th>\n",
       "      <th>count</th>\n",
       "    </tr>\n",
       "  </thead>\n",
       "  <tbody>\n",
       "    <tr>\n",
       "      <th>23</th>\n",
       "      <td>Interactie</td>\n",
       "      <td>4</td>\n",
       "    </tr>\n",
       "    <tr>\n",
       "      <th>29</th>\n",
       "      <td>Meerwaarde</td>\n",
       "      <td>3</td>\n",
       "    </tr>\n",
       "    <tr>\n",
       "      <th>50</th>\n",
       "      <td>Transferfase</td>\n",
       "      <td>3</td>\n",
       "    </tr>\n",
       "    <tr>\n",
       "      <th>36</th>\n",
       "      <td>Prototype</td>\n",
       "      <td>2</td>\n",
       "    </tr>\n",
       "    <tr>\n",
       "      <th>51</th>\n",
       "      <td>Tussenstap</td>\n",
       "      <td>2</td>\n",
       "    </tr>\n",
       "    <tr>\n",
       "      <th>22</th>\n",
       "      <td>Inlevingsvermogen</td>\n",
       "      <td>2</td>\n",
       "    </tr>\n",
       "    <tr>\n",
       "      <th>39</th>\n",
       "      <td>Realistisch</td>\n",
       "      <td>2</td>\n",
       "    </tr>\n",
       "    <tr>\n",
       "      <th>41</th>\n",
       "      <td>Scenario</td>\n",
       "      <td>2</td>\n",
       "    </tr>\n",
       "  </tbody>\n",
       "</table>\n",
       "</div>"
      ],
      "text/plain": [
       "                 Woord  count\n",
       "23         Interactie       4\n",
       "29         Meerwaarde       3\n",
       "50       Transferfase       3\n",
       "36          Prototype       2\n",
       "51         Tussenstap       2\n",
       "22  Inlevingsvermogen       2\n",
       "39        Realistisch       2\n",
       "41           Scenario       2"
      ]
     },
     "execution_count": 32,
     "metadata": {},
     "output_type": "execute_result"
    }
   ],
   "source": [
    "word_count = df.groupby('Woord')['Woord']\\\n",
    "    .count()\\\n",
    "    .reset_index(name='count')\\\n",
    "    .sort_values('count', ascending=False)\n",
    "\n",
    "word_count[word_count['count'] > 1]"
   ]
  }
 ],
 "metadata": {
  "kernelspec": {
   "display_name": "Python 3",
   "language": "python",
   "name": "python3"
  },
  "language_info": {
   "codemirror_mode": {
    "name": "ipython",
    "version": 3
   },
   "file_extension": ".py",
   "mimetype": "text/x-python",
   "name": "python",
   "nbconvert_exporter": "python",
   "pygments_lexer": "ipython3",
   "version": "3.10.4"
  },
  "orig_nbformat": 4
 },
 "nbformat": 4,
 "nbformat_minor": 2
}
