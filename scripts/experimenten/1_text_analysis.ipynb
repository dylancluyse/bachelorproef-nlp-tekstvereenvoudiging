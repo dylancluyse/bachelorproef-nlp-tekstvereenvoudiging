{
 "cells": [
  {
   "cell_type": "code",
   "execution_count": 290,
   "metadata": {},
   "outputs": [],
   "source": [
    "from pdfminer.high_level import extract_pages\n",
    "from pdfminer.layout import LTTextContainer, LTChar\n",
    "import os"
   ]
  },
  {
   "cell_type": "code",
   "execution_count": 291,
   "metadata": {},
   "outputs": [],
   "source": [
    "folder_path = 'pdf'\n",
    "pdf_files = [f for f in os.listdir(folder_path) if f.endswith('.pdf')]"
   ]
  },
  {
   "cell_type": "code",
   "execution_count": 292,
   "metadata": {},
   "outputs": [],
   "source": [
    "all_pages = extract_pages(\n",
    "    pdf_file='pdf/'+pdf_files[0],\n",
    "    page_numbers=[5],\n",
    "    maxpages=999\n",
    ")\n",
    "\n",
    "full_text = \"\"\n",
    "\n",
    "for page_layout in all_pages:\n",
    "    for element in page_layout:\n",
    "        if isinstance(element, LTTextContainer):\n",
    "            for text_line in element:\n",
    "                full_text += text_line.get_text()"
   ]
  },
  {
   "cell_type": "code",
   "execution_count": 315,
   "metadata": {},
   "outputs": [],
   "source": [
    "full_text = full_text.strip()"
   ]
  },
  {
   "cell_type": "code",
   "execution_count": 294,
   "metadata": {},
   "outputs": [
    {
     "data": {
      "text/plain": [
       "'“Het is zo'"
      ]
     },
     "execution_count": 294,
     "metadata": {},
     "output_type": "execute_result"
    }
   ],
   "source": [
    "full_text[:10]"
   ]
  },
  {
   "cell_type": "code",
   "execution_count": 295,
   "metadata": {},
   "outputs": [
    {
     "data": {
      "text/plain": [
       "3500"
      ]
     },
     "execution_count": 295,
     "metadata": {},
     "output_type": "execute_result"
    }
   ],
   "source": [
    "len(full_text)"
   ]
  },
  {
   "cell_type": "code",
   "execution_count": 296,
   "metadata": {},
   "outputs": [],
   "source": [
    "import spacy\n",
    "from langdetect import detect\n",
    "import pandas as pd\n",
    "\n",
    "dutch_spacy_model = \"nl_core_news_md\"\n",
    "\n",
    "nlp = spacy.load(dutch_spacy_model) if detect(full_text) == 'nl' else spacy.load(\"en_core_word_md\")\n",
    "doc = nlp(full_text)\n",
    "\n",
    "sentences = []\n",
    "\n",
    "for sentence in doc.sents:\n",
    "    sentences.append(str(sentence))\n"
   ]
  },
  {
   "cell_type": "code",
   "execution_count": 297,
   "metadata": {},
   "outputs": [],
   "source": [
    "df = pd.DataFrame(sentences, columns=['sentence'])"
   ]
  },
  {
   "cell_type": "code",
   "execution_count": 298,
   "metadata": {},
   "outputs": [
    {
     "data": {
      "text/html": [
       "<div>\n",
       "<style scoped>\n",
       "    .dataframe tbody tr th:only-of-type {\n",
       "        vertical-align: middle;\n",
       "    }\n",
       "\n",
       "    .dataframe tbody tr th {\n",
       "        vertical-align: top;\n",
       "    }\n",
       "\n",
       "    .dataframe thead th {\n",
       "        text-align: right;\n",
       "    }\n",
       "</style>\n",
       "<table border=\"1\" class=\"dataframe\">\n",
       "  <thead>\n",
       "    <tr style=\"text-align: right;\">\n",
       "      <th></th>\n",
       "      <th>sentence</th>\n",
       "    </tr>\n",
       "  </thead>\n",
       "  <tbody>\n",
       "    <tr>\n",
       "      <th>0</th>\n",
       "      <td>“Het is zoals leren fietsen waarbij VR de rol ...</td>\n",
       "    </tr>\n",
       "    <tr>\n",
       "      <th>1</th>\n",
       "      <td>een goed hulpmiddel, maar \\nlangzaamaan kan je...</td>\n",
       "    </tr>\n",
       "    <tr>\n",
       "      <th>2</th>\n",
       "      <td>” \\nPrototype 2 \\nBeleving door de personen di...</td>\n",
       "    </tr>\n",
       "    <tr>\n",
       "      <th>3</th>\n",
       "      <td>Het meer interactieve 360°-scenario met bijkom...</td>\n",
       "    </tr>\n",
       "    <tr>\n",
       "      <th>4</th>\n",
       "      <td>De testpersoon die ook het eerste prototype te...</td>\n",
       "    </tr>\n",
       "  </tbody>\n",
       "</table>\n",
       "</div>"
      ],
      "text/plain": [
       "                                            sentence\n",
       "0  “Het is zoals leren fietsen waarbij VR de rol ...\n",
       "1  een goed hulpmiddel, maar \\nlangzaamaan kan je...\n",
       "2  ” \\nPrototype 2 \\nBeleving door de personen di...\n",
       "3  Het meer interactieve 360°-scenario met bijkom...\n",
       "4  De testpersoon die ook het eerste prototype te..."
      ]
     },
     "execution_count": 298,
     "metadata": {},
     "output_type": "execute_result"
    }
   ],
   "source": [
    "df.head()"
   ]
  },
  {
   "attachments": {},
   "cell_type": "markdown",
   "metadata": {},
   "source": [
    "``Textstat`` biedt ook FOG en FRE berekeningen aan, maar de ``readability`` bibliotheek bevat meer functies voor leesbaarheidsformules. Het onderzoek en het prototype blijft bij deze bibliotheek. Daarnaast is het ook mogelijk om grammaticale constructies te bekijken."
   ]
  },
  {
   "cell_type": "code",
   "execution_count": 299,
   "metadata": {},
   "outputs": [],
   "source": [
    "def get_sentence_length(sentence):\n",
    "    doc = nlp(sentence)\n",
    "    return len(doc)"
   ]
  },
  {
   "cell_type": "code",
   "execution_count": 300,
   "metadata": {},
   "outputs": [],
   "source": [
    "df['sentence_length'] = df['sentence'].apply(get_sentence_length)"
   ]
  },
  {
   "cell_type": "code",
   "execution_count": 301,
   "metadata": {},
   "outputs": [
    {
     "data": {
      "text/html": [
       "<div>\n",
       "<style scoped>\n",
       "    .dataframe tbody tr th:only-of-type {\n",
       "        vertical-align: middle;\n",
       "    }\n",
       "\n",
       "    .dataframe tbody tr th {\n",
       "        vertical-align: top;\n",
       "    }\n",
       "\n",
       "    .dataframe thead th {\n",
       "        text-align: right;\n",
       "    }\n",
       "</style>\n",
       "<table border=\"1\" class=\"dataframe\">\n",
       "  <thead>\n",
       "    <tr style=\"text-align: right;\">\n",
       "      <th></th>\n",
       "      <th>sentence</th>\n",
       "      <th>sentence_length</th>\n",
       "    </tr>\n",
       "  </thead>\n",
       "  <tbody>\n",
       "    <tr>\n",
       "      <th>0</th>\n",
       "      <td>“Het is zoals leren fietsen waarbij VR de rol ...</td>\n",
       "      <td>15</td>\n",
       "    </tr>\n",
       "    <tr>\n",
       "      <th>1</th>\n",
       "      <td>een goed hulpmiddel, maar \\nlangzaamaan kan je...</td>\n",
       "      <td>11</td>\n",
       "    </tr>\n",
       "    <tr>\n",
       "      <th>2</th>\n",
       "      <td>” \\nPrototype 2 \\nBeleving door de personen di...</td>\n",
       "      <td>12</td>\n",
       "    </tr>\n",
       "    <tr>\n",
       "      <th>3</th>\n",
       "      <td>Het meer interactieve 360°-scenario met bijkom...</td>\n",
       "      <td>17</td>\n",
       "    </tr>\n",
       "    <tr>\n",
       "      <th>4</th>\n",
       "      <td>De testpersoon die ook het eerste prototype te...</td>\n",
       "      <td>45</td>\n",
       "    </tr>\n",
       "  </tbody>\n",
       "</table>\n",
       "</div>"
      ],
      "text/plain": [
       "                                            sentence  sentence_length\n",
       "0  “Het is zoals leren fietsen waarbij VR de rol ...               15\n",
       "1  een goed hulpmiddel, maar \\nlangzaamaan kan je...               11\n",
       "2  ” \\nPrototype 2 \\nBeleving door de personen di...               12\n",
       "3  Het meer interactieve 360°-scenario met bijkom...               17\n",
       "4  De testpersoon die ook het eerste prototype te...               45"
      ]
     },
     "execution_count": 301,
     "metadata": {},
     "output_type": "execute_result"
    }
   ],
   "source": [
    "df.head()"
   ]
  },
  {
   "cell_type": "code",
   "execution_count": 302,
   "metadata": {},
   "outputs": [],
   "source": [
    "df = df[df['sentence_length'] > 3]"
   ]
  },
  {
   "cell_type": "code",
   "execution_count": 303,
   "metadata": {},
   "outputs": [],
   "source": [
    "import readability\n",
    "\n",
    "for key in readability.getmeasures(\"test\")['readability grades'].keys():\n",
    "    df[key] = df['sentence'].apply(lambda x: readability.getmeasures(x)['readability grades'][key])"
   ]
  },
  {
   "cell_type": "code",
   "execution_count": 304,
   "metadata": {},
   "outputs": [
    {
     "data": {
      "text/html": [
       "<div>\n",
       "<style scoped>\n",
       "    .dataframe tbody tr th:only-of-type {\n",
       "        vertical-align: middle;\n",
       "    }\n",
       "\n",
       "    .dataframe tbody tr th {\n",
       "        vertical-align: top;\n",
       "    }\n",
       "\n",
       "    .dataframe thead th {\n",
       "        text-align: right;\n",
       "    }\n",
       "</style>\n",
       "<table border=\"1\" class=\"dataframe\">\n",
       "  <thead>\n",
       "    <tr style=\"text-align: right;\">\n",
       "      <th></th>\n",
       "      <th>sentence</th>\n",
       "      <th>sentence_length</th>\n",
       "      <th>Kincaid</th>\n",
       "      <th>ARI</th>\n",
       "      <th>Coleman-Liau</th>\n",
       "      <th>FleschReadingEase</th>\n",
       "      <th>GunningFogIndex</th>\n",
       "      <th>LIX</th>\n",
       "      <th>SMOGIndex</th>\n",
       "      <th>RIX</th>\n",
       "      <th>DaleChallIndex</th>\n",
       "    </tr>\n",
       "  </thead>\n",
       "  <tbody>\n",
       "    <tr>\n",
       "      <th>0</th>\n",
       "      <td>“Het is zoals leren fietsen waarbij VR de rol ...</td>\n",
       "      <td>15</td>\n",
       "      <td>4.003077</td>\n",
       "      <td>6.446154</td>\n",
       "      <td>8.608729</td>\n",
       "      <td>89.516923</td>\n",
       "      <td>8.276923</td>\n",
       "      <td>43.769231</td>\n",
       "      <td>8.477226</td>\n",
       "      <td>4.000000</td>\n",
       "      <td>18.856685</td>\n",
       "    </tr>\n",
       "    <tr>\n",
       "      <th>1</th>\n",
       "      <td>een goed hulpmiddel, maar \\nlangzaamaan kan je...</td>\n",
       "      <td>11</td>\n",
       "      <td>3.670000</td>\n",
       "      <td>5.886250</td>\n",
       "      <td>8.406575</td>\n",
       "      <td>75.875000</td>\n",
       "      <td>11.600000</td>\n",
       "      <td>29.000000</td>\n",
       "      <td>8.477226</td>\n",
       "      <td>1.000000</td>\n",
       "      <td>19.624900</td>\n",
       "    </tr>\n",
       "    <tr>\n",
       "      <th>2</th>\n",
       "      <td>” \\nPrototype 2 \\nBeleving door de personen di...</td>\n",
       "      <td>12</td>\n",
       "      <td>6.100000</td>\n",
       "      <td>5.808333</td>\n",
       "      <td>5.443147</td>\n",
       "      <td>56.078333</td>\n",
       "      <td>11.066667</td>\n",
       "      <td>52.666667</td>\n",
       "      <td>7.472136</td>\n",
       "      <td>1.333333</td>\n",
       "      <td>15.611267</td>\n",
       "    </tr>\n",
       "    <tr>\n",
       "      <th>3</th>\n",
       "      <td>Het meer interactieve 360°-scenario met bijkom...</td>\n",
       "      <td>17</td>\n",
       "      <td>14.111429</td>\n",
       "      <td>15.712857</td>\n",
       "      <td>21.971377</td>\n",
       "      <td>6.358571</td>\n",
       "      <td>22.800000</td>\n",
       "      <td>57.000000</td>\n",
       "      <td>13.246951</td>\n",
       "      <td>3.500000</td>\n",
       "      <td>17.517986</td>\n",
       "    </tr>\n",
       "    <tr>\n",
       "      <th>4</th>\n",
       "      <td>De testpersoon die ook het eerste prototype te...</td>\n",
       "      <td>45</td>\n",
       "      <td>4.950000</td>\n",
       "      <td>6.667167</td>\n",
       "      <td>8.733472</td>\n",
       "      <td>83.321667</td>\n",
       "      <td>10.333333</td>\n",
       "      <td>25.833333</td>\n",
       "      <td>10.071068</td>\n",
       "      <td>1.666667</td>\n",
       "      <td>18.114083</td>\n",
       "    </tr>\n",
       "  </tbody>\n",
       "</table>\n",
       "</div>"
      ],
      "text/plain": [
       "                                            sentence  sentence_length  \\\n",
       "0  “Het is zoals leren fietsen waarbij VR de rol ...               15   \n",
       "1  een goed hulpmiddel, maar \\nlangzaamaan kan je...               11   \n",
       "2  ” \\nPrototype 2 \\nBeleving door de personen di...               12   \n",
       "3  Het meer interactieve 360°-scenario met bijkom...               17   \n",
       "4  De testpersoon die ook het eerste prototype te...               45   \n",
       "\n",
       "     Kincaid        ARI  Coleman-Liau  FleschReadingEase  GunningFogIndex  \\\n",
       "0   4.003077   6.446154      8.608729          89.516923         8.276923   \n",
       "1   3.670000   5.886250      8.406575          75.875000        11.600000   \n",
       "2   6.100000   5.808333      5.443147          56.078333        11.066667   \n",
       "3  14.111429  15.712857     21.971377           6.358571        22.800000   \n",
       "4   4.950000   6.667167      8.733472          83.321667        10.333333   \n",
       "\n",
       "         LIX  SMOGIndex       RIX  DaleChallIndex  \n",
       "0  43.769231   8.477226  4.000000       18.856685  \n",
       "1  29.000000   8.477226  1.000000       19.624900  \n",
       "2  52.666667   7.472136  1.333333       15.611267  \n",
       "3  57.000000  13.246951  3.500000       17.517986  \n",
       "4  25.833333  10.071068  1.666667       18.114083  "
      ]
     },
     "execution_count": 304,
     "metadata": {},
     "output_type": "execute_result"
    }
   ],
   "source": [
    "df.head()"
   ]
  },
  {
   "cell_type": "code",
   "execution_count": 305,
   "metadata": {},
   "outputs": [
    {
     "data": {
      "image/png": "[encoded data removed]",
      "text/plain": [
       "<Figure size 640x480 with 1 Axes>"
      ]
     },
     "metadata": {},
     "output_type": "display_data"
    }
   ],
   "source": [
    "import matplotlib.pyplot as plt\n",
    "\n",
    "bin_size = 4\n",
    "df['bin_sentence'] = (df['sentence_length'] // bin_size) * bin_size\n",
    "\n",
    "grouped = df.groupby('bin_sentence')['bin_sentence'].count().reset_index(name='count')\n",
    "\n",
    "plt.bar(grouped['bin_sentence'], grouped['count'], width=bin_size)\n",
    "plt.xlabel('Sentence Length')\n",
    "plt.ylabel('Count')\n",
    "plt.title('Results: Distribution of Sentence Lengths (Bins of 4)')\n",
    "plt.show()"
   ]
  },
  {
   "attachments": {},
   "cell_type": "markdown",
   "metadata": {},
   "source": [
    "# Zinsconstructies."
   ]
  },
  {
   "cell_type": "code",
   "execution_count": 306,
   "metadata": {},
   "outputs": [],
   "source": [
    "word_usage_cols = readability.getmeasures(\"test\")['word usage'].keys()\n",
    "for key in word_usage_cols:\n",
    "    df[key] = df['sentence'].apply(lambda x: readability.getmeasures(x, lang='nl')['word usage'][key])"
   ]
  },
  {
   "cell_type": "code",
   "execution_count": 307,
   "metadata": {},
   "outputs": [],
   "source": [
    "sentence_beginnings_cols = readability.getmeasures(\"test\")['sentence beginnings'].keys()\n",
    "for key in sentence_beginnings_cols:\n",
    "    df[key] = df['sentence'].apply(lambda x: readability.getmeasures(x, lang='nl')['sentence beginnings'][key])"
   ]
  },
  {
   "cell_type": "code",
   "execution_count": 308,
   "metadata": {},
   "outputs": [
    {
     "data": {
      "text/html": [
       "<div>\n",
       "<style scoped>\n",
       "    .dataframe tbody tr th:only-of-type {\n",
       "        vertical-align: middle;\n",
       "    }\n",
       "\n",
       "    .dataframe tbody tr th {\n",
       "        vertical-align: top;\n",
       "    }\n",
       "\n",
       "    .dataframe thead th {\n",
       "        text-align: right;\n",
       "    }\n",
       "</style>\n",
       "<table border=\"1\" class=\"dataframe\">\n",
       "  <thead>\n",
       "    <tr style=\"text-align: right;\">\n",
       "      <th></th>\n",
       "      <th>sentence</th>\n",
       "      <th>sentence_length</th>\n",
       "      <th>Kincaid</th>\n",
       "      <th>ARI</th>\n",
       "      <th>Coleman-Liau</th>\n",
       "      <th>FleschReadingEase</th>\n",
       "      <th>GunningFogIndex</th>\n",
       "      <th>LIX</th>\n",
       "      <th>SMOGIndex</th>\n",
       "      <th>RIX</th>\n",
       "      <th>...</th>\n",
       "      <th>bin_sentence</th>\n",
       "      <th>tobeverb</th>\n",
       "      <th>auxverb</th>\n",
       "      <th>conjunction</th>\n",
       "      <th>pronoun</th>\n",
       "      <th>preposition</th>\n",
       "      <th>nominalization</th>\n",
       "      <th>interrogative</th>\n",
       "      <th>article</th>\n",
       "      <th>subordination</th>\n",
       "    </tr>\n",
       "  </thead>\n",
       "  <tbody>\n",
       "    <tr>\n",
       "      <th>0</th>\n",
       "      <td>“Het is zoals leren fietsen waarbij VR de rol ...</td>\n",
       "      <td>15</td>\n",
       "      <td>4.003077</td>\n",
       "      <td>6.446154</td>\n",
       "      <td>8.608729</td>\n",
       "      <td>89.516923</td>\n",
       "      <td>8.276923</td>\n",
       "      <td>43.769231</td>\n",
       "      <td>8.477226</td>\n",
       "      <td>4.000000</td>\n",
       "      <td>...</td>\n",
       "      <td>12</td>\n",
       "      <td>1</td>\n",
       "      <td>0</td>\n",
       "      <td>0</td>\n",
       "      <td>0</td>\n",
       "      <td>0</td>\n",
       "      <td>0</td>\n",
       "      <td>0</td>\n",
       "      <td>0</td>\n",
       "      <td>0</td>\n",
       "    </tr>\n",
       "    <tr>\n",
       "      <th>1</th>\n",
       "      <td>een goed hulpmiddel, maar \\nlangzaamaan kan je...</td>\n",
       "      <td>11</td>\n",
       "      <td>3.670000</td>\n",
       "      <td>5.886250</td>\n",
       "      <td>8.406575</td>\n",
       "      <td>75.875000</td>\n",
       "      <td>11.600000</td>\n",
       "      <td>29.000000</td>\n",
       "      <td>8.477226</td>\n",
       "      <td>1.000000</td>\n",
       "      <td>...</td>\n",
       "      <td>8</td>\n",
       "      <td>0</td>\n",
       "      <td>1</td>\n",
       "      <td>0</td>\n",
       "      <td>0</td>\n",
       "      <td>0</td>\n",
       "      <td>0</td>\n",
       "      <td>0</td>\n",
       "      <td>1</td>\n",
       "      <td>0</td>\n",
       "    </tr>\n",
       "    <tr>\n",
       "      <th>2</th>\n",
       "      <td>” \\nPrototype 2 \\nBeleving door de personen di...</td>\n",
       "      <td>12</td>\n",
       "      <td>6.100000</td>\n",
       "      <td>5.808333</td>\n",
       "      <td>5.443147</td>\n",
       "      <td>56.078333</td>\n",
       "      <td>11.066667</td>\n",
       "      <td>52.666667</td>\n",
       "      <td>7.472136</td>\n",
       "      <td>1.333333</td>\n",
       "      <td>...</td>\n",
       "      <td>12</td>\n",
       "      <td>0</td>\n",
       "      <td>0</td>\n",
       "      <td>0</td>\n",
       "      <td>0</td>\n",
       "      <td>0</td>\n",
       "      <td>1</td>\n",
       "      <td>0</td>\n",
       "      <td>0</td>\n",
       "      <td>0</td>\n",
       "    </tr>\n",
       "    <tr>\n",
       "      <th>3</th>\n",
       "      <td>Het meer interactieve 360°-scenario met bijkom...</td>\n",
       "      <td>17</td>\n",
       "      <td>14.111429</td>\n",
       "      <td>15.712857</td>\n",
       "      <td>21.971377</td>\n",
       "      <td>6.358571</td>\n",
       "      <td>22.800000</td>\n",
       "      <td>57.000000</td>\n",
       "      <td>13.246951</td>\n",
       "      <td>3.500000</td>\n",
       "      <td>...</td>\n",
       "      <td>16</td>\n",
       "      <td>0</td>\n",
       "      <td>1</td>\n",
       "      <td>0</td>\n",
       "      <td>1</td>\n",
       "      <td>0</td>\n",
       "      <td>1</td>\n",
       "      <td>0</td>\n",
       "      <td>1</td>\n",
       "      <td>0</td>\n",
       "    </tr>\n",
       "  </tbody>\n",
       "</table>\n",
       "<p>4 rows × 21 columns</p>\n",
       "</div>"
      ],
      "text/plain": [
       "                                            sentence  sentence_length  \\\n",
       "0  “Het is zoals leren fietsen waarbij VR de rol ...               15   \n",
       "1  een goed hulpmiddel, maar \\nlangzaamaan kan je...               11   \n",
       "2  ” \\nPrototype 2 \\nBeleving door de personen di...               12   \n",
       "3  Het meer interactieve 360°-scenario met bijkom...               17   \n",
       "\n",
       "     Kincaid        ARI  Coleman-Liau  FleschReadingEase  GunningFogIndex  \\\n",
       "0   4.003077   6.446154      8.608729          89.516923         8.276923   \n",
       "1   3.670000   5.886250      8.406575          75.875000        11.600000   \n",
       "2   6.100000   5.808333      5.443147          56.078333        11.066667   \n",
       "3  14.111429  15.712857     21.971377           6.358571        22.800000   \n",
       "\n",
       "         LIX  SMOGIndex       RIX  ...  bin_sentence  tobeverb  auxverb  \\\n",
       "0  43.769231   8.477226  4.000000  ...            12         1        0   \n",
       "1  29.000000   8.477226  1.000000  ...             8         0        1   \n",
       "2  52.666667   7.472136  1.333333  ...            12         0        0   \n",
       "3  57.000000  13.246951  3.500000  ...            16         0        1   \n",
       "\n",
       "   conjunction  pronoun  preposition  nominalization  interrogative  article  \\\n",
       "0            0        0            0               0              0        0   \n",
       "1            0        0            0               0              0        1   \n",
       "2            0        0            0               1              0        0   \n",
       "3            0        1            0               1              0        1   \n",
       "\n",
       "   subordination  \n",
       "0              0  \n",
       "1              0  \n",
       "2              0  \n",
       "3              0  \n",
       "\n",
       "[4 rows x 21 columns]"
      ]
     },
     "execution_count": 308,
     "metadata": {},
     "output_type": "execute_result"
    }
   ],
   "source": [
    "df.head(4)"
   ]
  },
  {
   "cell_type": "code",
   "execution_count": 314,
   "metadata": {},
   "outputs": [
    {
     "data": {
      "image/png": "[encoded data removed]",
      "text/plain": [
       "<Figure size 640x480 with 1 Axes>"
      ]
     },
     "metadata": {},
     "output_type": "display_data"
    }
   ],
   "source": [
    "word_usage_sum = df[word_usage_cols].sum()\n",
    "word_usage_sum.plot(kind='bar')\n",
    "plt.xlabel('Columns')\n",
    "plt.ylabel('Sum')\n",
    "plt.show()"
   ]
  },
  {
   "cell_type": "code",
   "execution_count": 313,
   "metadata": {},
   "outputs": [
    {
     "data": {
      "image/png": "[encoded data removed]",
      "text/plain": [
       "<Figure size 640x480 with 1 Axes>"
      ]
     },
     "metadata": {},
     "output_type": "display_data"
    }
   ],
   "source": [
    "sentence_beginnings_sum = df[sentence_beginnings_cols].sum()\n",
    "sentence_beginnings_sum.plot(kind='bar')\n",
    "plt.xlabel('Columns')\n",
    "plt.ylabel('Sum')\n",
    "plt.show()"
   ]
  }
 ],
 "metadata": {
  "kernelspec": {
   "display_name": "Python 3",
   "language": "python",
   "name": "python3"
  },
  "language_info": {
   "codemirror_mode": {
    "name": "ipython",
    "version": 3
   },
   "file_extension": ".py",
   "mimetype": "text/x-python",
   "name": "python",
   "nbconvert_exporter": "python",
   "pygments_lexer": "ipython3",
   "version": "3.10.4"
  },
  "orig_nbformat": 4
 },
 "nbformat": 4,
 "nbformat_minor": 2
}
