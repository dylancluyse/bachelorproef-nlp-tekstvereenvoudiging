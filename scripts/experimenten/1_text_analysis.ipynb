{
 "cells": [
  {
   "cell_type": "code",
   "execution_count": 154,
   "metadata": {},
   "outputs": [],
   "source": [
    "from pdfminer.high_level import extract_pages\n",
    "from pdfminer.layout import LTTextContainer, LTChar"
   ]
  },
  {
   "cell_type": "code",
   "execution_count": 155,
   "metadata": {},
   "outputs": [],
   "source": [
    "pdf = 'pdf\\Virtual_Reality_in_stottertherapie_bij_jongvolwassenen.pdf'"
   ]
  },
  {
   "cell_type": "code",
   "execution_count": 156,
   "metadata": {},
   "outputs": [],
   "source": [
    "all_pages = extract_pages(\n",
    "    pdf,\n",
    "    page_numbers=[5],\n",
    "    maxpages=999\n",
    ")\n",
    "\n",
    "full_text = \"\"\n",
    "\n",
    "for page_layout in all_pages:\n",
    "    for element in page_layout:\n",
    "        if isinstance(element, LTTextContainer):\n",
    "            for text_line in element:\n",
    "                full_text += text_line.get_text()"
   ]
  },
  {
   "attachments": {},
   "cell_type": "markdown",
   "metadata": {},
   "source": [
    "..."
   ]
  },
  {
   "cell_type": "code",
   "execution_count": 157,
   "metadata": {},
   "outputs": [],
   "source": [
    "full_text = full_text.strip()"
   ]
  },
  {
   "attachments": {},
   "cell_type": "markdown",
   "metadata": {},
   "source": [
    "..."
   ]
  },
  {
   "cell_type": "code",
   "execution_count": 158,
   "metadata": {},
   "outputs": [
    {
     "data": {
      "text/plain": [
       "'“Het is zo'"
      ]
     },
     "execution_count": 158,
     "metadata": {},
     "output_type": "execute_result"
    }
   ],
   "source": [
    "full_text[:10]"
   ]
  },
  {
   "cell_type": "code",
   "execution_count": 159,
   "metadata": {},
   "outputs": [
    {
     "data": {
      "text/plain": [
       "3500"
      ]
     },
     "execution_count": 159,
     "metadata": {},
     "output_type": "execute_result"
    }
   ],
   "source": [
    "len(full_text)"
   ]
  },
  {
   "cell_type": "code",
   "execution_count": 160,
   "metadata": {},
   "outputs": [],
   "source": [
    "import spacy\n",
    "from langdetect import detect\n",
    "import pandas as pd\n",
    "\n",
    "dutch_spacy_model = \"nl_core_news_md\"\n",
    "\n",
    "nlp = spacy.load(dutch_spacy_model) if detect(full_text) == 'nl' else spacy.load(\"en_core_word_md\")\n",
    "doc = nlp(full_text)\n",
    "\n",
    "sentences = []\n",
    "\n",
    "for sentence in doc.sents:\n",
    "    sentences.append(str(sentence))\n"
   ]
  },
  {
   "cell_type": "code",
   "execution_count": 161,
   "metadata": {},
   "outputs": [],
   "source": [
    "df = pd.DataFrame(sentences, columns=['sentence'])"
   ]
  },
  {
   "cell_type": "code",
   "execution_count": 162,
   "metadata": {},
   "outputs": [
    {
     "data": {
      "text/html": [
       "<div>\n",
       "<style scoped>\n",
       "    .dataframe tbody tr th:only-of-type {\n",
       "        vertical-align: middle;\n",
       "    }\n",
       "\n",
       "    .dataframe tbody tr th {\n",
       "        vertical-align: top;\n",
       "    }\n",
       "\n",
       "    .dataframe thead th {\n",
       "        text-align: right;\n",
       "    }\n",
       "</style>\n",
       "<table border=\"1\" class=\"dataframe\">\n",
       "  <thead>\n",
       "    <tr style=\"text-align: right;\">\n",
       "      <th></th>\n",
       "      <th>sentence</th>\n",
       "    </tr>\n",
       "  </thead>\n",
       "  <tbody>\n",
       "    <tr>\n",
       "      <th>0</th>\n",
       "      <td>“Het is zoals leren fietsen waarbij VR de rol ...</td>\n",
       "    </tr>\n",
       "    <tr>\n",
       "      <th>1</th>\n",
       "      <td>een goed hulpmiddel, maar \\nlangzaamaan kan je...</td>\n",
       "    </tr>\n",
       "    <tr>\n",
       "      <th>2</th>\n",
       "      <td>” \\nPrototype 2 \\nBeleving door de personen di...</td>\n",
       "    </tr>\n",
       "    <tr>\n",
       "      <th>3</th>\n",
       "      <td>Het meer interactieve 360°-scenario met bijkom...</td>\n",
       "    </tr>\n",
       "    <tr>\n",
       "      <th>4</th>\n",
       "      <td>De testpersoon die ook het eerste prototype te...</td>\n",
       "    </tr>\n",
       "  </tbody>\n",
       "</table>\n",
       "</div>"
      ],
      "text/plain": [
       "                                            sentence\n",
       "0  “Het is zoals leren fietsen waarbij VR de rol ...\n",
       "1  een goed hulpmiddel, maar \\nlangzaamaan kan je...\n",
       "2  ” \\nPrototype 2 \\nBeleving door de personen di...\n",
       "3  Het meer interactieve 360°-scenario met bijkom...\n",
       "4  De testpersoon die ook het eerste prototype te..."
      ]
     },
     "execution_count": 162,
     "metadata": {},
     "output_type": "execute_result"
    }
   ],
   "source": [
    "df.head()"
   ]
  },
  {
   "cell_type": "code",
   "execution_count": 163,
   "metadata": {},
   "outputs": [],
   "source": [
    "import textstat\n",
    "import re\n",
    "import readability\n",
    "\n",
    "def get_sentence_length(sentence):\n",
    "    doc = nlp(sentence)\n",
    "    return len(doc)\n",
    "\n",
    "def calculate_fre_score(sentence):\n",
    "    score = textstat.flesch_reading_ease(sentence)\n",
    "    return score\n",
    "\n",
    "def calculate_gunning_fog_score(sentence):\n",
    "    score = textstat.gunning_fog(sentence)\n",
    "    return score\n",
    "\n",
    "def calculate_fre_score_readability(sentence):\n",
    "    score = textstat.flesch_reading_ease(sentence)\n",
    "    return score"
   ]
  },
  {
   "cell_type": "code",
   "execution_count": 164,
   "metadata": {},
   "outputs": [],
   "source": [
    "df['sentence_length'] = df['sentence'].apply(get_sentence_length)\n",
    "df['fre'] = df['sentence'].apply(calculate_fre_score)\n",
    "df['fog'] = df['sentence'].apply(calculate_gunning_fog_score)"
   ]
  },
  {
   "cell_type": "code",
   "execution_count": 165,
   "metadata": {},
   "outputs": [
    {
     "data": {
      "text/html": [
       "<div>\n",
       "<style scoped>\n",
       "    .dataframe tbody tr th:only-of-type {\n",
       "        vertical-align: middle;\n",
       "    }\n",
       "\n",
       "    .dataframe tbody tr th {\n",
       "        vertical-align: top;\n",
       "    }\n",
       "\n",
       "    .dataframe thead th {\n",
       "        text-align: right;\n",
       "    }\n",
       "</style>\n",
       "<table border=\"1\" class=\"dataframe\">\n",
       "  <thead>\n",
       "    <tr style=\"text-align: right;\">\n",
       "      <th></th>\n",
       "      <th>sentence</th>\n",
       "      <th>sentence_length</th>\n",
       "      <th>fre</th>\n",
       "      <th>fog</th>\n",
       "    </tr>\n",
       "  </thead>\n",
       "  <tbody>\n",
       "    <tr>\n",
       "      <th>0</th>\n",
       "      <td>“Het is zoals leren fietsen waarbij VR de rol ...</td>\n",
       "      <td>15</td>\n",
       "      <td>66.74</td>\n",
       "      <td>11.35</td>\n",
       "    </tr>\n",
       "    <tr>\n",
       "      <th>1</th>\n",
       "      <td>een goed hulpmiddel, maar \\nlangzaamaan kan je...</td>\n",
       "      <td>11</td>\n",
       "      <td>71.82</td>\n",
       "      <td>8.20</td>\n",
       "    </tr>\n",
       "    <tr>\n",
       "      <th>2</th>\n",
       "      <td>” \\nPrototype 2 \\nBeleving door de personen di...</td>\n",
       "      <td>12</td>\n",
       "      <td>37.98</td>\n",
       "      <td>13.20</td>\n",
       "    </tr>\n",
       "    <tr>\n",
       "      <th>3</th>\n",
       "      <td>Het meer interactieve 360°-scenario met bijkom...</td>\n",
       "      <td>17</td>\n",
       "      <td>24.44</td>\n",
       "      <td>14.43</td>\n",
       "    </tr>\n",
       "    <tr>\n",
       "      <th>4</th>\n",
       "      <td>De testpersoon die ook het eerste prototype te...</td>\n",
       "      <td>45</td>\n",
       "      <td>56.26</td>\n",
       "      <td>19.00</td>\n",
       "    </tr>\n",
       "  </tbody>\n",
       "</table>\n",
       "</div>"
      ],
      "text/plain": [
       "                                            sentence  sentence_length    fre  \\\n",
       "0  “Het is zoals leren fietsen waarbij VR de rol ...               15  66.74   \n",
       "1  een goed hulpmiddel, maar \\nlangzaamaan kan je...               11  71.82   \n",
       "2  ” \\nPrototype 2 \\nBeleving door de personen di...               12  37.98   \n",
       "3  Het meer interactieve 360°-scenario met bijkom...               17  24.44   \n",
       "4  De testpersoon die ook het eerste prototype te...               45  56.26   \n",
       "\n",
       "     fog  \n",
       "0  11.35  \n",
       "1   8.20  \n",
       "2  13.20  \n",
       "3  14.43  \n",
       "4  19.00  "
      ]
     },
     "execution_count": 165,
     "metadata": {},
     "output_type": "execute_result"
    }
   ],
   "source": [
    "df.head()"
   ]
  },
  {
   "cell_type": "code",
   "execution_count": 166,
   "metadata": {},
   "outputs": [],
   "source": [
    "df = df[df['sentence_length'] > 3]"
   ]
  },
  {
   "cell_type": "code",
   "execution_count": 167,
   "metadata": {},
   "outputs": [
    {
     "data": {
      "image/png": "[encoded data removed]",
      "text/plain": [
       "<Figure size 640x480 with 1 Axes>"
      ]
     },
     "metadata": {},
     "output_type": "display_data"
    }
   ],
   "source": [
    "import matplotlib.pyplot as plt\n",
    "\n",
    "bin_size = 4\n",
    "df['bin_sentence'] = (df['sentence_length'] // bin_size) * bin_size\n",
    "\n",
    "grouped = df.groupby('bin_sentence')['bin_sentence'].count().reset_index(name='count')\n",
    "\n",
    "plt.bar(grouped['bin_sentence'], grouped['count'], width=bin_size)\n",
    "plt.xlabel('Sentence Length')\n",
    "plt.ylabel('Count')\n",
    "plt.title('Results: Distribution of Sentence Lengths (Bins of 4)')\n",
    "plt.show()"
   ]
  },
  {
   "cell_type": "code",
   "execution_count": 170,
   "metadata": {},
   "outputs": [
    {
     "data": {
      "image/png": "[encoded data removed]",
      "text/plain": [
       "<Figure size 640x480 with 1 Axes>"
      ]
     },
     "metadata": {},
     "output_type": "display_data"
    }
   ],
   "source": [
    "bin_size=10\n",
    "df['bin_fre'] = (df['fre'] // bin_size) * bin_size\n",
    "\n",
    "grouped = df.groupby('bin_fre')['bin_fre'].count().reset_index(name='count')\n",
    "\n",
    "plt.bar(grouped['bin_fre'], grouped['count'], width=bin_size)\n",
    "plt.xlabel('FRE')\n",
    "plt.ylabel('Count')\n",
    "plt.title('Results: Distribution of FRE score (Bins of 10)')\n",
    "plt.show()"
   ]
  },
  {
   "cell_type": "code",
   "execution_count": 169,
   "metadata": {},
   "outputs": [
    {
     "data": {
      "image/png": "[encoded data removed]",
      "text/plain": [
       "<Figure size 640x480 with 1 Axes>"
      ]
     },
     "metadata": {},
     "output_type": "display_data"
    }
   ],
   "source": [
    "bin_size=1\n",
    "df['bin_fog'] = (df['fog'] // bin_size) * bin_size\n",
    "\n",
    "grouped = df.groupby('bin_fog')['bin_fog'].count().reset_index(name='count')\n",
    "\n",
    "plt.bar(grouped['bin_fog'], grouped['count'], width=bin_size)\n",
    "plt.xlabel('FOG')\n",
    "plt.ylabel('Count')\n",
    "plt.title('Results: Distribution of FOG')\n",
    "plt.show()"
   ]
  }
 ],
 "metadata": {
  "kernelspec": {
   "display_name": "Python 3",
   "language": "python",
   "name": "python3"
  },
  "language_info": {
   "codemirror_mode": {
    "name": "ipython",
    "version": 3
   },
   "file_extension": ".py",
   "mimetype": "text/x-python",
   "name": "python",
   "nbconvert_exporter": "python",
   "pygments_lexer": "ipython3",
   "version": "3.10.4"
  },
  "orig_nbformat": 4
 },
 "nbformat": 4,
 "nbformat_minor": 2
}
