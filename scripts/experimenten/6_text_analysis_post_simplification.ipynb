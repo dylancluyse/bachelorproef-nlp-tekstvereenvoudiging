{
 "cells": [
  {
   "attachments": {},
   "cell_type": "markdown",
   "metadata": {},
   "source": [
    "Opmerking. Bij de ingevoerde teksten werd de abstract uitgesloten.\n",
    "\n",
    "Prompts:\n",
    "\n",
    "### ChatGPT\n",
    "\n",
    "poging 1 -->\n",
    "``Schrijf dit in hoogstens zes Nederlandstalige paragrafen waarvan elk vijf zinnen die niet langer dan tien woorden zijn. Gebruik niet meer dan 500 woorden.\n",
    "vervang moeilijke woorden door één eenvoudiger synoniem, regelmatige woordenschat, schrijf cijfermateriaal voluit, schrijf acroniemen voluit\n",
    "vermijd tangconstructies, voorzetsel- en verwijswoorden``\n",
    "\n",
    "Deze prompt met alle tekst uit de paper resulteerde in een foutmelding. De tokenlimiet werd bereikt.\n",
    "\n",
    "poging 2 --> \n",
    "\n",
    "De paper werd op systematische wijze in twee opgebroken. Het eerste deel was teksinhoud van pagina 2 tot en met 5. Het tweede deel strijkte van pagina 6 tot en met 8. Deze prompt leidde ook tot een foutmelding.\n",
    "\n",
    "poging 3 -->\n",
    "\n",
    "De paper werd op systematische wijze in drie delen opgebroken van elk twee pagina's lang. \n",
    "\n",
    "### SciSpace\n",
    "\n",
    "poging 1 -->\n",
    "\n",
    "``Vat deze volledige paper samen in hoogstens zes paragrafen waarvan elke vijf zinnen niet langer zijn dan tien woorden. Gebruik niet meer dan 500 woorden. vervang moeilijke woorden door één eenvoudiger synoniem, regelmatige woordenschat, schrijf cijfermateriaal voluit, schrijf acroniemen voluitvermijd tangconstructies, voorzetsel- en verwijswoorden``\n",
    "\n",
    "Deze prompt resulteerde in een foutmelding. De tool is niet in staat om een volledige paper volgens deze richtlijnen te samenvatten. \n",
    "\n",
    "poging 2 -->\n",
    "\n",
    "De volledige tekst werd geselecteerd. De tool biedt een optie aan om geselecteerde tekst samen te vatten. Een foutmelding werd teruggegeven, maar zonder indicatie waarom de tool geen antwoord kan teruggeven. \n",
    "\n",
    "poging 3 --> \n",
    "\n",
    "De gemarkeerde tekst werd gereduceerd tot tekstinhoud van twee pagina's. De samenvatknop werkte dit keer wel. De gebruiker kan expliciet aangeven in welke taal de samengevatte tekst moet zijn.\n",
    "\n",
    "### Resoomer\n",
    "\n",
    "Resoomer is niet in staat om prompts te verwerken. Enkel de richtlijn rond totaallengte van het document kan expliciet worden behandeld door de gebruiker. Over lexicale en syntactische vereenvoudiging heeft de gebruiker geen zeggen."
   ]
  },
  {
   "cell_type": "code",
   "execution_count": 15,
   "metadata": {},
   "outputs": [],
   "source": [
    "from pdfminer.high_level import extract_pages\n",
    "from pdfminer.layout import LTTextContainer, LTChar\n",
    "import os"
   ]
  },
  {
   "attachments": {},
   "cell_type": "markdown",
   "metadata": {},
   "source": [
    "# PDF's ophalen"
   ]
  },
  {
   "attachments": {},
   "cell_type": "markdown",
   "metadata": {},
   "source": [
    "## Oorspronkelijke teksten"
   ]
  },
  {
   "cell_type": "code",
   "execution_count": 16,
   "metadata": {},
   "outputs": [],
   "source": [
    "folder_path = 'pdf'\n",
    "pdf_files = [f for f in os.listdir(folder_path) if f.endswith('.pdf')]"
   ]
  },
  {
   "cell_type": "code",
   "execution_count": 17,
   "metadata": {},
   "outputs": [],
   "source": [
    "all_pages = extract_pages(\n",
    "    pdf_file='pdf/'+pdf_files[0],\n",
    "    page_numbers=[0],\n",
    "    maxpages=999\n",
    ")\n",
    "\n",
    "full_text_old = \"\"\n",
    "\n",
    "for page_layout in all_pages:\n",
    "    for element in page_layout:\n",
    "        if isinstance(element, LTTextContainer):\n",
    "            for text_line in element:\n",
    "                full_text_old += text_line.get_text()"
   ]
  },
  {
   "attachments": {},
   "cell_type": "markdown",
   "metadata": {},
   "source": [
    "# Cleaning"
   ]
  },
  {
   "cell_type": "code",
   "execution_count": 18,
   "metadata": {},
   "outputs": [],
   "source": [
    "full_text_old = full_text_old.strip()"
   ]
  },
  {
   "cell_type": "code",
   "execution_count": 19,
   "metadata": {},
   "outputs": [
    {
     "data": {
      "text/plain": [
       "'VIRTUAL RE'"
      ]
     },
     "execution_count": 19,
     "metadata": {},
     "output_type": "execute_result"
    }
   ],
   "source": [
    "full_text_old[:10]"
   ]
  },
  {
   "cell_type": "code",
   "execution_count": 20,
   "metadata": {},
   "outputs": [
    {
     "data": {
      "text/plain": [
       "1867"
      ]
     },
     "execution_count": 20,
     "metadata": {},
     "output_type": "execute_result"
    }
   ],
   "source": [
    "len(full_text_old)"
   ]
  },
  {
   "cell_type": "code",
   "execution_count": 21,
   "metadata": {},
   "outputs": [],
   "source": [
    "import spacy\n",
    "from langdetect import detect\n",
    "import pandas as pd\n",
    "\n",
    "dutch_spacy_model = \"nl_core_news_md\"\n",
    "\n",
    "nlp = spacy.load(dutch_spacy_model) if detect(full_text_old) == 'nl' else spacy.load(\"en_core_word_md\")\n",
    "doc = nlp(full_text_old)\n",
    "\n",
    "sentences = []\n",
    "\n",
    "for sentence in doc.sents:\n",
    "    sentences.append(str(sentence))\n"
   ]
  },
  {
   "cell_type": "code",
   "execution_count": 22,
   "metadata": {},
   "outputs": [],
   "source": [
    "df_old = pd.DataFrame(sentences, columns=['sentence'])"
   ]
  },
  {
   "cell_type": "code",
   "execution_count": 23,
   "metadata": {},
   "outputs": [
    {
     "data": {
      "text/html": [
       "<div>\n",
       "<style scoped>\n",
       "    .dataframe tbody tr th:only-of-type {\n",
       "        vertical-align: middle;\n",
       "    }\n",
       "\n",
       "    .dataframe tbody tr th {\n",
       "        vertical-align: top;\n",
       "    }\n",
       "\n",
       "    .dataframe thead th {\n",
       "        text-align: right;\n",
       "    }\n",
       "</style>\n",
       "<table border=\"1\" class=\"dataframe\">\n",
       "  <thead>\n",
       "    <tr style=\"text-align: right;\">\n",
       "      <th></th>\n",
       "      <th>sentence</th>\n",
       "    </tr>\n",
       "  </thead>\n",
       "  <tbody>\n",
       "    <tr>\n",
       "      <th>0</th>\n",
       "      <td>VIRTUAL REALITY IN STOTTERTHERAPIE</td>\n",
       "    </tr>\n",
       "    <tr>\n",
       "      <th>1</th>\n",
       "      <td>BIJ \\n(JONG)</td>\n",
       "    </tr>\n",
       "    <tr>\n",
       "      <th>2</th>\n",
       "      <td>VOLWASSENEN \\nJana Van Dammea, Hermien De Baen...</td>\n",
       "    </tr>\n",
       "    <tr>\n",
       "      <th>3</th>\n",
       "      <td>HOGENT, Onderzoeker 360</td>\n",
       "    </tr>\n",
       "    <tr>\n",
       "      <th>4</th>\n",
       "      <td>°</td>\n",
       "    </tr>\n",
       "  </tbody>\n",
       "</table>\n",
       "</div>"
      ],
      "text/plain": [
       "                                            sentence\n",
       "0                 VIRTUAL REALITY IN STOTTERTHERAPIE\n",
       "1                                       BIJ \\n(JONG)\n",
       "2  VOLWASSENEN \\nJana Van Dammea, Hermien De Baen...\n",
       "3                            HOGENT, Onderzoeker 360\n",
       "4                                                  °"
      ]
     },
     "execution_count": 23,
     "metadata": {},
     "output_type": "execute_result"
    }
   ],
   "source": [
    "df_old.head()"
   ]
  },
  {
   "cell_type": "code",
   "execution_count": 24,
   "metadata": {},
   "outputs": [],
   "source": [
    "def get_sentence_length(sentence):\n",
    "    doc = nlp(sentence)\n",
    "    return len(doc)"
   ]
  },
  {
   "cell_type": "code",
   "execution_count": 25,
   "metadata": {},
   "outputs": [],
   "source": [
    "df_old['sentence_length'] = df_old['sentence'].apply(get_sentence_length)"
   ]
  },
  {
   "cell_type": "code",
   "execution_count": 26,
   "metadata": {},
   "outputs": [
    {
     "data": {
      "text/html": [
       "<div>\n",
       "<style scoped>\n",
       "    .dataframe tbody tr th:only-of-type {\n",
       "        vertical-align: middle;\n",
       "    }\n",
       "\n",
       "    .dataframe tbody tr th {\n",
       "        vertical-align: top;\n",
       "    }\n",
       "\n",
       "    .dataframe thead th {\n",
       "        text-align: right;\n",
       "    }\n",
       "</style>\n",
       "<table border=\"1\" class=\"dataframe\">\n",
       "  <thead>\n",
       "    <tr style=\"text-align: right;\">\n",
       "      <th></th>\n",
       "      <th>sentence</th>\n",
       "      <th>sentence_length</th>\n",
       "    </tr>\n",
       "  </thead>\n",
       "  <tbody>\n",
       "    <tr>\n",
       "      <th>0</th>\n",
       "      <td>VIRTUAL REALITY IN STOTTERTHERAPIE</td>\n",
       "      <td>4</td>\n",
       "    </tr>\n",
       "    <tr>\n",
       "      <th>1</th>\n",
       "      <td>BIJ \\n(JONG)</td>\n",
       "      <td>5</td>\n",
       "    </tr>\n",
       "    <tr>\n",
       "      <th>2</th>\n",
       "      <td>VOLWASSENEN \\nJana Van Dammea, Hermien De Baen...</td>\n",
       "      <td>25</td>\n",
       "    </tr>\n",
       "    <tr>\n",
       "      <th>3</th>\n",
       "      <td>HOGENT, Onderzoeker 360</td>\n",
       "      <td>4</td>\n",
       "    </tr>\n",
       "    <tr>\n",
       "      <th>4</th>\n",
       "      <td>°</td>\n",
       "      <td>1</td>\n",
       "    </tr>\n",
       "  </tbody>\n",
       "</table>\n",
       "</div>"
      ],
      "text/plain": [
       "                                            sentence  sentence_length\n",
       "0                 VIRTUAL REALITY IN STOTTERTHERAPIE                4\n",
       "1                                       BIJ \\n(JONG)                5\n",
       "2  VOLWASSENEN \\nJana Van Dammea, Hermien De Baen...               25\n",
       "3                            HOGENT, Onderzoeker 360                4\n",
       "4                                                  °                1"
      ]
     },
     "execution_count": 26,
     "metadata": {},
     "output_type": "execute_result"
    }
   ],
   "source": [
    "df_old.head()"
   ]
  },
  {
   "cell_type": "code",
   "execution_count": 27,
   "metadata": {},
   "outputs": [],
   "source": [
    "df_old = df_old[df_old['sentence_length'] > 3]"
   ]
  },
  {
   "cell_type": "code",
   "execution_count": 28,
   "metadata": {},
   "outputs": [],
   "source": [
    "import readability\n",
    "\n",
    "for key in readability.getmeasures(\"test\")['readability grades'].keys():\n",
    "    df_old[key] = df_old['sentence'].apply(lambda x: readability.getmeasures(x)['readability grades'][key])"
   ]
  },
  {
   "cell_type": "code",
   "execution_count": 29,
   "metadata": {},
   "outputs": [
    {
     "data": {
      "text/html": [
       "<div>\n",
       "<style scoped>\n",
       "    .dataframe tbody tr th:only-of-type {\n",
       "        vertical-align: middle;\n",
       "    }\n",
       "\n",
       "    .dataframe tbody tr th {\n",
       "        vertical-align: top;\n",
       "    }\n",
       "\n",
       "    .dataframe thead th {\n",
       "        text-align: right;\n",
       "    }\n",
       "</style>\n",
       "<table border=\"1\" class=\"dataframe\">\n",
       "  <thead>\n",
       "    <tr style=\"text-align: right;\">\n",
       "      <th></th>\n",
       "      <th>sentence</th>\n",
       "      <th>sentence_length</th>\n",
       "      <th>Kincaid</th>\n",
       "      <th>ARI</th>\n",
       "      <th>Coleman-Liau</th>\n",
       "      <th>FleschReadingEase</th>\n",
       "      <th>GunningFogIndex</th>\n",
       "      <th>LIX</th>\n",
       "      <th>SMOGIndex</th>\n",
       "      <th>RIX</th>\n",
       "      <th>DaleChallIndex</th>\n",
       "    </tr>\n",
       "  </thead>\n",
       "  <tbody>\n",
       "    <tr>\n",
       "      <th>0</th>\n",
       "      <td>VIRTUAL REALITY IN STOTTERTHERAPIE</td>\n",
       "      <td>4</td>\n",
       "      <td>-14.030000</td>\n",
       "      <td>17.072500</td>\n",
       "      <td>22.371221</td>\n",
       "      <td>202.77500</td>\n",
       "      <td>1.600000</td>\n",
       "      <td>79.000000</td>\n",
       "      <td>3.000000</td>\n",
       "      <td>3.00</td>\n",
       "      <td>15.677400</td>\n",
       "    </tr>\n",
       "    <tr>\n",
       "      <th>1</th>\n",
       "      <td>BIJ \\n(JONG)</td>\n",
       "      <td>5</td>\n",
       "      <td>-15.200000</td>\n",
       "      <td>-4.445000</td>\n",
       "      <td>-24.808605</td>\n",
       "      <td>205.82000</td>\n",
       "      <td>0.400000</td>\n",
       "      <td>1.000000</td>\n",
       "      <td>3.000000</td>\n",
       "      <td>0.00</td>\n",
       "      <td>19.476100</td>\n",
       "    </tr>\n",
       "    <tr>\n",
       "      <th>2</th>\n",
       "      <td>VOLWASSENEN \\nJana Van Dammea, Hermien De Baen...</td>\n",
       "      <td>25</td>\n",
       "      <td>9.862500</td>\n",
       "      <td>10.940263</td>\n",
       "      <td>15.415662</td>\n",
       "      <td>32.81375</td>\n",
       "      <td>6.110526</td>\n",
       "      <td>52.118421</td>\n",
       "      <td>6.872983</td>\n",
       "      <td>2.25</td>\n",
       "      <td>18.831047</td>\n",
       "    </tr>\n",
       "    <tr>\n",
       "      <th>3</th>\n",
       "      <td>HOGENT, Onderzoeker 360</td>\n",
       "      <td>4</td>\n",
       "      <td>-2.620000</td>\n",
       "      <td>11.470000</td>\n",
       "      <td>13.535776</td>\n",
       "      <td>119.19000</td>\n",
       "      <td>1.200000</td>\n",
       "      <td>36.333333</td>\n",
       "      <td>3.000000</td>\n",
       "      <td>1.00</td>\n",
       "      <td>19.575300</td>\n",
       "    </tr>\n",
       "    <tr>\n",
       "      <th>5</th>\n",
       "      <td>Zorg en Welzijn, stottertherapeut Huis \\nvoor</td>\n",
       "      <td>8</td>\n",
       "      <td>7.213333</td>\n",
       "      <td>9.115000</td>\n",
       "      <td>10.595851</td>\n",
       "      <td>48.69000</td>\n",
       "      <td>7.866667</td>\n",
       "      <td>36.333333</td>\n",
       "      <td>6.872983</td>\n",
       "      <td>1.00</td>\n",
       "      <td>19.575300</td>\n",
       "    </tr>\n",
       "  </tbody>\n",
       "</table>\n",
       "</div>"
      ],
      "text/plain": [
       "                                            sentence  sentence_length  \\\n",
       "0                 VIRTUAL REALITY IN STOTTERTHERAPIE                4   \n",
       "1                                       BIJ \\n(JONG)                5   \n",
       "2  VOLWASSENEN \\nJana Van Dammea, Hermien De Baen...               25   \n",
       "3                            HOGENT, Onderzoeker 360                4   \n",
       "5      Zorg en Welzijn, stottertherapeut Huis \\nvoor                8   \n",
       "\n",
       "     Kincaid        ARI  Coleman-Liau  FleschReadingEase  GunningFogIndex  \\\n",
       "0 -14.030000  17.072500     22.371221          202.77500         1.600000   \n",
       "1 -15.200000  -4.445000    -24.808605          205.82000         0.400000   \n",
       "2   9.862500  10.940263     15.415662           32.81375         6.110526   \n",
       "3  -2.620000  11.470000     13.535776          119.19000         1.200000   \n",
       "5   7.213333   9.115000     10.595851           48.69000         7.866667   \n",
       "\n",
       "         LIX  SMOGIndex   RIX  DaleChallIndex  \n",
       "0  79.000000   3.000000  3.00       15.677400  \n",
       "1   1.000000   3.000000  0.00       19.476100  \n",
       "2  52.118421   6.872983  2.25       18.831047  \n",
       "3  36.333333   3.000000  1.00       19.575300  \n",
       "5  36.333333   6.872983  1.00       19.575300  "
      ]
     },
     "execution_count": 29,
     "metadata": {},
     "output_type": "execute_result"
    }
   ],
   "source": [
    "df_old.head()"
   ]
  },
  {
   "cell_type": "code",
   "execution_count": 30,
   "metadata": {},
   "outputs": [
    {
     "data": {
      "image/png": "[encoded data removed]",
      "text/plain": [
       "<Figure size 640x480 with 1 Axes>"
      ]
     },
     "metadata": {},
     "output_type": "display_data"
    }
   ],
   "source": [
    "import matplotlib.pyplot as plt\n",
    "\n",
    "bin_size = 4\n",
    "df_old['bin_sentence'] = (df_old['sentence_length'] // bin_size) * bin_size\n",
    "\n",
    "grouped = df_old.groupby('bin_sentence')['bin_sentence'].count().reset_index(name='count')\n",
    "\n",
    "plt.bar(grouped['bin_sentence'], grouped['count'], width=bin_size)\n",
    "plt.xlabel('Sentence Length')\n",
    "plt.ylabel('Count')\n",
    "plt.title('Results: Distribution of Sentence Lengths (Bins of 4)')\n",
    "plt.show()"
   ]
  },
  {
   "attachments": {},
   "cell_type": "markdown",
   "metadata": {},
   "source": [
    "# Zinsconstructies."
   ]
  },
  {
   "cell_type": "code",
   "execution_count": 31,
   "metadata": {},
   "outputs": [],
   "source": [
    "word_usage_cols = readability.getmeasures(\"test\")['word usage'].keys()\n",
    "for key in word_usage_cols:\n",
    "    df_old[key] = df_old['sentence'].apply(lambda x: readability.getmeasures(x, lang='nl')['word usage'][key])"
   ]
  },
  {
   "cell_type": "code",
   "execution_count": 32,
   "metadata": {},
   "outputs": [],
   "source": [
    "sentence_beginnings_cols = readability.getmeasures(\"test\")['sentence beginnings'].keys()\n",
    "for key in sentence_beginnings_cols:\n",
    "    df_old[key] = df_old['sentence'].apply(lambda x: readability.getmeasures(x, lang='nl')['sentence beginnings'][key])"
   ]
  },
  {
   "cell_type": "code",
   "execution_count": 33,
   "metadata": {},
   "outputs": [
    {
     "data": {
      "text/html": [
       "<div>\n",
       "<style scoped>\n",
       "    .dataframe tbody tr th:only-of-type {\n",
       "        vertical-align: middle;\n",
       "    }\n",
       "\n",
       "    .dataframe tbody tr th {\n",
       "        vertical-align: top;\n",
       "    }\n",
       "\n",
       "    .dataframe thead th {\n",
       "        text-align: right;\n",
       "    }\n",
       "</style>\n",
       "<table border=\"1\" class=\"dataframe\">\n",
       "  <thead>\n",
       "    <tr style=\"text-align: right;\">\n",
       "      <th></th>\n",
       "      <th>sentence</th>\n",
       "      <th>sentence_length</th>\n",
       "      <th>Kincaid</th>\n",
       "      <th>ARI</th>\n",
       "      <th>Coleman-Liau</th>\n",
       "      <th>FleschReadingEase</th>\n",
       "      <th>GunningFogIndex</th>\n",
       "      <th>LIX</th>\n",
       "      <th>SMOGIndex</th>\n",
       "      <th>RIX</th>\n",
       "      <th>...</th>\n",
       "      <th>bin_sentence</th>\n",
       "      <th>tobeverb</th>\n",
       "      <th>auxverb</th>\n",
       "      <th>conjunction</th>\n",
       "      <th>pronoun</th>\n",
       "      <th>preposition</th>\n",
       "      <th>nominalization</th>\n",
       "      <th>interrogative</th>\n",
       "      <th>article</th>\n",
       "      <th>subordination</th>\n",
       "    </tr>\n",
       "  </thead>\n",
       "  <tbody>\n",
       "    <tr>\n",
       "      <th>0</th>\n",
       "      <td>VIRTUAL REALITY IN STOTTERTHERAPIE</td>\n",
       "      <td>4</td>\n",
       "      <td>-14.0300</td>\n",
       "      <td>17.072500</td>\n",
       "      <td>22.371221</td>\n",
       "      <td>202.77500</td>\n",
       "      <td>1.600000</td>\n",
       "      <td>79.000000</td>\n",
       "      <td>3.000000</td>\n",
       "      <td>3.00</td>\n",
       "      <td>...</td>\n",
       "      <td>4</td>\n",
       "      <td>0</td>\n",
       "      <td>0</td>\n",
       "      <td>0</td>\n",
       "      <td>0</td>\n",
       "      <td>0</td>\n",
       "      <td>0</td>\n",
       "      <td>0</td>\n",
       "      <td>0</td>\n",
       "      <td>0</td>\n",
       "    </tr>\n",
       "    <tr>\n",
       "      <th>1</th>\n",
       "      <td>BIJ \\n(JONG)</td>\n",
       "      <td>5</td>\n",
       "      <td>-15.2000</td>\n",
       "      <td>-4.445000</td>\n",
       "      <td>-24.808605</td>\n",
       "      <td>205.82000</td>\n",
       "      <td>0.400000</td>\n",
       "      <td>1.000000</td>\n",
       "      <td>3.000000</td>\n",
       "      <td>0.00</td>\n",
       "      <td>...</td>\n",
       "      <td>4</td>\n",
       "      <td>0</td>\n",
       "      <td>0</td>\n",
       "      <td>0</td>\n",
       "      <td>0</td>\n",
       "      <td>1</td>\n",
       "      <td>0</td>\n",
       "      <td>0</td>\n",
       "      <td>0</td>\n",
       "      <td>0</td>\n",
       "    </tr>\n",
       "    <tr>\n",
       "      <th>2</th>\n",
       "      <td>VOLWASSENEN \\nJana Van Dammea, Hermien De Baen...</td>\n",
       "      <td>25</td>\n",
       "      <td>9.8625</td>\n",
       "      <td>10.940263</td>\n",
       "      <td>15.415662</td>\n",
       "      <td>32.81375</td>\n",
       "      <td>6.110526</td>\n",
       "      <td>52.118421</td>\n",
       "      <td>6.872983</td>\n",
       "      <td>2.25</td>\n",
       "      <td>...</td>\n",
       "      <td>24</td>\n",
       "      <td>0</td>\n",
       "      <td>0</td>\n",
       "      <td>0</td>\n",
       "      <td>0</td>\n",
       "      <td>0</td>\n",
       "      <td>0</td>\n",
       "      <td>0</td>\n",
       "      <td>0</td>\n",
       "      <td>0</td>\n",
       "    </tr>\n",
       "    <tr>\n",
       "      <th>3</th>\n",
       "      <td>HOGENT, Onderzoeker 360</td>\n",
       "      <td>4</td>\n",
       "      <td>-2.6200</td>\n",
       "      <td>11.470000</td>\n",
       "      <td>13.535776</td>\n",
       "      <td>119.19000</td>\n",
       "      <td>1.200000</td>\n",
       "      <td>36.333333</td>\n",
       "      <td>3.000000</td>\n",
       "      <td>1.00</td>\n",
       "      <td>...</td>\n",
       "      <td>4</td>\n",
       "      <td>0</td>\n",
       "      <td>0</td>\n",
       "      <td>0</td>\n",
       "      <td>0</td>\n",
       "      <td>0</td>\n",
       "      <td>0</td>\n",
       "      <td>0</td>\n",
       "      <td>0</td>\n",
       "      <td>0</td>\n",
       "    </tr>\n",
       "  </tbody>\n",
       "</table>\n",
       "<p>4 rows × 21 columns</p>\n",
       "</div>"
      ],
      "text/plain": [
       "                                            sentence  sentence_length  \\\n",
       "0                 VIRTUAL REALITY IN STOTTERTHERAPIE                4   \n",
       "1                                       BIJ \\n(JONG)                5   \n",
       "2  VOLWASSENEN \\nJana Van Dammea, Hermien De Baen...               25   \n",
       "3                            HOGENT, Onderzoeker 360                4   \n",
       "\n",
       "   Kincaid        ARI  Coleman-Liau  FleschReadingEase  GunningFogIndex  \\\n",
       "0 -14.0300  17.072500     22.371221          202.77500         1.600000   \n",
       "1 -15.2000  -4.445000    -24.808605          205.82000         0.400000   \n",
       "2   9.8625  10.940263     15.415662           32.81375         6.110526   \n",
       "3  -2.6200  11.470000     13.535776          119.19000         1.200000   \n",
       "\n",
       "         LIX  SMOGIndex   RIX  ...  bin_sentence  tobeverb  auxverb  \\\n",
       "0  79.000000   3.000000  3.00  ...             4         0        0   \n",
       "1   1.000000   3.000000  0.00  ...             4         0        0   \n",
       "2  52.118421   6.872983  2.25  ...            24         0        0   \n",
       "3  36.333333   3.000000  1.00  ...             4         0        0   \n",
       "\n",
       "   conjunction  pronoun  preposition  nominalization  interrogative  article  \\\n",
       "0            0        0            0               0              0        0   \n",
       "1            0        0            1               0              0        0   \n",
       "2            0        0            0               0              0        0   \n",
       "3            0        0            0               0              0        0   \n",
       "\n",
       "   subordination  \n",
       "0              0  \n",
       "1              0  \n",
       "2              0  \n",
       "3              0  \n",
       "\n",
       "[4 rows x 21 columns]"
      ]
     },
     "execution_count": 33,
     "metadata": {},
     "output_type": "execute_result"
    }
   ],
   "source": [
    "df_old.head(4)"
   ]
  },
  {
   "cell_type": "code",
   "execution_count": 34,
   "metadata": {},
   "outputs": [
    {
     "data": {
      "image/png": "[encoded data removed]",
      "text/plain": [
       "<Figure size 640x480 with 1 Axes>"
      ]
     },
     "metadata": {},
     "output_type": "display_data"
    }
   ],
   "source": [
    "word_usage_sum = df_old[word_usage_cols].sum()\n",
    "word_usage_sum.plot(kind='bar')\n",
    "plt.xlabel('Columns')\n",
    "plt.ylabel('Sum')\n",
    "plt.show()"
   ]
  },
  {
   "cell_type": "code",
   "execution_count": 35,
   "metadata": {},
   "outputs": [
    {
     "data": {
      "image/png": "[encoded data removed]",
      "text/plain": [
       "<Figure size 640x480 with 1 Axes>"
      ]
     },
     "metadata": {},
     "output_type": "display_data"
    }
   ],
   "source": [
    "sentence_beginnings_sum = df_old[sentence_beginnings_cols].sum()\n",
    "sentence_beginnings_sum.plot(kind='bar')\n",
    "plt.xlabel('Columns')\n",
    "plt.ylabel('Sum')\n",
    "plt.show()"
   ]
  }
 ],
 "metadata": {
  "kernelspec": {
   "display_name": "Python 3",
   "language": "python",
   "name": "python3"
  },
  "language_info": {
   "codemirror_mode": {
    "name": "ipython",
    "version": 3
   },
   "file_extension": ".py",
   "mimetype": "text/x-python",
   "name": "python",
   "nbconvert_exporter": "python",
   "pygments_lexer": "ipython3",
   "version": "3.10.4"
  },
  "orig_nbformat": 4
 },
 "nbformat": 4,
 "nbformat_minor": 2
}
