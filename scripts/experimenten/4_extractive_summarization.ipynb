{
 "cells": [
  {
   "attachments": {},
   "cell_type": "markdown",
   "metadata": {},
   "source": [
    "# "
   ]
  },
  {
   "attachments": {},
   "cell_type": "markdown",
   "metadata": {},
   "source": [
    "# Chat GPT"
   ]
  },
  {
   "attachments": {},
   "cell_type": "markdown",
   "metadata": {},
   "source": [
    "ChatGPT:\n",
    "\n",
    "meer onderzoek naar hoe vatbaar ChatGPT of het GPT-3 model is voor engelstalige woorden in nederlandse teksten. zelfs met een nederlandstalige prompt wordt er sneller een engelstalig antwoord gegeven. dit blijkt minder het geval bij gpt-3 via de api\n",
    "\n",
    "\n",
    "Werkwijze:\n",
    "\n",
    "De volledige tekst als input meegeven lukt niet. De tekst wordt in twee delen opgesplitst en het model wordt gevraagd om van elk deel (~2 pagina's) de tien belangrijkste zinnen op te halen.\n",
    "\n",
    "Prompt:\n",
    "\n",
    "```\n",
    "prompt: Geef de tien belangrijkste zinnen. Geef voor iedere zin de maximal marginal relevance (MMR) tot op drie decimalen na de komma.\n",
    "formaat: belangrijke zin | MMR\n",
    "tekst:\n",
    "{tekst}\n",
    "```"
   ]
  },
  {
   "cell_type": "code",
   "execution_count": 32,
   "metadata": {},
   "outputs": [
    {
     "data": {
      "text/plain": [
       "2"
      ]
     },
     "execution_count": 32,
     "metadata": {},
     "output_type": "execute_result"
    }
   ],
   "source": [
    "results_chatgpt = []\n",
    "\n",
    "results_chatgpt.append(\"\"\"Stotteren is een stoornis in de vloeiendheid van het spreken en kan verschillende problemen veroorzaken | 1.000\n",
    "Binnen stottertherapie worden verschillende doelen nagestreefd, die kunnen worden ondergebracht in drie thema's | 0.903\n",
    "Diverse therapeutische methoden, werkmodellen en behandeltechnieken kunnen worden gebruikt om de doelen van stottertherapie te bereiken | 0.803\n",
    "De aangeleerde vaardigheden zullen worden toegepast in het dagelijks leven in de 'transferfase' | 0.908\n",
    "De therapeut begeleidt de persoon die stottert in het automatiseren en generaliseren van de aangeleerde vaardigheden buiten de therapieruimte | 0.901\n",
    "De fasen van de exposure-based treatment worden doorgaans toegepast bij deze transfer | 0.881\n",
    "Een gepaste opbouw van de exposure-based treatment is belangrijk om demotivatie en een negatief zelfbeeld te voorkomen | 0.853\n",
    "De concrete vraag die bij stottertherapeuten leeft, is hoe de transferfase verder kan worden ondersteund | 0.891\n",
    "Virtuele realiteit (VR) wordt gebruikt bij het behandelen van angststoornissen en kan mogelijk ook worden gebruikt bij stottertherapie | 0.829\n",
    "VR kan worden gebruikt om het dagelijkse leven op realistische wijze in de veilige omgeving van de therapieruimte te brengen | 0.821\"\"\")\n",
    "\n",
    "results_chatgpt.append(\"\"\"De testpersonen kozen zelf welk scenario voor hen het meest geschikt leek. | MMR: 1.000\n",
    "Scenario 1 werd vier keer gekozen, scenario 2 vijf keer en scenario 3 vier keer. | MMR: 0.888\n",
    "De gegeven instructies voor aanvang van de test met het prototype waren steeds dezelfde (zie bijlage 2). | MMR: 0.750\n",
    "Tijdens de VR-ervaring observeerde de stottertherapeut/onderzoeker de testpersoon en noteerde de verbale en non-verbale reacties. | MMR: 0.500\n",
    "Nadien werd de testpersoon door een tweede onderzoeker gevraagd naar hun ervaringen bij de afgelopen simulatie en de mate waarin deze simulatie als een meerwaarde werd gezien binnen therapie. | MMR: 0.875\n",
    "Ook werd de kans gegeven verbetersuggesties te formuleren. | MMR: 0.750\n",
    "Op basis van deze verbetersuggesties werd het prototype geoptimaliseerd op vlak van scenario en technische uitwerking. | MMR: 1.000\n",
    "Inhoudelijk werd verder gewerkt met het meest gekozen scenario uit de eerste testfase, namelijk “jezelf voorstellen tijdens een informele voorstellingsronde in kleine groep”. | MMR: 0.875\n",
    "Het merendeel van deze factoren werd geïntegreerd in het herwerkte scenario voor prototype 2 (zie bijlage 3). | MMR: 0.750\n",
    "Na de uiting van de persoon die stottert werd overgegaan naar een nieuwe vraag. | MMR: 0.875\"\"\")\n",
    "\n",
    "len(results_chatgpt)"
   ]
  },
  {
   "cell_type": "code",
   "execution_count": 33,
   "metadata": {},
   "outputs": [],
   "source": [
    "sentences = []\n",
    "\n",
    "for r in results_chatgpt:\n",
    "    sent_token = r.split('\\n')\n",
    "    for s in sent_token:\n",
    "        t = s.split('|')\n",
    "        sentences.append(t)"
   ]
  },
  {
   "cell_type": "code",
   "execution_count": 34,
   "metadata": {},
   "outputs": [
    {
     "data": {
      "text/plain": [
       "[['Stotteren is een stoornis in de vloeiendheid van het spreken en kan verschillende problemen veroorzaken ',\n",
       "  ' 1.000'],\n",
       " [\"Binnen stottertherapie worden verschillende doelen nagestreefd, die kunnen worden ondergebracht in drie thema's \",\n",
       "  ' 0.903'],\n",
       " ['Diverse therapeutische methoden, werkmodellen en behandeltechnieken kunnen worden gebruikt om de doelen van stottertherapie te bereiken ',\n",
       "  ' 0.803'],\n",
       " [\"De aangeleerde vaardigheden zullen worden toegepast in het dagelijks leven in de 'transferfase' \",\n",
       "  ' 0.908'],\n",
       " ['De therapeut begeleidt de persoon die stottert in het automatiseren en generaliseren van de aangeleerde vaardigheden buiten de therapieruimte ',\n",
       "  ' 0.901'],\n",
       " ['De fasen van de exposure-based treatment worden doorgaans toegepast bij deze transfer ',\n",
       "  ' 0.881'],\n",
       " ['Een gepaste opbouw van de exposure-based treatment is belangrijk om demotivatie en een negatief zelfbeeld te voorkomen ',\n",
       "  ' 0.853'],\n",
       " ['De concrete vraag die bij stottertherapeuten leeft, is hoe de transferfase verder kan worden ondersteund ',\n",
       "  ' 0.891'],\n",
       " ['Virtuele realiteit (VR) wordt gebruikt bij het behandelen van angststoornissen en kan mogelijk ook worden gebruikt bij stottertherapie ',\n",
       "  ' 0.829'],\n",
       " ['VR kan worden gebruikt om het dagelijkse leven op realistische wijze in de veilige omgeving van de therapieruimte te brengen ',\n",
       "  ' 0.821'],\n",
       " ['De testpersonen kozen zelf welk scenario voor hen het meest geschikt leek. ',\n",
       "  ' MMR: 1.000'],\n",
       " ['Scenario 1 werd vier keer gekozen, scenario 2 vijf keer en scenario 3 vier keer. ',\n",
       "  ' MMR: 0.888'],\n",
       " ['De gegeven instructies voor aanvang van de test met het prototype waren steeds dezelfde (zie bijlage 2). ',\n",
       "  ' MMR: 0.750'],\n",
       " ['Tijdens de VR-ervaring observeerde de stottertherapeut/onderzoeker de testpersoon en noteerde de verbale en non-verbale reacties. ',\n",
       "  ' MMR: 0.500'],\n",
       " ['Nadien werd de testpersoon door een tweede onderzoeker gevraagd naar hun ervaringen bij de afgelopen simulatie en de mate waarin deze simulatie als een meerwaarde werd gezien binnen therapie. ',\n",
       "  ' MMR: 0.875'],\n",
       " ['Ook werd de kans gegeven verbetersuggesties te formuleren. ',\n",
       "  ' MMR: 0.750'],\n",
       " ['Op basis van deze verbetersuggesties werd het prototype geoptimaliseerd op vlak van scenario en technische uitwerking. ',\n",
       "  ' MMR: 1.000'],\n",
       " ['Inhoudelijk werd verder gewerkt met het meest gekozen scenario uit de eerste testfase, namelijk “jezelf voorstellen tijdens een informele voorstellingsronde in kleine groep”. ',\n",
       "  ' MMR: 0.875'],\n",
       " ['Het merendeel van deze factoren werd geïntegreerd in het herwerkte scenario voor prototype 2 (zie bijlage 3). ',\n",
       "  ' MMR: 0.750'],\n",
       " ['Na de uiting van de persoon die stottert werd overgegaan naar een nieuwe vraag. ',\n",
       "  ' MMR: 0.875']]"
      ]
     },
     "execution_count": 34,
     "metadata": {},
     "output_type": "execute_result"
    }
   ],
   "source": [
    "sentences"
   ]
  },
  {
   "cell_type": "code",
   "execution_count": 36,
   "metadata": {},
   "outputs": [],
   "source": [
    "import spacy\n",
    "nlp = spacy.load(\"nl_core_news_md\")\n",
    "import textstat\n",
    "\n",
    "\n",
    "def get_sentence_length(sentence):\n",
    "    doc = nlp(sentence)\n",
    "    return len(doc)\n",
    "\n",
    "def calculate_fre_score(sentence):\n",
    "    score = textstat.flesch_reading_ease(sentence)\n",
    "    return score\n"
   ]
  },
  {
   "cell_type": "code",
   "execution_count": 37,
   "metadata": {},
   "outputs": [],
   "source": [
    "import pandas as pd\n",
    "df_chatgpt = pd.DataFrame(sentences, columns =['Zin', 'MMR'])\n",
    "df_chatgpt['sentence_length'] = df_chatgpt['Zin'].apply(get_sentence_length)\n",
    "df_chatgpt['fre'] = df_chatgpt['Zin'].apply(calculate_fre_score)"
   ]
  },
  {
   "cell_type": "code",
   "execution_count": 38,
   "metadata": {},
   "outputs": [
    {
     "data": {
      "image/png": "[encoded data removed]",
      "text/plain": [
       "<Figure size 640x480 with 1 Axes>"
      ]
     },
     "metadata": {},
     "output_type": "display_data"
    }
   ],
   "source": [
    "import matplotlib.pyplot as plt\n",
    "grouped = df_chatgpt.groupby('sentence_length')['sentence_length'].count().reset_index(name='count')\n",
    "plt.bar(grouped['sentence_length'], grouped['count'])\n",
    "plt.xlabel('Sentence Length')\n",
    "plt.ylabel('Count')\n",
    "plt.title('Results ChatGPT: Distribution of Sentence Lengths')\n",
    "plt.show()"
   ]
  },
  {
   "cell_type": "code",
   "execution_count": 42,
   "metadata": {},
   "outputs": [
    {
     "data": {
      "image/png": "[encoded data removed]",
      "text/plain": [
       "<Figure size 640x480 with 1 Axes>"
      ]
     },
     "metadata": {},
     "output_type": "display_data"
    }
   ],
   "source": [
    "import matplotlib.pyplot as plt\n",
    "grouped = df_chatgpt.groupby('fre')['fre'].count().reset_index(name='count')\n",
    "plt.bar(grouped['fre'], grouped['count'])\n",
    "plt.xlabel('FRE')\n",
    "plt.ylabel('Count')\n",
    "plt.title('Results ChatGPT: Distribution of FRE')\n",
    "plt.show()"
   ]
  },
  {
   "attachments": {},
   "cell_type": "markdown",
   "metadata": {},
   "source": [
    "# Algemene statistieken"
   ]
  }
 ],
 "metadata": {
  "kernelspec": {
   "display_name": "Python 3",
   "language": "python",
   "name": "python3"
  },
  "language_info": {
   "codemirror_mode": {
    "name": "ipython",
    "version": 3
   },
   "file_extension": ".py",
   "mimetype": "text/x-python",
   "name": "python",
   "nbconvert_exporter": "python",
   "pygments_lexer": "ipython3",
   "version": "3.10.4"
  },
  "orig_nbformat": 4
 },
 "nbformat": 4,
 "nbformat_minor": 2
}
