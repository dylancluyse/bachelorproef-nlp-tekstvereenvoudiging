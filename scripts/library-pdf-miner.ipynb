{
 "cells": [
  {
   "attachments": {},
   "cell_type": "markdown",
   "metadata": {},
   "source": [
    "# LaTeX PDF"
   ]
  },
  {
   "cell_type": "code",
   "execution_count": 21,
   "metadata": {},
   "outputs": [],
   "source": [
    "from pdfminer.high_level import extract_pages\n",
    "from pdfminer.layout import LTTextContainer, LTChar"
   ]
  },
  {
   "cell_type": "code",
   "execution_count": 22,
   "metadata": {},
   "outputs": [],
   "source": [
    "pdf = '../verslag/output/CluyseDylanBP.pdf'"
   ]
  },
  {
   "attachments": {},
   "cell_type": "markdown",
   "metadata": {},
   "source": [
    "## Gathering specific pages from a LaTeX-PDF"
   ]
  },
  {
   "cell_type": "code",
   "execution_count": 23,
   "metadata": {},
   "outputs": [
    {
     "data": {
      "text/plain": [
       "'../verslag/output/CluyseDylanBP.pdf'"
      ]
     },
     "execution_count": 23,
     "metadata": {},
     "output_type": "execute_result"
    }
   ],
   "source": [
    "pdf"
   ]
  },
  {
   "cell_type": "code",
   "execution_count": 24,
   "metadata": {},
   "outputs": [],
   "source": [
    "all_pages = extract_pages(\n",
    "    pdf,\n",
    "    page_numbers=[30],\n",
    "    maxpages=1\n",
    ")\n",
    "\n",
    "full_text = \"\"\n",
    "\n",
    "\n",
    "for page_layout in all_pages:\n",
    "    for element in page_layout:\n",
    "        if isinstance(element, LTTextContainer):\n",
    "            for text_line in element:\n",
    "                full_text += text_line.get_text()"
   ]
  },
  {
   "cell_type": "code",
   "execution_count": 25,
   "metadata": {},
   "outputs": [
    {
     "data": {
      "text/plain": [
       "'2.4. De verschillende soorten tekstvereenvoudiging\\n23\\nFiguur (2.12)\\nVoorbeeld van manuele tekstvereenvoudiging. Oorspronkelijke tekst uit Historia 5 bron toe te voegen\\n2.4.1. Lexicale vereenvoudiging\\n'"
      ]
     },
     "execution_count": 25,
     "metadata": {},
     "output_type": "execute_result"
    }
   ],
   "source": [
    "full_text[:200]"
   ]
  },
  {
   "attachments": {},
   "cell_type": "markdown",
   "metadata": {},
   "source": [
    "## Gathering different fonts from a LaTeX-PDF."
   ]
  },
  {
   "cell_type": "code",
   "execution_count": 26,
   "metadata": {},
   "outputs": [],
   "source": [
    "fonts = []\n",
    "\n",
    "for page_layout in extract_pages(pdf):\n",
    "    for element in page_layout:\n",
    "        if isinstance(element, LTTextContainer):\n",
    "            for text_line in element:\n",
    "                for character in text_line:\n",
    "                    if isinstance(character, LTChar):\n",
    "                        if character.fontname not in fonts:\n",
    "                            fonts.append(character.fontname)"
   ]
  },
  {
   "cell_type": "code",
   "execution_count": 27,
   "metadata": {},
   "outputs": [
    {
     "data": {
      "text/plain": [
       "['EZIVTI+Montserrat-Black',\n",
       " 'CAYWFX+Montserrat-ExtraBold',\n",
       " 'LWLRJE+Montserrat-Regular',\n",
       " 'VSVKJZ+Montserrat-Bold',\n",
       " 'RSVGBK+Montserrat-Italic']"
      ]
     },
     "execution_count": 27,
     "metadata": {},
     "output_type": "execute_result"
    }
   ],
   "source": [
    "fonts[:5]"
   ]
  },
  {
   "cell_type": "code",
   "execution_count": 28,
   "metadata": {},
   "outputs": [],
   "source": [
    "full_text = []\n",
    "\n",
    "for page_layout in extract_pages(pdf):\n",
    "    for element in page_layout:\n",
    "        if isinstance(element, LTTextContainer):\n",
    "            for text_line in element:\n",
    "                full_text.append(text_line)  "
   ]
  },
  {
   "cell_type": "code",
   "execution_count": 29,
   "metadata": {},
   "outputs": [
    {
     "data": {
      "text/plain": [
       "[<LTTextLineHorizontal 42.520,758.625,552.762,783.413 'Scholieren met dyslexie van de derde\\n'>,\n",
       " <LTTextLineHorizontal 42.520,732.324,570.634,757.112 'graad middelbaar onderwijs ondersteu-\\n'>,\n",
       " <LTTextLineHorizontal 42.520,706.022,557.571,730.810 'nen bij het lezen van wetenschappe-\\n'>,\n",
       " <LTTextLineHorizontal 42.520,679.721,500.164,704.509 'lijke papers via tekstsimplificatie.\\n'>,\n",
       " <LTTextLineHorizontal 42.520,655.321,234.541,672.536 'Optionele ondertitel.\\n'>,\n",
       " <LTTextLineHorizontal 42.520,617.747,145.813,632.093 'Dylan Cluyse.\\n'>,\n",
       " <LTTextLineHorizontal 42.520,237.350,355.928,248.259 'Scriptie voorgedragen tot het bekomen van de graad van\\n'>,\n",
       " <LTTextLineHorizontal 42.520,221.091,326.615,232.000 'Professionele bachelor in de toegepaste informatica\\n'>,\n",
       " <LTTextLineHorizontal 42.520,164.663,187.712,175.572 'Promotor: Mevr. L. De Mol\\n'>,\n",
       " <LTTextLineHorizontal 42.520,148.404,261.829,159.313 'Co-promotor: J. Decorte; J. Van Damme\\n'>]"
      ]
     },
     "execution_count": 29,
     "metadata": {},
     "output_type": "execute_result"
    }
   ],
   "source": [
    "full_text[:10]"
   ]
  },
  {
   "attachments": {},
   "cell_type": "markdown",
   "metadata": {},
   "source": [
    "## Analysis of a PDF document"
   ]
  },
  {
   "cell_type": "code",
   "execution_count": 30,
   "metadata": {},
   "outputs": [],
   "source": [
    "from pdfminer.pdfparser import PDFParser\n",
    "from pdfminer.pdfdocument import PDFDocument\n",
    "from pdfminer.pdftypes import resolve1\n",
    "\n",
    "fp = open(pdf, 'rb')\n",
    "parser = PDFParser(fp)\n",
    "document = PDFDocument(parser)\n",
    "\n",
    "arr_outlines = []\n",
    "toc = []\n",
    "\n",
    "if \"Outlines\" in document.catalog:\n",
    "    outlines = document.get_outlines()\n",
    "    for (level,title,dest,a,se) in outlines:\n",
    "        arr_outlines.append([level, title])"
   ]
  },
  {
   "cell_type": "code",
   "execution_count": 31,
   "metadata": {},
   "outputs": [
    {
     "data": {
      "text/plain": [
       "True"
      ]
     },
     "execution_count": 31,
     "metadata": {},
     "output_type": "execute_result"
    }
   ],
   "source": [
    "document.is_extractable"
   ]
  },
  {
   "cell_type": "code",
   "execution_count": 32,
   "metadata": {},
   "outputs": [
    {
     "data": {
      "text/plain": [
       "{'OpenAction': [<PDFObjRef:3>, /'Fit'],\n",
       " 'PageMode': /'UseOutlines',\n",
       " 'PageLabels': {'Nums': [0, {'S': /'r'}, 8, {'S': /'D'}]},\n",
       " 'Names': <PDFObjRef:1103>,\n",
       " 'Outlines': <PDFObjRef:1104>,\n",
       " 'Pages': <PDFObjRef:1170>,\n",
       " 'Type': /'Catalog'}"
      ]
     },
     "execution_count": 32,
     "metadata": {},
     "output_type": "execute_result"
    }
   ],
   "source": [
    "document.catalog"
   ]
  },
  {
   "cell_type": "code",
   "execution_count": 33,
   "metadata": {},
   "outputs": [
    {
     "data": {
      "text/plain": [
       "[[1, 'Lĳst van figuren'],\n",
       " [1, 'Inleiding'],\n",
       " [2, 'Probleemstelling'],\n",
       " [2, 'Onderzoeksvraag'],\n",
       " [2, 'Onderzoeksdoelstelling'],\n",
       " [2, 'Opzet van deze bachelorproef'],\n",
       " [1, 'Stand van zaken'],\n",
       " [2, 'Onderzoeken rond dyslexie'],\n",
       " [3, 'Centraal zicht op dyslexie'],\n",
       " [3, 'Fonologische dyslexie']]"
      ]
     },
     "execution_count": 33,
     "metadata": {},
     "output_type": "execute_result"
    }
   ],
   "source": [
    "arr_outlines[:10]"
   ]
  },
  {
   "attachments": {},
   "cell_type": "markdown",
   "metadata": {},
   "source": [
    "# LaTeX (compact format)"
   ]
  },
  {
   "cell_type": "code",
   "execution_count": 34,
   "metadata": {},
   "outputs": [],
   "source": [
    "pdf = \"C:/Users/dylan/Downloads/bap/simplification-of-literary-and-scientific-texts-to-improve-reading-fluency-and-comprehension-in-beginning-readers-of-french.pdf\""
   ]
  },
  {
   "attachments": {},
   "cell_type": "markdown",
   "metadata": {},
   "source": [
    "## Gathering different fonts"
   ]
  },
  {
   "cell_type": "code",
   "execution_count": 35,
   "metadata": {},
   "outputs": [],
   "source": [
    "from pdfminer.high_level import extract_pages\n",
    "from pdfminer.layout import LTTextContainer, LTChar\n",
    "\n",
    "fonts = []\n",
    "\n",
    "for page_layout in extract_pages(pdf):\n",
    "    for element in page_layout:\n",
    "        if isinstance(element, LTTextContainer):\n",
    "            for text_line in element:\n",
    "                for character in text_line:\n",
    "                    if isinstance(character, LTChar):\n",
    "                        if character.fontname not in fonts:\n",
    "                            fonts.append(character.fontname)"
   ]
  },
  {
   "cell_type": "code",
   "execution_count": 36,
   "metadata": {},
   "outputs": [
    {
     "data": {
      "text/plain": [
       "['MOBAKO+AdvOT7d6df7ab.I',\n",
       " 'MOBAII+AdvOT1ef757c0',\n",
       " 'MOBAJM+AdvOTb65e897d.B',\n",
       " 'MOBAJL+AdvOT1ef757c0+20',\n",
       " 'MOBAIH+AdvOT031da8bf',\n",
       " 'AAAHFE+NotoSans',\n",
       " 'MOBBDN+AdvOT6a84369d.BI',\n",
       " 'MOBAPO+AdvOT6b1ec377',\n",
       " 'BKMJDE+AdvOT8608a8d1+21',\n",
       " 'MOBHMM+AdvOT7d6df7ab.I+20',\n",
       " 'APMKIN+AdvP4C4E51',\n",
       " 'MOBBFO+AdvOTcabc3928.I',\n",
       " 'MOBBOO+AdvOTa1b8d78f.I',\n",
       " 'MOBBKO+AdvOT0e40dc65',\n",
       " 'ALJJAJ+AdvOTa42dc7d3.B',\n",
       " 'MOBBOP+AdvOT8608a8d1+22',\n",
       " 'MOBBKP+AdvOT0e40dc65+20',\n",
       " 'APMOLI+AdvP49C2A1',\n",
       " 'ALKALC+AdvOTb65e897d.B+20',\n",
       " 'APMKLP+AdvOT45bf69de.BI']"
      ]
     },
     "execution_count": 36,
     "metadata": {},
     "output_type": "execute_result"
    }
   ],
   "source": [
    "fonts"
   ]
  },
  {
   "cell_type": "code",
   "execution_count": 37,
   "metadata": {},
   "outputs": [],
   "source": [
    "fp = open(pdf, 'rb')\n",
    "parser = PDFParser(fp)\n",
    "document = PDFDocument(parser)\n",
    "\n",
    "arr_outlines = []\n",
    "\n",
    "if \"Outlines\" in document.catalog:\n",
    "    outlines = document.get_outlines()\n",
    "    for (level,title,dest,a,se) in outlines:\n",
    "        arr_outlines.append([level, title])"
   ]
  },
  {
   "cell_type": "code",
   "execution_count": 38,
   "metadata": {},
   "outputs": [
    {
     "data": {
      "text/plain": [
       "True"
      ]
     },
     "execution_count": 38,
     "metadata": {},
     "output_type": "execute_result"
    }
   ],
   "source": [
    "document.is_extractable"
   ]
  },
  {
   "cell_type": "code",
   "execution_count": 53,
   "metadata": {},
   "outputs": [
    {
     "data": {
      "text/plain": [
       "{'AcroForm': <PDFObjRef:610>,\n",
       " 'Metadata': <PDFObjRef:210>,\n",
       " 'Pages': <PDFObjRef:570>,\n",
       " 'Type': /'Catalog'}"
      ]
     },
     "execution_count": 53,
     "metadata": {},
     "output_type": "execute_result"
    }
   ],
   "source": [
    "document.catalog"
   ]
  },
  {
   "attachments": {},
   "cell_type": "markdown",
   "metadata": {},
   "source": [
    "## Shell"
   ]
  },
  {
   "cell_type": "code",
   "execution_count": null,
   "metadata": {},
   "outputs": [
    {
     "data": {
      "text/plain": [
       "0"
      ]
     },
     "execution_count": 32,
     "metadata": {},
     "output_type": "execute_result"
    }
   ],
   "source": [
    "import os\n",
    "\n",
    "pdf2txt = \"C:/_hogeschool-gent/pdfminer.six/tools/pdf2txt.py\"\n",
    "file = \"C:/_hogeschool-gent/bachelorproef-nlp-tekstvereenvoudiging/verslag/output/CluyseDylanBP.pdf\"\n",
    "\n",
    "output_dir = \"\"\n",
    "to_dir = f\"-o {output_dir}test.txt\"\n",
    "\n",
    "\n",
    "os.system(pdf2txt + ' ' + file + ' ' + to_dir + '--extract-toc')"
   ]
  }
 ],
 "metadata": {
  "kernelspec": {
   "display_name": "Python 3",
   "language": "python",
   "name": "python3"
  },
  "language_info": {
   "codemirror_mode": {
    "name": "ipython",
    "version": 3
   },
   "file_extension": ".py",
   "mimetype": "text/x-python",
   "name": "python",
   "nbconvert_exporter": "python",
   "pygments_lexer": "ipython3",
   "version": "3.10.10 (tags/v3.10.10:aad5f6a, Feb  7 2023, 17:20:36) [MSC v.1929 64 bit (AMD64)]"
  },
  "orig_nbformat": 4,
  "vscode": {
   "interpreter": {
    "hash": "89da10480825c8ad24c96d10788e772e9a68ac77e314b3c42d655a8c40ed70a5"
   }
  }
 },
 "nbformat": 4,
 "nbformat_minor": 2
}
