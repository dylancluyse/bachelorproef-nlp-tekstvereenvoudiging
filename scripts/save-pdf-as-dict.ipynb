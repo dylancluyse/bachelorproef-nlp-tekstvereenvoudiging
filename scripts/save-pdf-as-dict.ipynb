{
 "cells": [
  {
   "cell_type": "code",
   "execution_count": null,
   "metadata": {},
   "outputs": [],
   "source": [
    "from flask import Flask, render_template,request,jsonify\n",
    "\n",
    "# PDF Miner\n",
    "from pdfminer.high_level import extract_pages\n",
    "from pdfminer.layout import LTTextContainer, LTChar\n",
    "from pdfminer.pdfparser import PDFParser\n",
    "from pdfminer.pdfdocument import PDFDocument\n",
    "from io import BytesIO\n",
    "\n",
    "# \n",
    "from langdetect import detect\n",
    "import openai, configparser, os, spacy, re, yake\n",
    "from summarizer import Summarizer\n",
    "from spacy.matcher import PhraseMatcher"
   ]
  },
  {
   "cell_type": "code",
   "execution_count": null,
   "metadata": {},
   "outputs": [],
   "source": [
    "all_pages = extract_pages(\n",
    "        pdf_data,\n",
    "        page_numbers=None,\n",
    "        maxpages=5\n",
    ")"
   ]
  },
  {
   "cell_type": "code",
   "execution_count": null,
   "metadata": {},
   "outputs": [],
   "source": [
    "sentences = get_full_text(all_pages)"
   ]
  },
  {
   "cell_type": "code",
   "execution_count": null,
   "metadata": {},
   "outputs": [],
   "source": [
    "def get_full_text():\n",
    "    page_content = {}\n",
    "    for i, page_layout in enumerate(all_pages):\n",
    "        content = ''\n",
    "        for element in page_layout:\n",
    "            if isinstance(element, LTTextContainer):\n",
    "                for text_line in element:\n",
    "                    content += text_line.get_text()\n",
    "        page_content[i+1] = content"
   ]
  }
 ],
 "metadata": {
  "language_info": {
   "name": "python"
  },
  "orig_nbformat": 4
 },
 "nbformat": 4,
 "nbformat_minor": 2
}
