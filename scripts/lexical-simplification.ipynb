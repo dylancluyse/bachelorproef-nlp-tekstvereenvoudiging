{
 "cells": [
  {
   "cell_type": "code",
   "execution_count": 17,
   "metadata": {},
   "outputs": [],
   "source": [
    "from pdfminer.high_level import extract_pages\n",
    "from pdfminer.layout import LTTextContainer, LTChar\n",
    "import spacy"
   ]
  },
  {
   "cell_type": "code",
   "execution_count": 18,
   "metadata": {},
   "outputs": [],
   "source": [
    "pdf = '../verslag/output/CluyseDylanBP.pdf'"
   ]
  },
  {
   "cell_type": "code",
   "execution_count": 19,
   "metadata": {},
   "outputs": [],
   "source": [
    "all_pages = extract_pages(\n",
    "    pdf,\n",
    "    page_numbers=[30],\n",
    "    maxpages=10\n",
    ")\n",
    "\n",
    "full_text = \"\"\n",
    "\n",
    "\n",
    "for page_layout in all_pages:\n",
    "    for element in page_layout:\n",
    "        if isinstance(element, LTTextContainer):\n",
    "            for text_line in element:\n",
    "                full_text += text_line.get_text()"
   ]
  },
  {
   "cell_type": "code",
   "execution_count": 20,
   "metadata": {},
   "outputs": [
    {
     "data": {
      "text/plain": [
       "'2.3. Tekstvereenvoudiging\\n21\\nparafraseren van de tekst. De geparafraseerde tekst blijft semantisch gelijk, maar\\nhet neemt een andere syntax, structuur en woordenschat aan (Rijkhoff, 2022).\\nVolgens Hollenkamp (2020) en McCombes (2022) moet de samenvatting van een\\nwetenschappelijk artikel altijd de volgende drie vragen kunnen beantwoorden:\\n• Waarom werd het onderzoek verricht? Welke achtergrondinformatie en con-\\ntext nam de onderzoeker in acht. Daarnaast moeten de geformuleerde hypo-\\ntheses aan bod komen.\\n• Wat werd er geëxperimenteerd? Alle gebruikte methoden en resultaten moe-\\nten in een samenvatting terug te vinden zijn en enkel de noodzakelijke kwali-\\ntatieve waarden mogen aan bod komen.\\n• Welke conclusies trekken de onderzoeker(s) uit het onderzoek? De implica-\\nties en beperkingen tijdens het onderzoek, alsook de aanradingen moeten in\\nde samenvattingen aan bod komen.\\nWoordenschat\\nMoeilijke woorden kunnen op twee manieren beperkt worden. Eerst moet een\\ntekst op maat zijn van het doelpubliek. De gehanteerde (vak)termen moeten be-\\ngrijpelijk zijn voor iedereen binnen het doelpubliek. Deze leesgraad en voorkennis\\nwisselt sterk af bij scholieren in de laatste graad middelbaar onderwijs. Als het niet\\nmogelijk is om eenvoudigere synoniemen te gebruiken, dan komt het van pas om\\nde woorden uit te leggen. Dit hoeft enkel te gebeuren bij de eerste keer dat deze\\nwoorden voorkomen (Bosmans e.a., 2022b, 2022c). Case (2008) haalt aan om ho-\\nmoniemen en homofonen te vervangen.\\nGrammatica\\nMensen proberen bij het schrijven wel vaak om iets kort en bondig te schrijven, al\\nschrijven veel mensen nog steeds volgens hun gedachten. Dit leidt tot een om-\\nslachtige schrijfstijl en dit heeft een nadelig effect op de grammatica in een tekst.\\nTangconstructies, lange zinsaanlopen en voorzetselketens zijn vaak voorkomende\\nboosdoeners volgens Bosmans e.a. (2022a). Tangconstructies zijn zinsstructuren\\nwaarbij een bijwoordelijke bepaling of bijzin tussen het onderwerp en de persoons-\\nvorm van een zin wordt geplaatst. Tangconstructies kunnen minder zwaar wor-\\nden gemaakt door de twee grijpers van de tang dichter bij elkaar te brengen of\\ndoor lange zinnen te splitsen. Aanvullende informatie kan beter kort worden ge-\\nhouden en vooraan of achteraan in de zin worden geplaatst om onderbrekingen\\nte voorkomen. Bosmans e.a. (2022a) en Rijnvis (2020) halen drie aanpakken aan om\\ntangconstructies te vermijden:\\n• De bijzin naar het begin of het einde van een zin plaatsen.\\n• De zin splitsen in twee kortere zinnen.\\n'"
      ]
     },
     "execution_count": 20,
     "metadata": {},
     "output_type": "execute_result"
    }
   ],
   "source": [
    "full_text"
   ]
  },
  {
   "cell_type": "code",
   "execution_count": null,
   "metadata": {},
   "outputs": [],
   "source": []
  },
  {
   "cell_type": "code",
   "execution_count": 22,
   "metadata": {},
   "outputs": [
    {
     "name": "stdout",
     "output_type": "stream",
     "text": [
      "2.3.\n",
      "Tekstvereenvoudiging\n",
      "21\n",
      "parafraseren van de tekst.\n",
      "De geparafraseerde tekst blijft semantisch gelijk, maar\n",
      "het neemt een andere syntax, structuur en woordenschat aan (Rijkhoff, 2022).\n",
      "\n",
      "Volgens Hollenkamp (2020) en McCombes (2022) moet de samenvatting van een\n",
      "wetenschappelijk artikel altijd de volgende drie vragen kunnen beantwoorden:\n",
      "\n",
      "•\n",
      "Waarom werd het onderzoek verricht?\n",
      "Welke achtergrondinformatie en con-\n",
      "text nam de onderzoeker in acht.\n",
      "Daarnaast moeten de geformuleerde hypo-\n",
      "theses aan bod komen.\n",
      "\n",
      "•\n",
      "Wat werd er geëxperimenteerd?\n",
      "Alle gebruikte methoden en resultaten moe-\n",
      "ten in een samenvatting terug te vinden zijn en enkel de noodzakelijke kwali-\n",
      "tatieve waarden mogen aan bod komen.\n",
      "\n",
      "• Welke conclusies trekken de onderzoeker(s) uit het onderzoek?\n",
      "De implica-\n",
      "ties en beperkingen tijdens het onderzoek, alsook de aanradingen moeten in\n",
      "de samenvattingen aan bod komen.\n",
      "\n",
      "Woordenschat\n",
      "Moeilijke woorden kunnen op twee manieren beperkt worden.\n",
      "Eerst moet een\n",
      "tekst op maat zijn van het doelpubliek.\n",
      "De gehanteerde (vak)termen moeten be-\n",
      "grijpelijk zijn voor iedereen binnen het doelpubliek.\n",
      "Deze leesgraad en voorkennis\n",
      "wisselt sterk af bij scholieren in de laatste graad middelbaar onderwijs.\n",
      "Als het niet\n",
      "mogelijk is om eenvoudigere synoniemen te gebruiken, dan komt het van pas om\n",
      "de woorden uit te leggen.\n",
      "Dit hoeft enkel te gebeuren bij de eerste keer dat deze\n",
      "woorden voorkomen (Bosmans e.a., 2022b, 2022c).\n",
      "Case (2008) haalt aan om ho-\n",
      "moniemen en homofonen te vervangen.\n",
      "\n",
      "Grammatica\n",
      "Mensen proberen bij het schrijven wel vaak om iets kort en bondig te schrijven, al\n",
      "schrijven veel mensen nog steeds volgens hun gedachten.\n",
      "Dit leidt tot een om-\n",
      "slachtige schrijfstijl en dit heeft een nadelig effect op de grammatica in een tekst.\n",
      "\n",
      "Tangconstructies, lange zinsaanlopen en voorzetselketens zijn vaak voorkomende\n",
      "boosdoeners volgens Bosmans e.a. (2022a).\n",
      "Tangconstructies zijn zinsstructuren\n",
      "waarbij een bijwoordelijke bepaling of bijzin tussen het onderwerp en de persoons-\n",
      "vorm van een zin wordt geplaatst.\n",
      "Tangconstructies kunnen minder zwaar wor-\n",
      "den gemaakt door de twee grijpers van de tang dichter bij elkaar te brengen of\n",
      "door lange zinnen te splitsen.\n",
      "Aanvullende informatie kan beter kort worden ge-\n",
      "houden en vooraan of achteraan in de zin worden geplaatst om onderbrekingen\n",
      "te voorkomen.\n",
      "Bosmans e.a. (2022a) en Rijnvis (2020) halen drie aanpakken aan om\n",
      "tangconstructies te vermijden:\n",
      "\n",
      "• De bijzin naar het begin of het einde van een zin plaatsen.\n",
      "\n",
      "•\n",
      "De zin splitsen in twee kortere zinnen.\n",
      "\n"
     ]
    },
    {
     "data": {
      "text/plain": [
       "0"
      ]
     },
     "execution_count": 22,
     "metadata": {},
     "output_type": "execute_result"
    }
   ],
   "source": [
    "nlp = spacy.load('nl_core_news_sm')\n",
    "\n",
    "doc = nlp(full_text)\n",
    "\n",
    "count = 0\n",
    "for sent in doc.sents:\n",
    "    print(sent)\n",
    "\n",
    "count"
   ]
  }
 ],
 "metadata": {
  "kernelspec": {
   "display_name": "Python 3",
   "language": "python",
   "name": "python3"
  },
  "language_info": {
   "codemirror_mode": {
    "name": "ipython",
    "version": 3
   },
   "file_extension": ".py",
   "mimetype": "text/x-python",
   "name": "python",
   "nbconvert_exporter": "python",
   "pygments_lexer": "ipython3",
   "version": "3.10.10"
  },
  "orig_nbformat": 4
 },
 "nbformat": 4,
 "nbformat_minor": 2
}
