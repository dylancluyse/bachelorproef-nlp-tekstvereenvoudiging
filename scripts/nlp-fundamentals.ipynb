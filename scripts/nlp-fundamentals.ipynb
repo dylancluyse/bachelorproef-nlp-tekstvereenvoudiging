{
 "cells": [
  {
   "cell_type": "code",
   "execution_count": 1,
   "metadata": {},
   "outputs": [],
   "source": [
    "# spacy\n",
    "import spacy\n",
    "#from spacy.lemmatizer import Lemmatizer\n",
    "from spacy.lookups import Lookups\n",
    "\n",
    "\n",
    "# nltk\n",
    "from nltk.stem.snowball import SnowballStemmer"
   ]
  },
  {
   "cell_type": "code",
   "execution_count": 2,
   "metadata": {},
   "outputs": [],
   "source": [
    "nlp = spacy.load(\"nl_core_news_sm\")"
   ]
  },
  {
   "cell_type": "code",
   "execution_count": 3,
   "metadata": {},
   "outputs": [],
   "source": [
    "# (Deroo, 2022): https://www.eoswetenschap.eu/natuur-milieu/ondiepe-waters-geheimzinnige-gronden\n",
    "\n",
    "text = \"\"\"\n",
    "Rijst is één van de meest klimaatonvriendelijke gewassen ter wereld. Rijst telen met minder water helpt, maar de processen onder de grond zijn zo complex dat niemand voorspellingen kan doen. Ik keek op atomair niveau in rijstbodems uit Bangladesh en Italië.\n",
    "Het prijkt in de top drie van de meest geproduceerde gewassen ter wereld. Het is hét basisvoedsel bij uitstek voor minstens de helft van de wereldbevolking. Maar daarnaast is rijst helaas ook één van de meest klimaatonvriendelijke gewassen. In bevloeide bodems worden immers de micro-organismen actief die verantwoordelijk zijn voor de productie van het hardnekkige broeikasgas methaan. Maar liefst 9 procent van de wereldwijde, van de mens afkomstige methaanuitstoot ontsnapt uit velden waarop rijst geteeld wordt. Een allesbehalve wenselijke situatie dus, als we op een verantwoorde manier sushi, nasi goreng of risotto willen blijven eten.\n",
    "Gelukkig bieden de zogenaamde waterbesparende irrigatiemethodes soelaas. Uit veelvuldig onderzoek blijkt immers dat niet alleen het waterverbruik, maar ook de uitstoot van methaan drastisch afneemt wanneer rijstvelden van tijd tot tijd gedraineerd worden. Dat deze teeltmethode in opmars is, hoeft dan ook niet te verbazen.\n",
    "Minder waterverbruik én minder broeikasgasemissies? Niet voor niets krijgen waterbesparende irrigatietechnieken in de rijstteelt meer en meer aandacht.\n",
    "Begrijpen om te voorspellen\n",
    "Hoevéél de uitstoot van dergelijke broeikasgassen juist verandert bij minder water, hangt echter af van een hele resem factoren die te maken hebben het bodemtype, het weer en hoe de landbouwer het veld beheert. Om de exacte klimaatimpact van een bepaalde irrigatiemethode in een bepaalde setting zonder (nieuwe) metingen te kunnen inschatten, moeten we dus met heel wat rekening houden. Daarom werken wetenschappers al decennialang aan de ontwikkeling van bodemmodellen. Die kunnen voorspellingen doen van de hoeveelheid broeikasgasemissies, de gewasopbrengst of de bodemvruchtbaarheid, net zoals een weermodel het weer van morgen kan voorspellen.\n",
    "Onderzoek naar fundamentele kennis over bodemprocessen heeft niet enkel letterlijk, maar ook figuurlijk heel wat voeten in de aarde\n",
    "Hiervoor is wel heel wat inzicht nodig in de processen die zich in de bodem afspelen. We willen dus ook graag weten waaróm rijstteelt met minder water minder belastend is voor het klimaat. En laat dat nu net de moeilijkheid zijn, want in bodems van rijstvelden spelen zich zoveel complexe processen tegelijk en op dezelfde plaats af, dat het bijna onmogelijk is om metingen te doen van individuele omzettingen van cruciale bodemelementen, en zo hun werkingsmechanisme te ontrafelen. Onderzoek naar fundamentele kennis over bodemprocessen heeft niet enkel letterlijk, maar ook figuurlijk heel wat voeten in de aarde.\n",
    "Rijstteelt met minder water heeft een lagere methaanuitstoot. Waarom dit zo is, is grotendeels een vraagteken, want wat in de bodem gebeurt is lastig om te meten.\n",
    "De mysterieuze wereld onder onze voeten\n",
    "Toch heb ik geprobeerd om enkele van deze puzzelstukken te leggen tijdens mijn doctoraatsonderzoek. In bodems van rijstvelden in de Gangesdelta in Bangladesh en de delta van de rivier Po in Italië – twee belangrijke rijstproducerende regio’s – zocht ik uit wat nu net gebeurt met drie doorslaggevende bodemprocessen bij waterbesparende irrigatie.\n",
    "Om iets beter in deze bodems te kunnen “kijken”, maakte ik gebruik van minuscule verschillen in de atoomkern van belangrijke bodemnutriënten. Chemische elementen, zoals koolstofatomen, beschikken immers niet altijd over hetzelfde aantal neutrale deeltjes (neutronen). Het aandeel van deze verschillende atoomversies – ook wel “stabiele isotopen” genoemd – kan van nature verschillen voor versus na het doorlopen van een proces. Door dit principe uit te buiten, of door moleculen met gekende atoomkern toe te voegen, kon ik individuele koolstof- of stikstofatomen in de bodem tóch traceren en het werkingsmechanisme van deze processen enigszins ophelderen.\n",
    "Stapvoets vooruit\n",
    "Op die manier heb ik ten eerste het lot van methaan zelf in de bodem proberen doorgronden. Het feit dat methaanproducerende bodembacteriën wegkwijnen in minder natte bodems speelt sowieso een grote rol bij de lage klimaatimpact van waterbesparende irrigatie – daar waren wetenschappers het al over eens. Uit mijn onderzoek blijkt dat micro-organismen die methaan afbreken vooraleer het naar de atmosfeer ontsnapt (en ons dus helpen om rijst klimaatvriendelijker te maken) tegelijk actiever lijken te worden in rijstvelden met minder water. Hoopvolle aanwijzingen – ondanks de onzekerheid, want er was duidelijk ook ruimte voor verbetering wat de onderzoeksmethode betreft.\n",
    "What happens in the soil, stays in the soil? Niet als we met deze fundamentele info landbouwkundige of klimatologische voorspellingen kunnen verbeteren. Metingen van bodemprocessen voor verschillende irrigatietechnieken zijn dan ook broodnodig. \n",
    "Verder nam ik ook de afbraak van koolstof in de bodem – de bron van methaan – onder de loep. Wat blijkt? Een aanzienlijk deel van deze bodemkoolstof lost, na het inwerken van gewasresten, op in het bodemvocht door interactie met ijzer, waardoor de methaanproducerende micro-organismen er meer vat op zouden kunnen hebben. Gelukkig blijkt dit laatste mee te vallen: die opgeloste koolstof wordt daarna niet volledig verder afgebroken tot broeikasgassen zoals methaan. Bovendien is dit proces al bij al minder sterk bij waterbesparende irrigatie.\n",
    "Omdat ook de gewasopbrengst niet in gevaar mag komen, keek ik tot slot naar de beschikbaarheid van stikstof (meer bepaald ammonium: de voornaamste voedingsstof voor de rijstplant). In bodems van rijstvelden zit het overgrote deel van die voedingsstoffen namelijk “vast” binnenin kleimineralen – onbereikbaar voor de rijstplant. Mijn experimenten toonden aan dat dit fenomeen, dat allesbepalend is voor de stikstofbeschikbaarheid voor de rijstplant, te maken heeft met hoeveel stikstof wel beschikbaar is, en dat het irrigatiebeheer hier dan weer geen grote rol bij speelt\n",
    "Hoe ver van ons bed deze processen ook mogen klinken – in bodems van rijstvelden, en bijgevolg bij de teelt en broeikasgasuitstoot van rijst, zijn ze stuk voor stuk cruciaal. Dankzij dit onderzoek en dat van collega-wetenschappers worden gaandeweg kleine maar belangrijke stapjes uit de duisternis gezet. Bovendien was mijn ontdekkingstocht ook leerzaam om de gebruikte onderzoeksmethodes verder te verbeteren en in de toekomst nog dieper kunnen te graven. Zo zullen we de klimaatwinst of gewasopbrengst van nieuwe teeltmethoden op termijn nauwkeuriger kunnen voorspellen, met klimaatvriendelijkere rijst als resultaat.\n",
    "\"\"\"\n",
    "\n",
    "\n",
    "text = \"\"\"\n",
    "Onderzoekers van het Koninklijk Belgisch Instituut voor Natuurwetenschappen konden de krokodillenmummies bestuderen. ‘Een van de mooiste vondsten die ik al onder ogen kreeg’, zegt archeozoöloge Bea De Cupere (KBIN). De oude Egyptenaren offerden krokodillen tijdens rituelen voor de god Sobek.\n",
    "Archeologen van de Universiteit van Jaén legden in 2019 een graftombe met krokodillenmummies  bloot in Qubbat al-Hawā, een site bij de stad Aswan in het zuiden van Egypte. De kleine tombe bevatte vijf skeletten en vijf schedels van grote krokodillen. Ze ligt naast zes andere graven met belangrijke mensen uit de regio, die alle dateren van het pre-ptolemeïsche tijdperk, vóór 304 v. Chr.\n",
    "De krokodillen zijn wellicht gebruikt tijdens rituelen voor de Egyptische god Sobek, de god van het water en van de vruchtbaarheid, vaak afgebeeld met een krokodillenkop. Kom Ombo, op slechts 50 kilometer afstand, was een belangrijk centrum voor krokodillenverering.\n",
    "‘Er zijn in Egypte meer dan twintig begraafplaatsen met krokodillenmummies bekend, maar het is bijzonder om tien goed bewaarde krokodillenmummies bij elkaar te vinden in een graf dat nog niet is verstoord’, zegt De Cupere. ‘Bij de meeste mummies die eind 19de en begin 20ste eeuw door musea zijn verzameld, vaak jonge dieren, weten we niet precies waar ze vandaan komen.’\n",
    "Bij sommige krokodillen van Qubbat al-Hawā vonden de archeologen sporen van linnen, palmbladeren en touw, aanwijzing dat ze ooit waren ingepakt. Maar de ‘verpakking’ moet zijn weggerot, en de krokodillen waren ook niet ingesmeerd met grote hoeveelheden pek of bitumen, wat in recentere periodes gangbaar was. Een mooi toeval, want daardoor konden de onderzoekers deze exemplaren uitzonderlijk van kop tot teen meten en bestuderen.\n",
    "De kleinste krokodil is 1,8 meter lang, de grootste 3,5 meter. En ze behoren tot twee verschillende soorten: ofwel de nijlkrokodil ofwel de West-Afrikaanse krokodil. Opmerkelijk is dat drie skeletten vrij volledig waren, bij de twee andere ontbraken heel wat delen. ‘De krokodillen zijn eerst elders begraven, mogelijk in zandkuilen’, zegt De Cupere. ‘Zo konden de krokodillen op een natuurlijke manier uitdrogen. Daarna zijn de resten opgegraven, ingepakt en verplaatst naar de tombe in Qubbat al-Hawā. Tijdens het inwikkelen en het transport moeten lichaamsdelen verloren zijn gegaan.’\n",
    "Hoe vingen de Egyptenaren deze krokodillen? Uit de iconografie weten we dat krokodillen voornamelijk met netten werden gevangen. Op de krokodillen uit Qubbat al-Hawā zijn ook geen slachtsporen gevonden. Mogelijk lieten de oude Egyptenaren ze verdrinken, stikken, of oververhitten door ze lange tijd aan de zon bloot te stellen.\n",
    "Eén krokodil was zo goed bewaard gebleven dat de gastrolieten nog aanwezig waren. Dat zijn stenen in de ingewanden die krokodillen helpen om in balans te blijven in het water. De ‘maagstenen’ wijzen erop dat de krokodil niet werd opengesneden om de ingewanden eruit te halen.\n",
    "‘De vondst geeft ons een mooie inkijk in hoe de Egyptenaren in die streek en in die tijd krokodillen ritueel begroeven’, aldus De Cupere. De studie staat in het vaktijdschrift PLOS ONE.\n",
    "\"\"\""
   ]
  },
  {
   "cell_type": "code",
   "execution_count": 4,
   "metadata": {},
   "outputs": [
    {
     "name": "stdout",
     "output_type": "stream",
     "text": [
      "\n",
      "\n",
      "Onderzoekers\n",
      "van\n",
      "het\n",
      "Koninklijk\n",
      "Belgisch\n",
      "Instituut\n",
      "voor\n",
      "Natuurwetenschappen\n",
      "konden\n",
      "de\n",
      "krokodillenmummies\n",
      "bestuderen\n",
      ".\n",
      "‘\n",
      "Een\n",
      "van\n",
      "de\n",
      "mooiste\n",
      "vondsten\n"
     ]
    }
   ],
   "source": [
    "## tokenisatie\n",
    "doc = nlp(text)\n",
    "for token in doc[:20]:\n",
    "    print(token.text)"
   ]
  },
  {
   "cell_type": "code",
   "execution_count": 5,
   "metadata": {},
   "outputs": [
    {
     "name": "stdout",
     "output_type": "stream",
     "text": [
      "\n",
      "Onderzoekers => \n",
      "onderzoeker\n",
      "van => van\n",
      "het => het\n",
      "Koninklijk => konink\n",
      "Belgisch => belgisch\n",
      "Instituut => institut\n",
      "voor => vor\n",
      "Natuurwetenschappen => natuurwetenschapp\n",
      "konden => kond\n",
      "de => de\n",
      "krokodillenmummies => krokodillenmummies\n",
      "bestuderen. => bestuderen.\n",
      "‘Een => ‘en\n",
      "van => van\n",
      "de => de\n",
      "mooiste => mooist\n",
      "vondsten => vondst\n",
      "die => die\n",
      "ik => ik\n",
      "al => al\n"
     ]
    }
   ],
   "source": [
    "# stemming\n",
    "stemmer = SnowballStemmer(language='dutch')\n",
    "for token in text.split(\" \")[:20]:\n",
    "    print(token, '=>' , stemmer.stem(token))"
   ]
  },
  {
   "cell_type": "code",
   "execution_count": 6,
   "metadata": {},
   "outputs": [
    {
     "name": "stdout",
     "output_type": "stream",
     "text": [
      "\n",
      "\n",
      "Onderzoekers van het Koninklijk Belgisch Instituut voor Natuurwetenschappen konden de krokodillenmummies bestuderen.\n",
      "‘Een van de mooiste vondsten die ik al onder ogen kreeg’, zegt archeozoöloge\n",
      "Bea De Cupere (KBIN).\n",
      "De oude Egyptenaren offerden krokodillen tijdens rituelen voor de god Sobek.\n",
      "\n"
     ]
    }
   ],
   "source": [
    "# zinsegmentatie\n",
    "doc = nlp(text)\n",
    "for sent in doc[:50].sents:\n",
    "    print(sent.text)"
   ]
  },
  {
   "attachments": {},
   "cell_type": "markdown",
   "metadata": {},
   "source": [
    "# Keyword extraction"
   ]
  },
  {
   "cell_type": "code",
   "execution_count": 7,
   "metadata": {},
   "outputs": [
    {
     "data": {
      "text/plain": [
       "(Koninklijk Belgisch Instituut voor Natuurwetenschappen,\n",
       " Bea De Cupere,\n",
       " Archeologen van de Universiteit van Jaén legden,\n",
       " 2019,\n",
       " Qubbat,\n",
       " Aswan,\n",
       " vijf,\n",
       " vijf,\n",
       " zes,\n",
       " pre-ptolemeïsche,\n",
       " 304,\n",
       " Egyptische,\n",
       " 50 kilometer,\n",
       " Egypte,\n",
       " twintig,\n",
       " tien,\n",
       " 19de en begin,\n",
       " 20ste eeuw,\n",
       " Qubbat,\n",
       " 1,8 meter,\n",
       " 3,5,\n",
       " twee,\n",
       " West-Afrikaanse,\n",
       " Opmerkelijk,\n",
       " drie,\n",
       " twee,\n",
       " Qubbat,\n",
       " Egyptenaren,\n",
       " Qubbat,\n",
       " Egyptenaren,\n",
       " Egyptenaren,\n",
       " PLOS,\n",
       " ONE)"
      ]
     },
     "execution_count": 7,
     "metadata": {},
     "output_type": "execute_result"
    }
   ],
   "source": [
    "doc = nlp(text)\n",
    "doc.ents"
   ]
  },
  {
   "cell_type": "code",
   "execution_count": 8,
   "metadata": {},
   "outputs": [],
   "source": [
    "nlp = spacy.load('nl_core_news_sm')\n",
    "doc = nlp(text)\n",
    "words_without_stopwords = [token.text for token in doc if not token.is_stop]"
   ]
  },
  {
   "cell_type": "code",
   "execution_count": 9,
   "metadata": {},
   "outputs": [
    {
     "name": "stdout",
     "output_type": "stream",
     "text": [
      "\n",
      " Onderzoekers Koninklijk Belgisch Instituut Natuurwetenschappen krokodillenmummies bestuderen . ‘ mooiste vondsten ogen kreeg ’ , zegt archeozoöloge Bea Cupere ( KBIN ) . oude Egyptenaren offerden krokodillen rituelen god Sobek . \n",
      " Archeologen Universiteit Jaén legden 2019 graftombe krokodillenmummies   bloot Qubbat al-Hawā , site stad Aswan zuiden Egypte . kleine tombe bevatte vijf skeletten vijf schedels grote krokodillen . ligt naast zes graven belangrijke mensen regio , dateren pre-ptolemeïsche tijdperk , vóór 304 v. Chr. \n",
      " krokodillen wellicht gebruikt rituelen Egyptische god Sobek , god water vruchtbaarheid , afgebeeld krokodillenkop . Kom Ombo , 50 kilometer afstand , belangrijk centrum krokodillenverering . \n",
      " ‘ Egypte twintig begraafplaatsen krokodillenmummies bekend , bijzonder tien goed bewaarde krokodillenmummies elkaar vinden graf verstoord ’ , zegt Cupere . ‘ meeste mummies eind 19de begin 20ste eeuw musea verzameld , jonge dieren , weten komen . ’ \n",
      " krokodillen Qubbat al-Hawā vonden archeologen sporen linnen , palmbladeren touw , aanwijzing ingepakt . ‘ verpakking ’ weggerot , krokodillen ingesmeerd grote hoeveelheden pek bitumen , recentere periodes gangbaar . mooi toeval , daardoor onderzoekers exemplaren uitzonderlijk kop teen meten bestuderen . \n",
      " kleinste krokodil 1,8 meter , grootste 3,5 meter . behoren twee verschillende soorten : ofwel nijlkrokodil ofwel West-Afrikaanse krokodil . Opmerkelijk drie skeletten volledig , twee ontbraken heel delen . ‘ krokodillen elders begraven , zandkuilen ’ , zegt Cupere . ‘ krokodillen natuurlijke manier uitdrogen . resten opgegraven , ingepakt verplaatst tombe Qubbat al-Hawā . inwikkelen transport lichaamsdelen verloren gegaan . ’ \n",
      " vingen Egyptenaren krokodillen ? iconografie weten krokodillen voornamelijk netten gevangen . krokodillen Qubbat al-Hawā slachtsporen gevonden . lieten oude Egyptenaren verdrinken , stikken , oververhitten lange tijd zon bloot stellen . \n",
      " Eén krokodil goed bewaard gebleven gastrolieten aanwezig . stenen ingewanden krokodillen helpen balans blijven water . ‘ maagstenen ’ wijzen erop krokodil opengesneden ingewanden eruit halen . \n",
      " ‘ vondst geeft mooie inkijk Egyptenaren streek tijd krokodillen ritueel begroeven ’ , Cupere . studie staat vaktijdschrift PLOS ONE . \n",
      "\n"
     ]
    }
   ],
   "source": [
    "text_without_stopwords = ' '.join(words_without_stopwords)\n",
    "\n",
    "print(text_without_stopwords)"
   ]
  },
  {
   "cell_type": "code",
   "execution_count": 10,
   "metadata": {},
   "outputs": [
    {
     "name": "stdout",
     "output_type": "stream",
     "text": [
      "('Cupere', 0.02456300358859913)\n",
      "('krokodillen', 0.02630578701848584)\n",
      "('Qubbat', 0.027677115207494447)\n",
      "('Egyptenaren', 0.0346831723565651)\n",
      "('KBIN', 0.05034447716720303)\n",
      "('al-Hawā', 0.05312250516387103)\n",
      "('Sobek', 0.059690320670186266)\n",
      "('vijf', 0.06049328137011438)\n",
      "('zegt', 0.060901269053482754)\n",
      "('Koninklijk', 0.061878781454067625)\n",
      "('Belgisch', 0.061878781454067625)\n",
      "('Instituut', 0.061878781454067625)\n",
      "('Natuurwetenschappen', 0.061878781454067625)\n",
      "('Bea', 0.061878781454067625)\n",
      "('Universiteit', 0.061878781454067625)\n",
      "('Jaén', 0.061878781454067625)\n",
      "('Aswan', 0.061878781454067625)\n",
      "('krokodillenmummies', 0.06797801372507367)\n",
      "('Egypte', 0.07839153148866318)\n",
      "('god', 0.08263461477195749)\n"
     ]
    }
   ],
   "source": [
    "import yake\n",
    "\n",
    "kw_extractor = yake.KeywordExtractor()\n",
    "language = \"nl\"\n",
    "max_ngram_size = 1\n",
    "deduplication_threshold = 0.9\n",
    "numOfKeywords = 20\n",
    "\n",
    "custom_kw_extractor = yake.KeywordExtractor(lan=language, n=max_ngram_size, dedupLim=deduplication_threshold, top=numOfKeywords, features=None)\n",
    "keywords = custom_kw_extractor.extract_keywords(text_without_stopwords)\n",
    "for kw in keywords:\n",
    "    print(kw)"
   ]
  },
  {
   "cell_type": "code",
   "execution_count": 13,
   "metadata": {},
   "outputs": [
    {
     "name": "stdout",
     "output_type": "stream",
     "text": [
      "Onderzoekers van het Koninklijk Belgisch Instituut voor Natuurwetenschappen konden de krokodillenmummies bestuderen.\n",
      "Bea De Cupere (KBIN).\n",
      "’, zegt De Cupere.\n",
      "‘De krokodillen zijn eerst elders begraven, mogelijk in zandkuilen’, zegt De Cupere.\n",
      "‘De vondst geeft ons een mooie inkijk in hoe de Egyptenaren in die streek en in die tijd krokodillen ritueel begroeven’, aldus De Cupere.\n"
     ]
    }
   ],
   "source": [
    "import spacy\n",
    "from spacy.matcher import PhraseMatcher\n",
    "\n",
    "nlp = spacy.load('nl_core_news_sm')\n",
    "\n",
    "phrase_matcher = PhraseMatcher(nlp.vocab)\n",
    "phrases = ['Cupere','Natuurwetenschappen']\n",
    "patterns = [nlp(text) for text in phrases]\n",
    "\n",
    "phrase_matcher.add('Cupere', None, *patterns)\n",
    "\n",
    "doc = nlp(text)\n",
    "\n",
    "for sent in doc.sents:\n",
    "    for match_id, start, end in phrase_matcher(nlp(sent.text)):\n",
    "        if nlp.vocab.strings[match_id] in [\"Cupere\"]:\n",
    "            print(sent.text)"
   ]
  },
  {
   "cell_type": "code",
   "execution_count": null,
   "metadata": {},
   "outputs": [],
   "source": []
  }
 ],
 "metadata": {
  "kernelspec": {
   "display_name": "Python 3.8.10 64-bit",
   "language": "python",
   "name": "python3"
  },
  "language_info": {
   "codemirror_mode": {
    "name": "ipython",
    "version": 3
   },
   "file_extension": ".py",
   "mimetype": "text/x-python",
   "name": "python",
   "nbconvert_exporter": "python",
   "pygments_lexer": "ipython3",
   "version": "3.10.10"
  },
  "orig_nbformat": 4,
  "vscode": {
   "interpreter": {
    "hash": "916dbcbb3f70747c44a77c7bcd40155683ae19c65e1c03b4aa3499c5328201f1"
   }
  }
 },
 "nbformat": 4,
 "nbformat_minor": 2
}
