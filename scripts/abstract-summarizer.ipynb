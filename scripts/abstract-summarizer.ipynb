{
 "cells": [
  {
   "cell_type": "code",
   "execution_count": 1,
   "metadata": {},
   "outputs": [],
   "source": [
    "import numpy as np\n",
    "import openai\n",
    "import pandas as pd\n",
    "import pickle\n",
    "import tiktoken\n",
    "import configparser, os"
   ]
  },
  {
   "cell_type": "code",
   "execution_count": 2,
   "metadata": {},
   "outputs": [],
   "source": [
    "COMPLETIONS_MODEL = \"text-davinci-003\"\n",
    "config = configparser.ConfigParser()\n",
    "config.read('../config.ini')\n",
    "openai.api_key = config['openai']['api_key']"
   ]
  },
  {
   "cell_type": "code",
   "execution_count": 3,
   "metadata": {},
   "outputs": [],
   "source": [
    "text = \"\"\"\n",
    "Reading comprehension and fluency are crucial for successful academic learning and\n",
    "achievement. Yet, a rather large percentage of children still have enormous difficulties\n",
    "in understanding a written text at the end of primary school. In this context, the aim\n",
    "of our study was to investigate whether text simplification, a process of reducing text\n",
    "complexity while keeping its meaning unchanged, can improve reading fluency and\n",
    "comprehension for children learning to read. Furthermore, we were interested in finding\n",
    "out whether some readers would benefit more than others from text simplification as a\n",
    "function of their cognitive and language profile. To address these issues, we developed\n",
    "an iBook application for iPads, which allowed us to present normal and simplified versions\n",
    "of informative and narrative texts to 165 children in grade 2. Reading fluency was\n",
    "measured for each sentence, and text comprehension was measured for each text using\n",
    "multiple-choice questions. The results showed that both reading fluency and reading\n",
    "comprehension were significantly better for simplified than for normal texts. Results\n",
    "showed that poor readers and children with weaker cognitive skills (nonverbal intelligence,\n",
    "memory) benefitted to a greater extent from simplification than good readers and children\n",
    "with somewhat stronger cognitive skills.\n",
    "\"\"\"\n",
    "\n",
    "prompt = f\"\"\"\n",
    "Schrijf dit zo eenvoudig mogelijk. Gebruik eenvoudige woordenschat en zinnen die niet langer dan 10 woorden zijn. Vermeld zeker de probleemstelling, resultaten en conclusie.\n",
    "context\n",
    "{text}\n",
    "\"\"\""
   ]
  },
  {
   "cell_type": "code",
   "execution_count": 4,
   "metadata": {},
   "outputs": [
    {
     "data": {
      "text/plain": [
       "'Probleemstelling: onderzoeken of tekstsimplificatie leesfluency en begrip bij kinderen verbetert.\\nResultaten: leesfluency en begrip waren significant beter voor gesimplificeerde teksten. Slechtere lezers en kinderen met zwakkere cognitieve vaardigheden profiteerden meer van simplificatie.\\nConclusie: tekstsimplificatie verbetert leesfluency en begrip bij kinderen. Slechtere lezers en kinderen met zwakkere cognitieve vaardigheden profiteren meer.'"
      ]
     },
     "execution_count": 4,
     "metadata": {},
     "output_type": "execute_result"
    }
   ],
   "source": [
    "openai.Completion.create(\n",
    "    prompt=prompt,\n",
    "    temperature=0,\n",
    "    max_tokens=300,\n",
    "    model=COMPLETIONS_MODEL\n",
    ")[\"choices\"][0][\"text\"].strip(\" \\n\")"
   ]
  },
  {
   "attachments": {},
   "cell_type": "markdown",
   "metadata": {},
   "source": [
    "The result in ChatGPT has a different format.\n",
    "\n",
    "Prompt:\n",
    "\n",
    "```python\n",
    "prompt = \"\"\"\n",
    "Schrijf dit zo eenvoudig mogelijk. Gebruik eenvoudige woordenschat en zinnen die niet langer dan 10 woorden zijn. Vermeld zeker de probleemstelling, resultaten en conclusie.\n",
    "context:\n",
    "Reading comprehension and fluency are crucial for successful academic learning and\n",
    "achievement. Yet, a rather large percentage of children still have enormous difficulties\n",
    "in understanding a written text at the end of primary school. In this context, the aim\n",
    "of our study was to investigate whether text simplification, a process of reducing text\n",
    "complexity while keeping its meaning unchanged, can improve reading fluency and\n",
    "comprehension for children learning to read. Furthermore, we were interested in finding\n",
    "out whether some readers would benefit more than others from text simplification as a\n",
    "function of their cognitive and language profile. To address these issues, we developed\n",
    "an iBook application for iPads, which allowed us to present normal and simplified versions\n",
    "of informative and narrative texts to 165 children in grade 2. Reading fluency was\n",
    "measured for each sentence, and text comprehension was measured for each text using\n",
    "multiple-choice questions. The results showed that both reading fluency and reading\n",
    "comprehension were significantly better for simplified than for normal texts. Results\n",
    "showed that poor readers and children with weaker cognitive skills (nonverbal intelligence,\n",
    "memory) benefitted to a greater extent from simplification than good readers and children\n",
    "with somewhat stronger cognitive skills.\n",
    "\"\"\"\n",
    "```\n",
    "\n",
    "Result 1st attempt\n",
    "\n",
    "```\n",
    "Veel kinderen vinden lezen moeilijk op school. We wilden weten of het helpen om de tekst simpeler te maken. We maakten een app waarin we simpele en normale versies van teksten lieten zien aan 165 kinderen uit groep 2. Simpele teksten werden beter begrepen en makkelijker gelezen dan normale teksten. Dit was vooral zo bij kinderen die minder goed kunnen lezen en minder goede hersenfuncties hebben.\n",
    "```\n",
    "\n",
    "Result 2nd attempt\n",
    "\n",
    "```\n",
    "Veel kinderen vinden het moeilijk om teksten op school te begrijpen. We wilden weten of we de tekst makkelijker konden maken zonder de betekenis te veranderen. We lieten simpele en normale teksten zien aan 165 kinderen uit groep 2 en maten hoe goed ze de tekst begrepen en lazen. Simpele teksten werden beter begrepen en makkelijker gelezen dan normale teksten. Vooral kinderen die minder goed konden lezen en minder goede hersenfuncties hadden, hadden hier baat bij.\n",
    "```\n",
    "\n",
    "Result 3rd attempt\n",
    "\n",
    "```\n",
    "Veel kinderen hebben moeite met begrijpend lezen op school. Wij onderzochten of het makkelijker maken van teksten kan helpen. We maakten een app voor de iPad waarin kinderen normale en makkelijke teksten konden lezen. We ontdekten dat zowel het begrijpend lezen als de leesvaardigheid beter waren bij de makkelijke teksten. Vooral slechte lezers en kinderen met minder goede hersenvaardigheden profiteerden hiervan.\n",
    "```"
   ]
  },
  {
   "cell_type": "code",
   "execution_count": 6,
   "metadata": {},
   "outputs": [
    {
     "data": {
      "text/plain": [
       "'Probleemstelling: onderzoeken of tekstsimplificatie leesfluency en begrip bij kinderen verbetert.\\nResultaten: leesfluency en begrip waren significant beter voor gesimplificeerde teksten. Slechtere lezers en kinderen met zwakkere cognitieve vaardigheden profiteerden meer van simplificatie.\\nConclusie: tekstsimplificatie verbetert leesfluency en begrip bij kinderen. Slechtere lezers en kinderen met zwakkere cognitieve vaardigheden profiteren meer.'"
      ]
     },
     "execution_count": 6,
     "metadata": {},
     "output_type": "execute_result"
    }
   ],
   "source": [
    "openai.Completion.create(\n",
    "    prompt=prompt,\n",
    "    temperature=1,\n",
    "    max_tokens=300,\n",
    "    top_p=0.3,\n",
    "    model=COMPLETIONS_MODEL\n",
    ")[\"choices\"][0][\"text\"].strip(\" \\n\")"
   ]
  },
  {
   "cell_type": "code",
   "execution_count": 7,
   "metadata": {},
   "outputs": [
    {
     "data": {
      "text/plain": [
       "'Probleemstelling: onderzoeken of tekstsimplificatie leesvaardigheid en begrip bij kinderen verbetert. \\nResultaten: tekstsimplificatie verbeterde leesvaardigheid en begrip significant. Arme lezers en kinderen met lagere cognitieve vaardigheden profiteerden meer. \\nConclusie: Tekstsimplificatie verbetert leesvaardigheid en begrip bij kinderen, met name arme lezers en kinderen met lage cognitieve vaardigheden.'"
      ]
     },
     "execution_count": 7,
     "metadata": {},
     "output_type": "execute_result"
    }
   ],
   "source": [
    "openai.Completion.create(\n",
    "    prompt=prompt,\n",
    "    temperature=1,\n",
    "    max_tokens=300,\n",
    "    top_p=0.9,\n",
    "    model=COMPLETIONS_MODEL\n",
    ")[\"choices\"][0][\"text\"].strip(\" \\n\")"
   ]
  }
 ],
 "metadata": {
  "kernelspec": {
   "display_name": "Python 3",
   "language": "python",
   "name": "python3"
  },
  "language_info": {
   "codemirror_mode": {
    "name": "ipython",
    "version": 3
   },
   "file_extension": ".py",
   "mimetype": "text/x-python",
   "name": "python",
   "nbconvert_exporter": "python",
   "pygments_lexer": "ipython3",
   "version": "3.10.10 (tags/v3.10.10:aad5f6a, Feb  7 2023, 17:20:36) [MSC v.1929 64 bit (AMD64)]"
  },
  "orig_nbformat": 4,
  "vscode": {
   "interpreter": {
    "hash": "89da10480825c8ad24c96d10788e772e9a68ac77e314b3c42d655a8c40ed70a5"
   }
  }
 },
 "nbformat": 4,
 "nbformat_minor": 2
}
