{
 "cells": [
  {
   "cell_type": "code",
   "execution_count": 1,
   "metadata": {},
   "outputs": [],
   "source": [
    "from bert_serving.client import BertClient\n",
    "import numpy as np\n",
    "\n",
    "# Initialize the BERT client\n",
    "bc = BertClient()\n",
    "\n",
    "# Define a query sentence and a list of candidate sentences\n",
    "query = 'The quick brown fox jumps over the lazy dog.'\n",
    "sentences = ['The dog is lazy.', 'The fox is quick.', 'The dog and the fox are friends.', 'The lazy dog jumps over the quick fox.']\n",
    "\n",
    "# Get the BERT embeddings for the query and candidate sentences\n",
    "query_embedding = bc.encode([query])[0]\n",
    "sentence_embeddings = bc.encode(sentences)\n",
    "\n",
    "# Compute the cosine similarity between the query and candidate sentence embeddings\n",
    "cosine_sims = np.dot(sentence_embeddings, query_embedding) / (np.linalg.norm(sentence_embeddings, axis=1) * np.linalg.norm(query_embedding))\n",
    "\n",
    "# Sort the sentences based on their cosine similarity scores\n",
    "sorted_sentences = [sentences[i] for i in np.argsort(cosine_sims)[::-1]]\n",
    "\n",
    "print('Query sentence:', query)\n",
    "print('Ranked sentences:', sorted_sentences)\n"
   ]
  }
 ],
 "metadata": {
  "kernelspec": {
   "display_name": "Python 3",
   "language": "python",
   "name": "python3"
  },
  "language_info": {
   "codemirror_mode": {
    "name": "ipython",
    "version": 3
   },
   "file_extension": ".py",
   "mimetype": "text/x-python",
   "name": "python",
   "nbconvert_exporter": "python",
   "pygments_lexer": "ipython3",
   "version": "3.10.10"
  },
  "orig_nbformat": 4
 },
 "nbformat": 4,
 "nbformat_minor": 2
}
