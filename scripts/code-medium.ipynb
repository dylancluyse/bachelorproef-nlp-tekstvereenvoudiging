{
  "cells": [
    {
      "cell_type": "code",
      "execution_count": 1,
      "metadata": {
        "colab": {},
        "colab_type": "code",
        "id": "Evyx4nWcGVvb"
      },
      "outputs": [],
      "source": [
        "import spacy\n",
        "from spacy.lang.en.stop_words import STOP_WORDS\n",
        "from string import punctuation\n",
        "from collections import Counter\n",
        "from heapq import nlargest"
      ]
    },
    {
      "cell_type": "code",
      "execution_count": 2,
      "metadata": {
        "colab": {
          "base_uri": "https://localhost:8080/",
          "height": 120
        },
        "colab_type": "code",
        "id": "egKMNcBjGVvl",
        "outputId": "bba6729b-da24-48a4-ca7d-1bfa09edaa40"
      },
      "outputs": [
        {
          "data": {
            "text/plain": [
              "'Machine learning (ML) is the scientific study of algorithms and statistical models that computer systems use to progressively improve their performance on a specific task. Machine learning algorithms build a mathematical model of sample data, known as \"training data\", in order to make predictions or decisions without being explicitly programmed to perform the task. Machine learning algorithms are used in the applications of email filtering, detection of network intruders, and computer vision, where it is infeasible to develop an algorithm of specific instructions for performing the task. Machine learning is closely related to computational statistics, which focuses on making predictions using computers. The study of mathematical optimization delivers methods, theory and application domains to the field of machine learning. Data mining is a field of study within machine learning, and focuses on exploratory data analysis through unsupervised learning.In its application across business problems, machine learning is also referred to as predictive analytics.'"
            ]
          },
          "execution_count": 2,
          "metadata": {},
          "output_type": "execute_result"
        }
      ],
      "source": [
        "doc =\"\"\"Machine learning (ML) is the scientific study of algorithms and statistical models that computer systems use to progressively improve their performance on a specific task. Machine learning algorithms build a mathematical model of sample data, known as \"training data\", in order to make predictions or decisions without being explicitly programmed to perform the task. Machine learning algorithms are used in the applications of email filtering, detection of network intruders, and computer vision, where it is infeasible to develop an algorithm of specific instructions for performing the task. Machine learning is closely related to computational statistics, which focuses on making predictions using computers. The study of mathematical optimization delivers methods, theory and application domains to the field of machine learning. Data mining is a field of study within machine learning, and focuses on exploratory data analysis through unsupervised learning.In its application across business problems, machine learning is also referred to as predictive analytics.\"\"\"\n",
        "doc"
      ]
    },
    {
      "cell_type": "code",
      "execution_count": 6,
      "metadata": {
        "colab": {},
        "colab_type": "code",
        "id": "Cgo54wxjGVvp"
      },
      "outputs": [],
      "source": [
        "nlp = spacy.load(\"en_core_web_sm\")"
      ]
    },
    {
      "cell_type": "code",
      "execution_count": 7,
      "metadata": {
        "colab": {},
        "colab_type": "code",
        "id": "GQOd8fo5GVvs"
      },
      "outputs": [],
      "source": [
        "doc = nlp(doc)"
      ]
    },
    {
      "cell_type": "code",
      "execution_count": 8,
      "metadata": {
        "colab": {
          "base_uri": "https://localhost:8080/",
          "height": 34
        },
        "colab_type": "code",
        "id": "h474C6u0GVvv",
        "outputId": "8581263a-205a-4907-8bb5-2d4a6beed2d5"
      },
      "outputs": [
        {
          "data": {
            "text/plain": [
              "7"
            ]
          },
          "execution_count": 8,
          "metadata": {},
          "output_type": "execute_result"
        }
      ],
      "source": [
        "len(list(doc.sents))"
      ]
    },
    {
      "cell_type": "code",
      "execution_count": 9,
      "metadata": {
        "colab": {},
        "colab_type": "code",
        "id": "e0xv3nQtGVvz"
      },
      "outputs": [],
      "source": [
        "keyword = []\n",
        "stopwords = list(STOP_WORDS)\n",
        "pos_tag = ['PROPN', 'ADJ', 'NOUN', 'VERB']\n",
        "for token in doc:\n",
        "    if(token.text in stopwords or token.text in punctuation):\n",
        "        continue\n",
        "    if(token.pos_ in pos_tag):\n",
        "        keyword.append(token.text)"
      ]
    },
    {
      "cell_type": "code",
      "execution_count": 11,
      "metadata": {
        "colab": {
          "base_uri": "https://localhost:8080/",
          "height": 34
        },
        "colab_type": "code",
        "id": "44Hv6zXZGVv2",
        "outputId": "d06e7273-17b2-416d-f1c2-9adf41b0b60a"
      },
      "outputs": [
        {
          "name": "stdout",
          "output_type": "stream",
          "text": [
            "[('learning', 8), ('Machine', 4), ('study', 3), ('algorithms', 3), ('task', 3)]\n"
          ]
        }
      ],
      "source": [
        "freq_word = Counter(keyword)\n",
        "print(freq_word.most_common(5))"
      ]
    },
    {
      "cell_type": "code",
      "execution_count": 12,
      "metadata": {
        "colab": {
          "base_uri": "https://localhost:8080/",
          "height": 34
        },
        "colab_type": "code",
        "id": "k6NnKLqBb9CA",
        "outputId": "6a254565-6ef6-4335-921f-4f8286dc5a59"
      },
      "outputs": [
        {
          "data": {
            "text/plain": [
              "collections.Counter"
            ]
          },
          "execution_count": 12,
          "metadata": {},
          "output_type": "execute_result"
        }
      ],
      "source": [
        "type(freq_word)"
      ]
    },
    {
      "cell_type": "code",
      "execution_count": 13,
      "metadata": {
        "colab": {
          "base_uri": "https://localhost:8080/",
          "height": 101
        },
        "colab_type": "code",
        "id": "Jd_ejyiZGVv7",
        "outputId": "661f1110-76b8-4318-8fd3-ca87d606be18"
      },
      "outputs": [
        {
          "data": {
            "text/plain": [
              "[('learning', 1.0),\n",
              " ('Machine', 0.5),\n",
              " ('study', 0.375),\n",
              " ('algorithms', 0.375),\n",
              " ('task', 0.375)]"
            ]
          },
          "execution_count": 13,
          "metadata": {},
          "output_type": "execute_result"
        }
      ],
      "source": [
        "max_freq = Counter(keyword).most_common(1)[0][1]\n",
        "for word in freq_word.keys():  \n",
        "        freq_word[word] = (freq_word[word]/max_freq)\n",
        "freq_word.most_common(5)"
      ]
    },
    {
      "cell_type": "code",
      "execution_count": 14,
      "metadata": {
        "colab": {
          "base_uri": "https://localhost:8080/",
          "height": 54
        },
        "colab_type": "code",
        "id": "auqZH6m-GVwA",
        "outputId": "bd4f673e-6d2b-454d-c24d-a1b98dc6fafa"
      },
      "outputs": [
        {
          "name": "stdout",
          "output_type": "stream",
          "text": [
            "{Machine learning (ML) is the scientific study of algorithms and statistical models that computer systems use to progressively improve their performance on a specific task.: 4.125, Machine learning algorithms build a mathematical model of sample data, known as \"training data\", in order to make predictions or decisions without being explicitly programmed to perform the task.: 4.625, Machine learning algorithms are used in the applications of email filtering, detection of network intruders, and computer vision, where it is infeasible to develop an algorithm of specific instructions for performing the task.: 4.25, Machine learning is closely related to computational statistics, which focuses on making predictions using computers.: 2.625, The study of mathematical optimization delivers methods, theory and application domains to the field of machine learning.: 3.125, Data mining is a field of study within machine learning, and focuses on exploratory data analysis through unsupervised learning.: 4.25, In its application across business problems, machine learning is also referred to as predictive analytics.: 2.25}\n"
          ]
        }
      ],
      "source": [
        "sent_strength={}\n",
        "for sent in doc.sents:\n",
        "    for word in sent:\n",
        "        if word.text in freq_word.keys():\n",
        "            if sent in sent_strength.keys():\n",
        "                sent_strength[sent]+=freq_word[word.text]\n",
        "            else:\n",
        "                sent_strength[sent]=freq_word[word.text]\n",
        "print(sent_strength)"
      ]
    },
    {
      "cell_type": "code",
      "execution_count": 15,
      "metadata": {
        "colab": {
          "base_uri": "https://localhost:8080/",
          "height": 34
        },
        "colab_type": "code",
        "id": "nYLY3u1w5cJ3",
        "outputId": "b98504cf-84af-4847-bcd1-5c6def1fe116"
      },
      "outputs": [
        {
          "name": "stdout",
          "output_type": "stream",
          "text": [
            "\n"
          ]
        }
      ],
      "source": [
        "print(\"\")"
      ]
    },
    {
      "cell_type": "code",
      "execution_count": 16,
      "metadata": {
        "colab": {
          "base_uri": "https://localhost:8080/",
          "height": 54
        },
        "colab_type": "code",
        "id": "elzzchU0GVwE",
        "outputId": "b35668e3-2046-42ec-ec5a-89237a1815a9"
      },
      "outputs": [
        {
          "name": "stdout",
          "output_type": "stream",
          "text": [
            "[Machine learning algorithms build a mathematical model of sample data, known as \"training data\", in order to make predictions or decisions without being explicitly programmed to perform the task., Machine learning algorithms are used in the applications of email filtering, detection of network intruders, and computer vision, where it is infeasible to develop an algorithm of specific instructions for performing the task., Data mining is a field of study within machine learning, and focuses on exploratory data analysis through unsupervised learning.]\n"
          ]
        }
      ],
      "source": [
        "summarized_sentences = nlargest(3, sent_strength, key=sent_strength.get)\n",
        "print(summarized_sentences)"
      ]
    },
    {
      "cell_type": "code",
      "execution_count": 17,
      "metadata": {
        "colab": {
          "base_uri": "https://localhost:8080/",
          "height": 34
        },
        "colab_type": "code",
        "id": "9zz9oby3GVwM",
        "outputId": "1a4b5075-3733-4ed3-a574-6dbcd2fa56a2"
      },
      "outputs": [
        {
          "name": "stdout",
          "output_type": "stream",
          "text": [
            "<class 'spacy.tokens.span.Span'>\n"
          ]
        }
      ],
      "source": [
        "print(type(summarized_sentences[0]))"
      ]
    },
    {
      "cell_type": "code",
      "execution_count": 18,
      "metadata": {
        "colab": {
          "base_uri": "https://localhost:8080/",
          "height": 54
        },
        "colab_type": "code",
        "id": "HycTgpK-GVwQ",
        "outputId": "b228e1cc-cd2e-4cc2-c1e6-11ce5ef58f3c"
      },
      "outputs": [
        {
          "name": "stdout",
          "output_type": "stream",
          "text": [
            "Machine learning algorithms build a mathematical model of sample data, known as \"training data\", in order to make predictions or decisions without being explicitly programmed to perform the task. Machine learning algorithms are used in the applications of email filtering, detection of network intruders, and computer vision, where it is infeasible to develop an algorithm of specific instructions for performing the task. Data mining is a field of study within machine learning, and focuses on exploratory data analysis through unsupervised learning.\n"
          ]
        }
      ],
      "source": [
        "final_sentences = [ w.text for w in summarized_sentences ]\n",
        "summary = ' '.join(final_sentences)\n",
        "print(summary)"
      ]
    },
    {
      "cell_type": "code",
      "execution_count": 19,
      "metadata": {
        "colab": {
          "base_uri": "https://localhost:8080/",
          "height": 356
        },
        "colab_type": "code",
        "id": "9DYXTCjnm6zu",
        "outputId": "b40e8018-ac0e-487a-da26-6d7e8d8c7762"
      },
      "outputs": [
        {
          "name": "stdout",
          "output_type": "stream",
          "text": [
            "Collecting gensim_sum_ext\n",
            "  Downloading gensim_sum_ext-0.1.2.tar.gz (3.5 kB)\n",
            "  Preparing metadata (setup.py): started\n",
            "  Preparing metadata (setup.py): finished with status 'done'\n",
            "Collecting gensim\n",
            "  Using cached gensim-4.3.0-cp310-cp310-win_amd64.whl (24.0 MB)\n",
            "Collecting pycorenlp\n",
            "  Downloading pycorenlp-0.3.0.tar.gz (1.3 kB)\n",
            "  Preparing metadata (setup.py): started\n",
            "  Preparing metadata (setup.py): finished with status 'done'\n",
            "Requirement already satisfied: smart-open>=1.8.1 in c:\\users\\dylan\\appdata\\local\\packages\\pythonsoftwarefoundation.python.3.10_qbz5n2kfra8p0\\localcache\\local-packages\\python310\\site-packages (from gensim->gensim_sum_ext) (6.3.0)\n",
            "Requirement already satisfied: numpy>=1.18.5 in c:\\users\\dylan\\appdata\\local\\packages\\pythonsoftwarefoundation.python.3.10_qbz5n2kfra8p0\\localcache\\local-packages\\python310\\site-packages (from gensim->gensim_sum_ext) (1.23.3)\n",
            "Collecting Cython==0.29.32\n",
            "  Using cached Cython-0.29.32-py2.py3-none-any.whl (986 kB)\n",
            "Collecting FuzzyTM>=0.4.0\n",
            "  Using cached FuzzyTM-2.0.5-py3-none-any.whl (29 kB)\n",
            "Requirement already satisfied: scipy>=1.7.0 in c:\\users\\dylan\\appdata\\local\\packages\\pythonsoftwarefoundation.python.3.10_qbz5n2kfra8p0\\localcache\\local-packages\\python310\\site-packages (from gensim->gensim_sum_ext) (1.9.2)\n",
            "Requirement already satisfied: requests in c:\\users\\dylan\\appdata\\local\\packages\\pythonsoftwarefoundation.python.3.10_qbz5n2kfra8p0\\localcache\\local-packages\\python310\\site-packages (from pycorenlp->gensim_sum_ext) (2.21.0)\n",
            "Requirement already satisfied: pandas in c:\\users\\dylan\\appdata\\local\\packages\\pythonsoftwarefoundation.python.3.10_qbz5n2kfra8p0\\localcache\\local-packages\\python310\\site-packages (from FuzzyTM>=0.4.0->gensim->gensim_sum_ext) (1.5.0)\n",
            "Collecting pyfume\n",
            "  Using cached pyFUME-0.2.25-py3-none-any.whl (67 kB)\n",
            "Requirement already satisfied: certifi>=2017.4.17 in c:\\users\\dylan\\appdata\\local\\packages\\pythonsoftwarefoundation.python.3.10_qbz5n2kfra8p0\\localcache\\local-packages\\python310\\site-packages (from requests->pycorenlp->gensim_sum_ext) (2022.9.24)\n",
            "Requirement already satisfied: chardet<3.1.0,>=3.0.2 in c:\\users\\dylan\\appdata\\local\\packages\\pythonsoftwarefoundation.python.3.10_qbz5n2kfra8p0\\localcache\\local-packages\\python310\\site-packages (from requests->pycorenlp->gensim_sum_ext) (3.0.4)\n",
            "Requirement already satisfied: idna<2.9,>=2.5 in c:\\users\\dylan\\appdata\\local\\packages\\pythonsoftwarefoundation.python.3.10_qbz5n2kfra8p0\\localcache\\local-packages\\python310\\site-packages (from requests->pycorenlp->gensim_sum_ext) (2.8)\n",
            "Requirement already satisfied: urllib3<1.25,>=1.21.1 in c:\\users\\dylan\\appdata\\local\\packages\\pythonsoftwarefoundation.python.3.10_qbz5n2kfra8p0\\localcache\\local-packages\\python310\\site-packages (from requests->pycorenlp->gensim_sum_ext) (1.24.3)\n",
            "Requirement already satisfied: pytz>=2020.1 in c:\\users\\dylan\\appdata\\local\\packages\\pythonsoftwarefoundation.python.3.10_qbz5n2kfra8p0\\localcache\\local-packages\\python310\\site-packages (from pandas->FuzzyTM>=0.4.0->gensim->gensim_sum_ext) (2022.4)\n",
            "Requirement already satisfied: python-dateutil>=2.8.1 in c:\\users\\dylan\\appdata\\local\\packages\\pythonsoftwarefoundation.python.3.10_qbz5n2kfra8p0\\localcache\\local-packages\\python310\\site-packages (from pandas->FuzzyTM>=0.4.0->gensim->gensim_sum_ext) (2.8.2)\n",
            "Collecting fst-pso\n",
            "  Using cached fst_pso-1.8.1-py3-none-any.whl\n",
            "Collecting simpful\n",
            "  Using cached simpful-2.9.0-py3-none-any.whl (30 kB)\n",
            "Requirement already satisfied: six>=1.5 in c:\\users\\dylan\\appdata\\local\\packages\\pythonsoftwarefoundation.python.3.10_qbz5n2kfra8p0\\localcache\\local-packages\\python310\\site-packages (from python-dateutil>=2.8.1->pandas->FuzzyTM>=0.4.0->gensim->gensim_sum_ext) (1.12.0)\n",
            "Collecting miniful\n",
            "  Using cached miniful-0.0.6-py3-none-any.whl\n",
            "Building wheels for collected packages: gensim_sum_ext, pycorenlp\n",
            "  Building wheel for gensim_sum_ext (setup.py): started\n",
            "  Building wheel for gensim_sum_ext (setup.py): finished with status 'done'\n",
            "  Created wheel for gensim_sum_ext: filename=gensim_sum_ext-0.1.2-py3-none-any.whl size=5022 sha256=38d4c0e21026ad344ca8a93bd3e8e9682f4d06811f56449505fba5c6242be615\n",
            "  Stored in directory: c:\\users\\dylan\\appdata\\local\\packages\\pythonsoftwarefoundation.python.3.10_qbz5n2kfra8p0\\localcache\\local\\pip\\cache\\wheels\\11\\d5\\61\\79aaaa1e20927d501e415b8c74270df5c7d0b26cb486ed767e\n",
            "  Building wheel for pycorenlp (setup.py): started\n",
            "  Building wheel for pycorenlp (setup.py): finished with status 'done'\n",
            "  Created wheel for pycorenlp: filename=pycorenlp-0.3.0-py3-none-any.whl size=2120 sha256=b936a6d23ee28cd2d4106bb7c682e69ea3481e1c94c41309d1e30d142972467b\n",
            "  Stored in directory: c:\\users\\dylan\\appdata\\local\\packages\\pythonsoftwarefoundation.python.3.10_qbz5n2kfra8p0\\localcache\\local\\pip\\cache\\wheels\\10\\c9\\e5\\588f5f085373fa04ac562840cf6d6b62ca19f41c993a516054\n",
            "Successfully built gensim_sum_ext pycorenlp\n",
            "Installing collected packages: Cython, simpful, pycorenlp, miniful, fst-pso, pyfume, FuzzyTM, gensim, gensim_sum_ext\n",
            "Successfully installed Cython-0.29.32 FuzzyTM-2.0.5 fst-pso-1.8.1 gensim-4.3.0 gensim_sum_ext-0.1.2 miniful-0.0.6 pycorenlp-0.3.0 pyfume-0.2.25 simpful-2.9.0\n"
          ]
        },
        {
          "name": "stderr",
          "output_type": "stream",
          "text": [
            "  WARNING: The scripts cygdb.exe, cython.exe and cythonize.exe are installed in 'C:\\Users\\dylan\\AppData\\Local\\Packages\\PythonSoftwareFoundation.Python.3.10_qbz5n2kfra8p0\\LocalCache\\local-packages\\Python310\\Scripts' which is not on PATH.\n",
            "  Consider adding this directory to PATH or, if you prefer to suppress this warning, use --no-warn-script-location.\n"
          ]
        }
      ],
      "source": [
        "!pip install gensim_sum_ext "
      ]
    },
    {
      "cell_type": "code",
      "execution_count": 20,
      "metadata": {
        "colab": {},
        "colab_type": "code",
        "id": "5uBazaDznMLE"
      },
      "outputs": [],
      "source": [
        "doc =\"\"\"Machine learning (ML) is the scientific study of algorithms and statistical models that computer systems use to progressively improve their performance on a specific task. Machine learning algorithms build a mathematical model of sample data, known as \"training data\", in order to make predictions or decisions without being explicitly programmed to perform the task. Machine learning algorithms are used in the applications of email filtering, detection of network intruders, and computer vision, where it is infeasible to develop an algorithm of specific instructions for performing the task. Machine learning is closely related to computational statistics, which focuses on making predictions using computers. The study of mathematical optimization delivers methods, theory and application domains to the field of machine learning. Data mining is a field of study within machine learning, and focuses on exploratory data analysis through unsupervised learning.In its application across business problems, machine learning is also referred to as predictive analytics.\"\"\""
      ]
    },
    {
      "cell_type": "code",
      "execution_count": 22,
      "metadata": {
        "colab": {
          "base_uri": "https://localhost:8080/",
          "height": 52
        },
        "colab_type": "code",
        "id": "V1hDnABqm72V",
        "outputId": "6fdc5f1f-eb52-4786-d925-1dc96fb67712"
      },
      "outputs": [
        {
          "ename": "ModuleNotFoundError",
          "evalue": "No module named 'gensim.summarization'",
          "output_type": "error",
          "traceback": [
            "\u001b[1;31m---------------------------------------------------------------------------\u001b[0m",
            "\u001b[1;31mModuleNotFoundError\u001b[0m                       Traceback (most recent call last)",
            "Cell \u001b[1;32mIn [22], line 1\u001b[0m\n\u001b[1;32m----> 1\u001b[0m \u001b[39mfrom\u001b[39;00m \u001b[39mgensim\u001b[39;00m\u001b[39m.\u001b[39;00m\u001b[39msummarization\u001b[39;00m \u001b[39mimport\u001b[39;00m summarize\n\u001b[0;32m      2\u001b[0m summarize(doc)\n",
            "\u001b[1;31mModuleNotFoundError\u001b[0m: No module named 'gensim.summarization'"
          ]
        }
      ],
      "source": [
        "from gensim.summarization import summarize\n",
        "summarize(doc)"
      ]
    },
    {
      "cell_type": "code",
      "execution_count": null,
      "metadata": {
        "colab": {},
        "colab_type": "code",
        "id": "u4honepsnGOv"
      },
      "outputs": [],
      "source": []
    }
  ],
  "metadata": {
    "colab": {
      "name": "Summarisation using spaCy.ipynb",
      "provenance": []
    },
    "kernelspec": {
      "display_name": "Python 3",
      "language": "python",
      "name": "python3"
    },
    "language_info": {
      "codemirror_mode": {
        "name": "ipython",
        "version": 3
      },
      "file_extension": ".py",
      "mimetype": "text/x-python",
      "name": "python",
      "nbconvert_exporter": "python",
      "pygments_lexer": "ipython3",
      "version": "3.10.9"
    },
    "vscode": {
      "interpreter": {
        "hash": "89da10480825c8ad24c96d10788e772e9a68ac77e314b3c42d655a8c40ed70a5"
      }
    }
  },
  "nbformat": 4,
  "nbformat_minor": 0
}
