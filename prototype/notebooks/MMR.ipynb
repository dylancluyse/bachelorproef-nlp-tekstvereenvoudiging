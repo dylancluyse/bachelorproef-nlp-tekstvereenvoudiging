{
 "cells": [
  {
   "cell_type": "code",
   "execution_count": 1,
   "metadata": {},
   "outputs": [],
   "source": [
    "from sklearn.metrics.pairwise import cosine_similarity\n",
    "\n",
    "def maximal_marginal_relevance(sentence_vector, phrases, embedding_matrix, lambda_constant=0.5, threshold_terms=10):\n",
    "    \"\"\"\n",
    "    Return ranked phrases using MMR. Cosine similarity is used as similarity measure.\n",
    "    :param sentence_vector: Query vector\n",
    "    :param phrases: list of candidate phrases\n",
    "    :param embedding_matrix: matrix having index as phrases and values as vector\n",
    "    :param lambda_constant: 0.5 to balance diversity and accuracy. if lambda_constant is high, then higher accuracy. If lambda_constant is low then high diversity.\n",
    "    :param threshold_terms: number of terms to include in result set\n",
    "    :return: Ranked phrases with score\n",
    "    \"\"\"\n",
    "    # todo: Use cosine similarity matrix for lookup among phrases instead of making call everytime.\n",
    "    s = []\n",
    "    r = sorted(phrases, key=lambda x: x[1], reverse=True)\n",
    "    r = [i[0] for i in r]\n",
    "    while len(r) > 0:\n",
    "        score = 0\n",
    "        phrase_to_add = ''\n",
    "        for i in r:\n",
    "            first_part = cosine_similarity([sentence_vector], [embedding_matrix.loc[i]])[0][0]\n",
    "            second_part = 0\n",
    "            for j in s:\n",
    "                cos_sim = cosine_similarity([embedding_matrix.loc[i]], [embedding_matrix.loc[j[0]]])[0][0]\n",
    "                if cos_sim > second_part:\n",
    "                    second_part = cos_sim\n",
    "            equation_score = lambda_constant*(first_part)-(1-lambda_constant) * second_part\n",
    "            if equation_score > score:\n",
    "                score = equation_score\n",
    "                phrase_to_add = i\n",
    "        if phrase_to_add == '':\n",
    "            phrase_to_add = i\n",
    "        r.remove(phrase_to_add)\n",
    "        s.append((phrase_to_add, score))\n",
    "    return (s, s[:threshold_terms])[threshold_terms > len(s)]"
   ]
  }
 ],
 "metadata": {
  "kernelspec": {
   "display_name": "Python 3",
   "language": "python",
   "name": "python3"
  },
  "language_info": {
   "codemirror_mode": {
    "name": "ipython",
    "version": 3
   },
   "file_extension": ".py",
   "mimetype": "text/x-python",
   "name": "python",
   "nbconvert_exporter": "python",
   "pygments_lexer": "ipython3",
   "version": "3.10.11"
  },
  "orig_nbformat": 4
 },
 "nbformat": 4,
 "nbformat_minor": 2
}
